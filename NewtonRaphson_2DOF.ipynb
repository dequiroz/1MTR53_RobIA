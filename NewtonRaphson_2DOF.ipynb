{
  "cells": [
    {
      "cell_type": "markdown",
      "metadata": {
        "id": "view-in-github",
        "colab_type": "text"
      },
      "source": [
        "<a href=\"https://colab.research.google.com/github/dequiroz/1MTR53_RobIA/blob/main/NewtonRaphson_2DOF.ipynb\" target=\"_parent\"><img src=\"https://colab.research.google.com/assets/colab-badge.svg\" alt=\"Open In Colab\"/></a>"
      ]
    },
    {
      "cell_type": "markdown",
      "source": [
        "<img src=\"https://drive.google.com/uc?export=view&id=1FsTa2YzWwxY-HBkd2EOXAlkPJ1zpikWv\" alt=\"drawing\" width=\"150\"/>\n",
        "\n",
        "\n",
        "<p align=\"center\">\n",
        "<img src=\"https://drive.google.com/uc?export=view&id=1VBn7nKlruxCPLHH_UuD8B2pkvKP7JLRd\" alt=\"drawing\" width=\"800\"/>\n",
        "\n",
        "\n",
        "</br>\n",
        "\n",
        "<img src=\"https://drive.google.com/uc?export=view&id=1tpg1CJh4or-VMrY-Qip25hgedgwy1Y8-\" alt=\"drawing\" width=\"800\"/>\n",
        "</p>\n",
        "\n",
        "\n",
        "#Newton-Raphson para Cinemática Inversa en robots manipuladores\n",
        "* Diego Quiroz Velasquez\n",
        "* Pontificia Universidad Católica del Perú\n",
        "* Sección Ingeniería Mecatrónica\n",
        "\n",
        "\n",
        "---\n",
        "Este archivo describe ...\n",
        "\n",
        "<img src=\"https://drive.google.com/uc?export=view&id=1vgFoFHEKMN0WcAFlKS2hPMg2KuBm3sp9\" alt=\"drawing\"/>\n",
        "\n"
      ],
      "metadata": {
        "id": "uu-6XcVITUGk"
      }
    },
    {
      "cell_type": "code",
      "source": [
        "# @title Historial de versiones\n",
        "\"\"\"\n",
        "Historial de versiones:\n",
        "v1.0 - 2025-03-01 - Version Inicial (Rodrigo Carabajal)\n",
        "v1.1 - 2025-04-27 - Dar formato del curso (Diego Quiroz)\n",
        "                    Limpiar y reordenar código.\n",
        "\"\"\""
      ],
      "metadata": {
        "colab": {
          "base_uri": "https://localhost:8080/",
          "height": 54
        },
        "id": "SoFQCki-U6o1",
        "outputId": "3337fc47-21e6-4b04-b800-24867152d306"
      },
      "execution_count": 27,
      "outputs": [
        {
          "output_type": "execute_result",
          "data": {
            "text/plain": [
              "'\\nHistorial de versiones:\\nv1.0 - 2025-03-01 - Version Inicial (Rodrigo Carabajal)\\nv1.1 - 2025-04-27 - Dar formato del curso (Diego Quiroz)\\n                    Limpiar y reordenar código.\\n'"
            ],
            "application/vnd.google.colaboratory.intrinsic+json": {
              "type": "string"
            }
          },
          "metadata": {},
          "execution_count": 27
        }
      ]
    },
    {
      "cell_type": "markdown",
      "metadata": {
        "id": "dmB8RhiMPu7p"
      },
      "source": [
        "##MÉTODO NEWTON - RAPHSON Aplicado a brazo robot de 2GDL"
      ]
    },
    {
      "cell_type": "code",
      "execution_count": 1,
      "metadata": {
        "id": "pb66I_lzPu7s"
      },
      "outputs": [],
      "source": [
        "import numpy as np\n",
        "import matplotlib.pyplot as plt"
      ]
    },
    {
      "cell_type": "code",
      "execution_count": 2,
      "metadata": {
        "id": "71uka0xlPu7u"
      },
      "outputs": [],
      "source": [
        "# =============================================================================\n",
        "# Se define la función para calcular la cinemática directa del manipulador de\n",
        "# 2 grados de libertad RR\n",
        "# =============================================================================\n",
        "def cinematica_directa_2DOF(q, L):\n",
        "    '''\n",
        "    Aplica cinemática directa para calcular la posición del efector final para\n",
        "    un robot manipulador de 2 grados de libertad, dado los ángulos de articulación\n",
        "\n",
        "    Parámetros:\n",
        "       q (np.array): ángulo de giro de cada articulación en radianes [q1, q2]\n",
        "       L (np.array): dimensiones de los eslabones [l1, l2]\n",
        "\n",
        "    Retorna:\n",
        "       np.array: Coordenadas [x, y] de la posición del efector final\n",
        "    '''\n",
        "\n",
        "    x = L[0] * np.cos(q[0]) + L[1] * np.cos(q[0] + q[1])\n",
        "    y = L[0] * np.sin(q[0]) + L[1] * np.sin(q[0] + q[1])\n",
        "\n",
        "    return np.array([x, y])"
      ]
    },
    {
      "cell_type": "code",
      "execution_count": 3,
      "metadata": {
        "id": "018RqBQ1Pu7v"
      },
      "outputs": [],
      "source": [
        "# =============================================================================\n",
        "# Se define la función para calcular el jacobiano del manipulador de 2 grados\n",
        "# de libertad RR\n",
        "# =============================================================================\n",
        "def jacobiano_2DOF(q, L):\n",
        "  '''\n",
        "  Calcula el jacobiano del brazo planar de 2GDL\n",
        "\n",
        "  Parámetros:\n",
        "      q (np.array): ángulo de giro de cada articulación en radianes [q1, q2]\n",
        "      L (np.array): dimensiones de los eslabones [l1, l2]\n",
        "\n",
        "  Retorna:\n",
        "      Una matriz 2x2 que representa el Jacobiano del robot.\n",
        "  '''\n",
        "  l1 = L[0]\n",
        "  l2 = L[1]\n",
        "  q1 = q[0]\n",
        "  q2 = q[1]\n",
        "  J = np.array([[-l1 * np.sin(q1) - l2 * np.sin(q1 + q2), -l2 * np.sin(q1 + q2)],\n",
        "                [l1 * np.cos(q1) + l2 * np.cos(q1 + q2), l2 * np.cos(q1 + q2)]])\n",
        "  return J"
      ]
    },
    {
      "cell_type": "code",
      "execution_count": 4,
      "metadata": {
        "id": "KemQgyE8Pu7w"
      },
      "outputs": [],
      "source": [
        "def constraints(q):\n",
        "    \"\"\"Ajusta los ángulos para que estén en el rango [-pi, pi]\"\"\"\n",
        "    return np.mod(q + np.pi, 2 * np.pi) - np.pi"
      ]
    },
    {
      "cell_type": "code",
      "execution_count": 20,
      "metadata": {
        "id": "0GrHc9nwPu7x"
      },
      "outputs": [],
      "source": [
        "# =============================================================================\n",
        "# Función de Cinemática Inversa para un manipulador de 2 grados de libertad RR\n",
        "# Emplea el método de Newton-Raphson\n",
        "# =============================================================================\n",
        "def IK_NR_2DOF(x_deseado, q_inicial, L, max_iteraciones=100, epsilon=1e-6):\n",
        "  '''\n",
        "  Resuelve la Cinemática Inversa usando Newton-Raphson con restricciones en los\n",
        "  ángulos para un robot planar de 2GDL\n",
        "  '''\n",
        "  q = np.array(q_inicial)\n",
        "\n",
        "  for i in range(max_iteraciones):\n",
        "    x_actual = cinematica_directa_2DOF(q, L)\n",
        "    error = x_deseado - x_actual\n",
        "\n",
        "    if np.linalg.norm(error) < epsilon:  # Convergencia\n",
        "      print(\"Solución encontrada en\", i, \"iteraciones\")\n",
        "      return q  # Devuelve los ángulos y el número de iteraciones\n",
        "\n",
        "    J = jacobiano_2DOF(q, L)\n",
        "    #J_inv = np.linalg.inv(J)  # Inversa del jacobiano\n",
        "    J_inv = np.linalg.pinv(J)  # Pseudoinversa del jacobiano\n",
        "    q = q + J_inv @ error  # Actualización de Newton-Raphson\n",
        "\n",
        "    # Aplicar restricciones de ángulo (-pi a pi)\n",
        "    q = constraints(q)\n",
        "\n",
        "  print(\"No convergió en\", max_iteraciones, \"iteraciones\")\n",
        "  return q"
      ]
    },
    {
      "cell_type": "code",
      "execution_count": 24,
      "metadata": {
        "id": "BKs25ecGPu7y",
        "outputId": "448d425a-1650-46e6-d2dd-6d78d24efcfc",
        "colab": {
          "base_uri": "https://localhost:8080/"
        }
      },
      "outputs": [
        {
          "output_type": "stream",
          "name": "stdout",
          "text": [
            "Solución encontrada en 7 iteraciones\n",
            "La posicion alcanzada fue: [0.5        0.49999999]\n",
            "Ángulo q1 = -24.30°\n",
            "Ángulo q2 = 138.59°\n"
          ]
        }
      ],
      "source": [
        "# Parámetros del robot de 2 grados de libertad (2DOF)\n",
        "longitudes_eslabones = [1, 1]  # Longitudes de los eslabones del robot\n",
        "estimacion_inicial_deg = [10, 10]  # Estimación inicial en grados\n",
        "posicion_objetivo = np.array([0.5, 0.5])  # Posición deseada del efector final\n",
        "\n",
        "# Conversión de la estimación inicial a radianes\n",
        "estimacion_inicial_rad = np.deg2rad(estimacion_inicial_deg)\n",
        "\n",
        "# Cálculo de la solución de la cinemática inversa\n",
        "solucion_q = IK_NR_2DOF(posicion_objetivo, estimacion_inicial_rad, longitudes_eslabones)\n",
        "\n",
        "# Cálculo de la posición alcanzada mediante cinemática directa\n",
        "posicion_alcanzada = cinematica_directa_2DOF(solucion_q, longitudes_eslabones)\n",
        "\n",
        "print(f\"La posicion alcanzada fue: {posicion_alcanzada}\")\n",
        "print(f\"Ángulo q1 = {np.rad2deg(solucion_q[0]):.2f}°\")\n",
        "print(f\"Ángulo q2 = {np.rad2deg(solucion_q[1]):.2f}°\")"
      ]
    },
    {
      "cell_type": "markdown",
      "metadata": {
        "id": "zrJoy3BbPu71"
      },
      "source": [
        "GRAFICAR LA SOLUCIÓN"
      ]
    },
    {
      "cell_type": "code",
      "execution_count": 26,
      "metadata": {
        "id": "15aMb11XPu72",
        "outputId": "daf403e5-a142-4cf6-d79f-09480561cf04",
        "colab": {
          "base_uri": "https://localhost:8080/",
          "height": 452
        }
      },
      "outputs": [
        {
          "output_type": "display_data",
          "data": {
            "text/plain": [
              "<Figure size 640x480 with 1 Axes>"
            ],
            "image/png": "[encoded data removed]"
          },
          "metadata": {}
        }
      ],
      "source": [
        "# Función para visualizar el robot 2DOF\n",
        "def plot_robot_2DOF(q, L):\n",
        "    \"\"\"Visualiza el brazo robótico de 2DOF en 2D\"\"\"\n",
        "    # Calculamos las posiciones de los eslabones con los ángulos\n",
        "    x0, y0 = 0, 0  # Origen (base del brazo)\n",
        "    x1 = L[0] * np.cos(q[0])\n",
        "    y1 = L[0] * np.sin(q[0])\n",
        "    x2 = x1 + L[1] * np.cos(q[0] + q[1])\n",
        "    y2 = y1 + L[1] * np.sin(q[0] + q[1])\n",
        "\n",
        "    # Dibujar el brazo robótico\n",
        "    plt.figure()\n",
        "    plt.plot([x0, x1], [y0, y1], 'ro-', label='Eslabón 1')  # graficar el eslabón 1\n",
        "    plt.plot([x1, x2], [y1, y2], 'go-', label='Eslabón 2')  # graficar el eslabón 2\n",
        "    plt.plot(x2, y2, 'ko', label='Efector Final')  # Efector final\n",
        "    plt.xlim(-np.sum(L), np.sum(L))\n",
        "    plt.ylim(-np.sum(L), np.sum(L))\n",
        "    plt.axhline(0, color='black',linewidth=0.5)\n",
        "    plt.axvline(0, color='black',linewidth=0.5)\n",
        "    plt.grid(True)\n",
        "    plt.legend()\n",
        "    plt.title('Posición del Brazo Robótico Planar de 2GDL')\n",
        "    plt.show()\n",
        "\n",
        "# Visualizar el brazo con la solución obtenida\n",
        "plot_robot_2DOF(solucion_q, longitudes_eslabones)"
      ]
    },
    {
      "cell_type": "markdown",
      "source": [
        "##MÉTODO NEWTON - RAPHSON Aplicado a brazo robot de 3GDL"
      ],
      "metadata": {
        "id": "15xxCjHveDTW"
      }
    },
    {
      "cell_type": "code",
      "execution_count": 29,
      "metadata": {
        "id": "w2O3wjTweNTP"
      },
      "outputs": [],
      "source": [
        "# =============================================================================\n",
        "# Se define la función para calcular la cinemática directa del manipulador de\n",
        "# 3 grados de libertad RRR\n",
        "# =============================================================================\n",
        "def cinematica_directa_3DOF(q, L):\n",
        "    '''\n",
        "    Aplica cinemática directa para calcular la posición del efector final para\n",
        "    un robot manipulador de 3 grados de libertad, dado los ángulos de articulación\n",
        "\n",
        "    Parámetros:\n",
        "       q (np.array): ángulo de giro de cada articulación en radianes [q1, q2, q3]\n",
        "       L (np.array): dimensiones de los eslabones [l1, l2, l3]\n",
        "\n",
        "    Retorna:\n",
        "       np.array: Coordenadas [x, y] de la posición del efector final\n",
        "    '''\n",
        "\n",
        "    x = L[0] * np.cos(q[0]) + L[1] * np.cos(q[0] + q[1]) + L[2] * np.cos(q[0] + q[1] + q[2])\n",
        "    y = L[0] * np.sin(q[0]) + L[1] * np.sin(q[0] + q[1]) + L[2] * np.sin(q[0] + q[1] + q[2])\n",
        "\n",
        "    return np.array([x, y])"
      ]
    },
    {
      "cell_type": "code",
      "execution_count": 28,
      "metadata": {
        "id": "lONoF0yveNTQ"
      },
      "outputs": [],
      "source": [
        "# =============================================================================\n",
        "# Se define la función para calcular el jacobiano del manipulador de 3 grados\n",
        "# de libertad RRR\n",
        "# =============================================================================\n",
        "def jacobiano_3DOF(q, L):\n",
        "  '''\n",
        "  Calcula el jacobiano del brazo planar de 3GDL\n",
        "\n",
        "  Parámetros:\n",
        "      q (np.array): ángulo de giro de cada articulación en radianes [q1, q2, q3]\n",
        "      L (np.array): dimensiones de los eslabones [l1, l2, l3]\n",
        "\n",
        "  Retorna:\n",
        "      Una matriz 3x3 que representa el Jacobiano del robot.\n",
        "  '''\n",
        "  q1, q2, q3 = q\n",
        "  L1, L2, L3 = L\n",
        "  # Precalcular sumas de ángulos\n",
        "  q12 = q1 + q2\n",
        "  q123 = q12 + q3\n",
        "\n",
        "  # Cálculo del Jacobiano\n",
        "  J = np.array([\n",
        "        [-L1 * np.sin(q1) - L2 * np.sin(q12) - L3 * np.sin(q123),\n",
        "         -L2 * np.sin(q12) - L3 * np.sin(q123),\n",
        "         -L3 * np.sin(q123)],\n",
        "\n",
        "        [L1 * np.cos(q1) + L2 * np.cos(q12) + L3 * np.cos(q123),\n",
        "         L2 * np.cos(q12) + L3 * np.cos(q123),\n",
        "         L3 * np.cos(q123)]\n",
        "    ])\n",
        "  return J"
      ]
    },
    {
      "cell_type": "code",
      "source": [
        "def IK_NR_3DOF(x_deseado, q_inicial, L, max_iteraciones=100, epsilon=1e-6):\n",
        "    \"\"\"Resuelve la Cinemática Inversa usando Newton-Raphson con restricciones en los ángulos (2DOF)\"\"\"\n",
        "\n",
        "    q = np.array(q_inicial)\n",
        "\n",
        "    for i in range(max_iteraciones):\n",
        "        x_actual = cinematica_directa_3DOF(q, L)\n",
        "        error = x_deseado - x_actual\n",
        "\n",
        "        if np.linalg.norm(error) < epsilon:  # Convergencia\n",
        "            print(\"Solución encontrada en\", i, \"iteraciones\")\n",
        "            return q  # Devuelve los ángulos y el número de iteraciones\n",
        "\n",
        "        J = jacobiano_3DOF(q, L)\n",
        "        #J_inv = np.linalg.inv(J)\n",
        "        J_inv = np.linalg.pinv(J) # Pseudoinversa del jacobiano\n",
        "        q += J_inv @ error  # Actualización de Newton-Raphson\n",
        "\n",
        "        # Aplicar restricciones de ángulo (-pi a pi)\n",
        "        q = constraints(q)\n",
        "\n",
        "    print(\"No convergió en\", max_iteraciones, \"iteraciones\")\n",
        "    return q"
      ],
      "metadata": {
        "id": "VSM1spIUfI-4"
      },
      "execution_count": 30,
      "outputs": []
    },
    {
      "cell_type": "code",
      "source": [
        "# Parámetros del robot de 3 grados de libertad (3DOF)\n",
        "longitudes_eslabones = [1, 1, 1]  # Longitudes de los eslabones del robot\n",
        "estimacion_inicial_deg = [10, 10, 10]  # Estimación inicial en grados\n",
        "posicion_objetivo = np.array([0.5, 2.1])  # Posición deseada del efector final\n",
        "\n",
        "# Conversión de la estimación inicial a radianes\n",
        "estimacion_inicial_rad = np.deg2rad(estimacion_inicial_deg)\n",
        "\n",
        "# Cálculo de la solución de la cinemática inversa\n",
        "solucion_q = IK_NR_3DOF(posicion_objetivo, estimacion_inicial_rad, longitudes_eslabones)\n",
        "\n",
        "# Cálculo de la posición alcanzada mediante cinemática directa\n",
        "posicion_alcanzada = cinematica_directa_3DOF(solucion_q, longitudes_eslabones)\n",
        "\n",
        "print(f\"La posicion alcanzada fue: {posicion_alcanzada}\")\n",
        "print(f\"Ángulo q1 = {np.rad2deg(solucion_q[0]):.2f}°\")\n",
        "print(f\"Ángulo q2 = {np.rad2deg(solucion_q[1]):.2f}°\")\n",
        "print(f\"Ángulo q3 = {np.rad2deg(solucion_q[2]):.2f}°\")"
      ],
      "metadata": {
        "id": "A2asLYndfLQI",
        "outputId": "b61dadd6-cc6c-4d59-cf88-2d3bc1a280a3",
        "colab": {
          "base_uri": "https://localhost:8080/"
        }
      },
      "execution_count": 35,
      "outputs": [
        {
          "output_type": "stream",
          "name": "stdout",
          "text": [
            "Solución encontrada en 5 iteraciones\n",
            "La posicion alcanzada fue: [0.50000001 2.09999999]\n",
            "Ángulo q1 = 143.45°\n",
            "Ángulo q2 = -88.79°\n",
            "Ángulo q3 = -11.13°\n"
          ]
        }
      ]
    },
    {
      "cell_type": "code",
      "source": [
        "def plot_robot(q, L):\n",
        "    \"\"\"Visualiza el brazo robótico en 2D\"\"\"\n",
        "    # Calculamos las posiciones de los eslabones\n",
        "    x0, y0 = 0, 0  # Origen (base del brazo)\n",
        "    x1 = L[0] * np.cos(q[0])\n",
        "    y1 = L[0] * np.sin(q[0])\n",
        "    x2 = x1 + L[1] * np.cos(q[0] + q[1])\n",
        "    y2 = y1 + L[1] * np.sin(q[0] + q[1])\n",
        "    x3 = x2 + L[2] * np.cos(q[0] + q[1] + q[2])\n",
        "    y3 = y2 + L[2] * np.sin(q[0] + q[1] + q[2])\n",
        "\n",
        "    # Dibujar el brazo robótico\n",
        "    plt.figure()\n",
        "    plt.plot([x0, x1], [y0, y1], 'ro-', label='Eslabón 1')  # Eslabón 1\n",
        "    plt.plot([x1, x2], [y1, y2], 'go-', label='Eslabón 2')  # Eslabón 2\n",
        "    plt.plot([x2, x3], [y2, y3], 'bo-', label='Eslabón 3')  # Eslabón 3\n",
        "    plt.plot(x3, y3, 'ko', label='Efector Final')  # Efector final\n",
        "    plt.xlim(-np.sum(L), np.sum(L))\n",
        "    plt.ylim(-np.sum(L), np.sum(L))\n",
        "    plt.axhline(0, color='black',linewidth=0.5)\n",
        "    plt.axvline(0, color='black',linewidth=0.5)\n",
        "    plt.grid(True)\n",
        "    plt.legend()\n",
        "    plt.title('Posición del Brazo Robótico Planar de 3GDL')\n",
        "    plt.show()\n",
        "\n",
        "# Visualizar el brazo con la solución obtenida\n",
        "plot_robot(solucion_q, longitudes_eslabones)"
      ],
      "metadata": {
        "id": "GtX6Y4jxfrU0",
        "outputId": "d7b5eab4-5045-4474-8a11-3382b968a956",
        "colab": {
          "base_uri": "https://localhost:8080/",
          "height": 452
        }
      },
      "execution_count": 38,
      "outputs": [
        {
          "output_type": "display_data",
          "data": {
            "text/plain": [
              "<Figure size 640x480 with 1 Axes>"
            ],
            "image/png": "[encoded data removed]"
          },
          "metadata": {}
        }
      ]
    }
  ],
  "metadata": {
    "kernelspec": {
      "display_name": "env",
      "language": "python",
      "name": "python3"
    },
    "language_info": {
      "codemirror_mode": {
        "name": "ipython",
        "version": 3
      },
      "file_extension": ".py",
      "mimetype": "text/x-python",
      "name": "python",
      "nbconvert_exporter": "python",
      "pygments_lexer": "ipython3",
      "version": "3.12.7"
    },
    "colab": {
      "provenance": [],
      "include_colab_link": true
    }
  },
  "nbformat": 4,
  "nbformat_minor": 0
}