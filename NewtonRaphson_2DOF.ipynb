{
  "cells": [
    {
      "cell_type": "markdown",
      "metadata": {
        "id": "view-in-github",
        "colab_type": "text"
      },
      "source": [
        "<a href=\"https://colab.research.google.com/github/dequiroz/1MTR53_RobIA/blob/main/NewtonRaphson_2DOF.ipynb\" target=\"_parent\"><img src=\"https://colab.research.google.com/assets/colab-badge.svg\" alt=\"Open In Colab\"/></a>"
      ]
    },
    {
      "cell_type": "markdown",
      "source": [
        "<img src=\"https://drive.google.com/uc?export=view&id=1FsTa2YzWwxY-HBkd2EOXAlkPJ1zpikWv\" alt=\"drawing\" width=\"150\"/>\n",
        "\n",
        "\n",
        "<p align=\"center\">\n",
        "<img src=\"https://drive.google.com/uc?export=view&id=1VBn7nKlruxCPLHH_UuD8B2pkvKP7JLRd\" alt=\"drawing\" width=\"800\"/>\n",
        "\n",
        "\n",
        "</br>\n",
        "\n",
        "<img src=\"https://drive.google.com/uc?export=view&id=1tpg1CJh4or-VMrY-Qip25hgedgwy1Y8-\" alt=\"drawing\" width=\"800\"/>\n",
        "</p>\n",
        "\n",
        "\n",
        "#Newton-Raphson para Cinemática Inversa en robots manipuladores\n",
        "* Diego Quiroz Velasquez\n",
        "* Pontificia Universidad Católica del Perú\n",
        "* Sección Ingeniería Mecatrónica\n",
        "\n",
        "\n",
        "---\n",
        "Este archivo describe ...\n",
        "\n",
        "<img src=\"https://drive.google.com/uc?export=view&id=1vgFoFHEKMN0WcAFlKS2hPMg2KuBm3sp9\" alt=\"drawing\"/>\n",
        "\n"
      ],
      "metadata": {
        "id": "uu-6XcVITUGk"
      }
    },
    {
      "cell_type": "code",
      "source": [
        "# @title Historial de versiones\n",
        "\"\"\"\n",
        "Historial de versiones:\n",
        "v1.0 - 2025-03-01 - Version Inicial (Rodrigo Carabajal)\n",
        "v1.1 - 2025-04-27 - Dar formato del curso (Diego Quiroz)\n",
        "                    Limpiar y reordenar código.\n",
        "\"\"\""
      ],
      "metadata": {
        "colab": {
          "base_uri": "https://localhost:8080/",
          "height": 54
        },
        "id": "SoFQCki-U6o1",
        "outputId": "357c9b6b-f0a4-4068-d4dc-499535a9db12"
      },
      "execution_count": 1,
      "outputs": [
        {
          "output_type": "execute_result",
          "data": {
            "text/plain": [
              "'\\nHistorial de versiones:\\nv1.0 - 2025-03-01 - Version Inicial (Rodrigo Carabajal)\\nv1.1 - 2025-04-27 - Dar formato del curso (Diego Quiroz)\\n                    Limpiar y reordenar código.\\n'"
            ],
            "application/vnd.google.colaboratory.intrinsic+json": {
              "type": "string"
            }
          },
          "metadata": {},
          "execution_count": 1
        }
      ]
    },
    {
      "cell_type": "markdown",
      "metadata": {
        "id": "dmB8RhiMPu7p"
      },
      "source": [
        "2 GDL CON MÉTODO NEWTON - RAPHSON"
      ]
    },
    {
      "cell_type": "code",
      "execution_count": 2,
      "metadata": {
        "id": "pb66I_lzPu7s"
      },
      "outputs": [],
      "source": [
        "import numpy as np\n",
        "import matplotlib.pyplot as plt"
      ]
    },
    {
      "cell_type": "code",
      "execution_count": 3,
      "metadata": {
        "id": "71uka0xlPu7u"
      },
      "outputs": [],
      "source": [
        "# =============================================================================\n",
        "# Se define la función para calcular la cinemática directa del manipulador de\n",
        "# 2 grados de libertad RR\n",
        "# =============================================================================\n",
        "def cinematica_directa_2DOF(q, L):\n",
        "    '''\n",
        "    Aplica cinemática directa para calcular la posición del efector final para\n",
        "    un robot manipulador de 2 grados de libertad, dado los ángulos de articulación\n",
        "\n",
        "    Parámetros:\n",
        "       q (np.array): ángulo de giro de cada articulación en radianes [q1, q2]\n",
        "       L (np.array): dimensiones de los eslabones [l1, l2]\n",
        "\n",
        "    Retorna:\n",
        "       np.array: Coordenadas [x, y] de la posición del efector final\n",
        "    '''\n",
        "\n",
        "    x = L[0] * np.cos(q[0]) + L[1] * np.cos(q[0] + q[1])\n",
        "    y = L[0] * np.sin(q[0]) + L[1] * np.sin(q[0] + q[1])\n",
        "\n",
        "    return np.array([x, y])"
      ]
    },
    {
      "cell_type": "code",
      "execution_count": 4,
      "metadata": {
        "id": "018RqBQ1Pu7v"
      },
      "outputs": [],
      "source": [
        "# =============================================================================\n",
        "# Se define la función para calcular el jacobiano del manipulador de 2 grados\n",
        "# de libertad RR\n",
        "# =============================================================================\n",
        "def jacobiano_2DOF(q, L):\n",
        "  '''\n",
        "  Calcula el jacobiano del brazo planar de 2GDL\n",
        "\n",
        "  Parámetros:\n",
        "      q (np.array): ángulo de giro de cada articulación en radianes [q1, q2]\n",
        "      L (np.array): dimensiones de los eslabones [l1, l2]\n",
        "\n",
        "  Retorna:\n",
        "      Una matriz 2x2 que representa el Jacobiano del robot.\n",
        "  '''\n",
        "  l1 = L[0]\n",
        "  l2 = L[1]\n",
        "  q1 = q[0]\n",
        "  q2 = q[1]\n",
        "  J = np.array([[-l1 * np.sin(q1) - l2 * np.sin(q1 + q2), -l2 * np.sin(q1 + q2)],\n",
        "                [l1 * np.cos(q1) + l2 * np.cos(q1 + q2), l2 * np.cos(q1 + q2)]])\n",
        "  return J"
      ]
    },
    {
      "cell_type": "code",
      "execution_count": 5,
      "metadata": {
        "id": "KemQgyE8Pu7w"
      },
      "outputs": [],
      "source": [
        "def constraints(q):\n",
        "    \"\"\"Ajusta los ángulos para que estén en el rango [-pi, pi]\"\"\"\n",
        "    return np.mod(q + np.pi, 2 * np.pi) - np.pi"
      ]
    },
    {
      "cell_type": "code",
      "execution_count": 13,
      "metadata": {
        "id": "0GrHc9nwPu7x"
      },
      "outputs": [],
      "source": [
        "# =============================================================================\n",
        "# Función de Cinemática Inversa para un manipulador de 2 grados de libertad RR\n",
        "# Emplea el método de Newton-Raphson\n",
        "# =============================================================================\n",
        "def IK_NR_2DOF(x_deseado, q_inicial, L, max_iteraciones=100, epsilon=1e-6):\n",
        "  '''\n",
        "  Resuelve la Cinemática Inversa usando Newton-Raphson con restricciones en los\n",
        "  ángulos para un robot planar de 2GDL\n",
        "  '''\n",
        "  q = np.array(q_inicial)\n",
        "\n",
        "  for i in range(max_iteraciones):\n",
        "    x_actual = cinematica_directa_2DOF(q, L)\n",
        "\n",
        "    if np.linalg.norm(x_deseado - x_actual) < epsilon:  # Convergencia\n",
        "            print(\"Solución encontrada en\", i, \"iteraciones\")\n",
        "            return q  # Devuelve los ángulos y el número de iteraciones\n",
        "\n",
        "    J = jacobiano_2DOF(q, L)\n",
        "    J_inv = np.linalg.inv(J)  # Inversa del jacobiano\n",
        "    q += J_inv @ (x_deseado - x_actual)  # Actualización de Newton-Raphson\n",
        "\n",
        "    # Aplicar restricciones de ángulo (-pi a pi)\n",
        "    q = constraints(q)\n",
        "\n",
        "  print(\"No convergió en\", max_iteraciones, \"iteraciones\")\n",
        "  return q"
      ]
    },
    {
      "cell_type": "code",
      "execution_count": 14,
      "metadata": {
        "id": "BKs25ecGPu7y",
        "outputId": "2319798e-e746-488e-bba0-00c2ef15e919",
        "colab": {
          "base_uri": "https://localhost:8080/"
        }
      },
      "outputs": [
        {
          "output_type": "stream",
          "name": "stdout",
          "text": [
            "Solución encontrada en 7 iteraciones\n",
            "La posicion alcanzada fue: [0.5        0.49999999]\n",
            "q1 = -24.295190089921817°\n",
            "q2 = 138.59°\n"
          ]
        }
      ],
      "source": [
        "L = [1, 1]  # Longitudes de los eslabones (para un robot 2DOF)\n",
        "q_0 = [10, 10]  # Estimación inicial\n",
        "goal = np.array([0.5, 0.5])  # Posición deseada\n",
        "\n",
        "q_0 = np.array([np.deg2rad(q_0[0]), np.deg2rad(q_0[1])])\n",
        "q_solution = IK_NR_2DOF(goal, q_0, L)\n",
        "\n",
        "posicion_alcanzada = cinematica_directa_2DOF(q_solution, L)\n",
        "print(f\"La posicion alcanzada fue: {posicion_alcanzada}\")\n",
        "print(f\"q1 = {np.rad2deg(q_solution[0])}°\")\n",
        "print(f\"q2 = {np.rad2deg(q_solution[1]):.2f}°\")"
      ]
    },
    {
      "cell_type": "markdown",
      "metadata": {
        "id": "zrJoy3BbPu71"
      },
      "source": [
        "GRAFICAR LA SOLUCIÓN"
      ]
    },
    {
      "cell_type": "code",
      "execution_count": null,
      "metadata": {
        "id": "15aMb11XPu72",
        "outputId": "3256b576-480f-4886-9f03-5c65d6218a98"
      },
      "outputs": [
        {
          "data": {
            "image/png": "[encoded data removed]",
            "text/plain": [
              "<Figure size 640x480 with 1 Axes>"
            ]
          },
          "metadata": {},
          "output_type": "display_data"
        }
      ],
      "source": [
        "# Función para visualizar el robot 2DOF\n",
        "def plot_robot_2DOF(q, L):\n",
        "    \"\"\"Visualiza el brazo robótico de 2DOF en 2D\"\"\"\n",
        "    # Calculamos las posiciones de los eslabones con los ángulos\n",
        "    x0, y0 = 0, 0  # Origen (base del brazo)\n",
        "    x1 = L[0] * np.cos(q[0])\n",
        "    y1 = L[0] * np.sin(q[0])\n",
        "    x2 = x1 + L[1] * np.cos(q[0] + q[1])\n",
        "    y2 = y1 + L[1] * np.sin(q[0] + q[1])\n",
        "\n",
        "    # Dibujar el brazo robótico\n",
        "    plt.figure()\n",
        "    plt.plot([x0, x1], [y0, y1], 'ro-', label='Eslabón 1')  # graficar el eslabón 1\n",
        "    plt.plot([x1, x2], [y1, y2], 'go-', label='Eslabón 2')  # graficar el eslabón 2\n",
        "    plt.plot(x2, y2, 'ko', label='Efector Final')  # Efector final\n",
        "    plt.xlim(-np.sum(L), np.sum(L))\n",
        "    plt.ylim(-np.sum(L), np.sum(L))\n",
        "    plt.axhline(0, color='black',linewidth=0.5)\n",
        "    plt.axvline(0, color='black',linewidth=0.5)\n",
        "    plt.grid(True)\n",
        "    plt.legend()\n",
        "    plt.title('Posición del Brazo Robótico Planar de 2GDL')\n",
        "    plt.show()\n",
        "\n",
        "# Visualizar el brazo con la solución obtenida\n",
        "plot_robot_2DOF(q_solution, L)"
      ]
    }
  ],
  "metadata": {
    "kernelspec": {
      "display_name": "env",
      "language": "python",
      "name": "python3"
    },
    "language_info": {
      "codemirror_mode": {
        "name": "ipython",
        "version": 3
      },
      "file_extension": ".py",
      "mimetype": "text/x-python",
      "name": "python",
      "nbconvert_exporter": "python",
      "pygments_lexer": "ipython3",
      "version": "3.12.7"
    },
    "colab": {
      "provenance": [],
      "include_colab_link": true
    }
  },
  "nbformat": 4,
  "nbformat_minor": 0
}