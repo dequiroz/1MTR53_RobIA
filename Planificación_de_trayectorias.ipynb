{
  "nbformat": 4,
  "nbformat_minor": 0,
  "metadata": {
    "colab": {
      "provenance": [],
      "toc_visible": true,
      "include_colab_link": true
    },
    "kernelspec": {
      "name": "python3",
      "display_name": "Python 3"
    },
    "language_info": {
      "name": "python"
    }
  },
  "cells": [
    {
      "cell_type": "markdown",
      "metadata": {
        "id": "view-in-github",
        "colab_type": "text"
      },
      "source": [
        "<a href=\"https://colab.research.google.com/github/dequiroz/1MTR53_RobIA/blob/main/Planificaci%C3%B3n_de_trayectorias.ipynb\" target=\"_parent\"><img src=\"https://colab.research.google.com/assets/colab-badge.svg\" alt=\"Open In Colab\"/></a>"
      ]
    },
    {
      "cell_type": "markdown",
      "source": [
        "<img src=\"https://drive.google.com/uc?export=view&id=1FsTa2YzWwxY-HBkd2EOXAlkPJ1zpikWv\" alt=\"drawing\" width=\"150\"/>\n",
        "\n",
        "\n",
        "<p align=\"center\">\n",
        "<img src=\"https://drive.google.com/uc?export=view&id=1VBn7nKlruxCPLHH_UuD8B2pkvKP7JLRd\" alt=\"drawing\" width=\"800\"/>\n",
        "\n",
        "</br>\n",
        "\n",
        "<img src=\"https://drive.google.com/uc?export=view&id=1uF_4x1YqLuS3M0mlh3NrMrEUHvjBMBFw\" alt=\"drawing\" width=\"800\"/>\n",
        "</p>\n",
        "\n",
        "#Planificación de Trayectorias\n",
        "* Diego Quiroz Velasquez\n",
        "* Pontificia Universidad Católica del Perú\n",
        "* Sección Ingeniería Mecatrónica\n",
        "\n",
        "---\n",
        "Este archivo presenta una implementación del algoritmo de Dijkstra y A* aplicados para la planificación de trayectorias en un vehículo movil.\n",
        "\n",
        "<img src=\"https://drive.google.com/uc?export=view&id=1vgFoFHEKMN0WcAFlKS2hPMg2KuBm3sp9\" alt=\"drawing\"/>\n",
        "\n"
      ],
      "metadata": {
        "id": "c4kmmNlPTS2Y"
      }
    },
    {
      "cell_type": "markdown",
      "source": [
        "Se ha visto en clase que los algoritmos de planificación de trayectorias deben mantener una pila en su memoría en la cual van almacenando las celdas disponible a analizar, entre las cuales se selcciona aquella que presenta un menor peso para ser la siguiente a analizar.\n",
        "\n",
        "Determinar la celda con el menor peso impleca realizar una busqueda, proceso que no es eficiente para realizar en python, por lo que si se desea emplear una lista, podemos primero ordenarla mediante la función `sort()` y luego extrar un valor mediante la función `pop()`"
      ],
      "metadata": {
        "id": "gT2oDTAYw6__"
      }
    },
    {
      "cell_type": "markdown",
      "source": [
        "Por defecto, la función `pop()` extra el último valor de una lista, por lo si queremos el valor máx bajo debemos ordenar la lista de mayor a menor. Esto podemos hacerlo con la fución `sort()` empleando el parametro `reverse`"
      ],
      "metadata": {
        "id": "8ryKuvwyzHBr"
      }
    },
    {
      "cell_type": "code",
      "source": [
        "# Se inicializa una lista\n",
        "li = [5, 7, 9, 1, 3]\n",
        "\n",
        "# Se ordena la lista\n",
        "li.sort(reverse = True)\n",
        "\n",
        "print(f'lista ordenada: {li}')\n",
        "print(f'valor más bajo: {li.pop()}')\n",
        "print(f'lista remanente: {li}')"
      ],
      "metadata": {
        "id": "p4nlObqFyq_K",
        "outputId": "3435c306-dc79-4733-b9e8-6ac593925c15",
        "colab": {
          "base_uri": "https://localhost:8080/"
        }
      },
      "execution_count": 1,
      "outputs": [
        {
          "output_type": "stream",
          "name": "stdout",
          "text": [
            "lista ordenada: [9, 7, 5, 3, 1]\n",
            "valor más bajo: 1\n",
            "lista remanente: [9, 7, 5, 3]\n"
          ]
        }
      ]
    },
    {
      "cell_type": "markdown",
      "source": [
        "Una seguna alternativa es indicar a `pop()` el indice del item a extraer"
      ],
      "metadata": {
        "id": "kx9fNQ3pzaPE"
      }
    },
    {
      "cell_type": "code",
      "source": [
        "# Se inicializa una lista\n",
        "li = [5, 7, 9, 1, 3]\n",
        "\n",
        "# Se ordena la lista\n",
        "li.sort()\n",
        "\n",
        "print(f'lista ordenada: {li}')\n",
        "print(f'valor más bajo: {li.pop(0)}')\n",
        "print(f'lista remanente: {li}')"
      ],
      "metadata": {
        "id": "-1USiW59zYno",
        "outputId": "9e4f5013-7c5c-46fb-bff7-150a2a1eadd5",
        "colab": {
          "base_uri": "https://localhost:8080/"
        }
      },
      "execution_count": 2,
      "outputs": [
        {
          "output_type": "stream",
          "name": "stdout",
          "text": [
            "lista ordenada: [1, 3, 5, 7, 9]\n",
            "valor más bajo: 1\n",
            "lista remanente: [3, 5, 7, 9]\n"
          ]
        }
      ]
    },
    {
      "cell_type": "markdown",
      "source": [
        "Esta operación funciona bien para comprender el procedimiento de ordenar una pila y extraer un valor en python; sin embargo durante el resto del archivo emplearemos Heap queue (`heapq`), una estructura que ha sido desarrollada para implementar pilas con prioridad de forma eficiente.\n"
      ],
      "metadata": {
        "id": "mn0W8wgfzkaA"
      }
    },
    {
      "cell_type": "code",
      "execution_count": 3,
      "metadata": {
        "id": "N0GEvIFnTODx",
        "outputId": "517ad35e-23f9-467d-bfc6-e576033e2d0c",
        "colab": {
          "base_uri": "https://localhost:8080/"
        }
      },
      "outputs": [
        {
          "output_type": "stream",
          "name": "stdout",
          "text": [
            "Pila: [1, 3, 9, 7, 5]\n",
            "valor más bajo: 1\n",
            "Pila remanente: [3, 5, 9, 7]\n"
          ]
        }
      ],
      "source": [
        "import heapq\n",
        "\n",
        "# Se inicializa una lista\n",
        "li = [5, 7, 9, 1, 3]\n",
        "\n",
        "#Convertir la lista a una pila\n",
        "heapq.heapify(li)\n",
        "\n",
        "print(f'Pila: {li}')\n",
        "print(f'valor más bajo: {heapq.heappop(li)}')\n",
        "print(f'Pila remanente: {li}')"
      ]
    },
    {
      "cell_type": "markdown",
      "source": [
        "#Algoritmo de Dijkstra"
      ],
      "metadata": {
        "id": "yOmJ0XjR12_b"
      }
    },
    {
      "cell_type": "markdown",
      "source": [
        "A continuación se presentan las funciones para encontrar la ruta óptima (más corta) para navegar un mapa de traversabilidad como el mostrado a continuación. Las casillas negras, representadas por un `0` en el mapa de transibilidad implica la presencia de un obstáculo."
      ],
      "metadata": {
        "id": "YD4miTL_2AQr"
      }
    },
    {
      "cell_type": "code",
      "source": [
        "# @title show_map()\n",
        "import matplotlib.pyplot as plt\n",
        "import numpy as np\n",
        "\n",
        "def show_map(map):\n",
        "  plt.figure(figsize=(2,2))\n",
        "  plt.tick_params(\n",
        "    axis='both',          # changes apply to the x-axis\n",
        "    which='both',      # both major and minor ticks are affected\n",
        "    bottom=False,      # ticks along the bottom edge are off\n",
        "    left=False,         # ticks along the top edge are off\n",
        "    labelbottom=False, # labels along the bottom edge are off\n",
        "    labelleft=False) # labels along the bottom edge are off\n",
        "  plt.imshow(1-np.asarray(map), cmap='Greys',  interpolation='nearest')\n",
        "  plt.savefig('blkwht.png')\n",
        "\n",
        "  plt.show()\n",
        "\n",
        "g = [[1, 1, 0, 1, 1, 1],\n",
        "     [1, 1, 0, 1, 1, 1],\n",
        "     [1, 1, 1, 1, 1, 1],\n",
        "     [1, 1, 0, 0, 0, 1],\n",
        "     [1, 1, 1, 1, 0, 1]]\n",
        "show_map(g)"
      ],
      "metadata": {
        "cellView": "form",
        "id": "XD7XA8Av5obi",
        "outputId": "b391226d-8100-4d20-8d66-ca36c75aaff0",
        "colab": {
          "base_uri": "https://localhost:8080/",
          "height": 166
        }
      },
      "execution_count": 4,
      "outputs": [
        {
          "output_type": "display_data",
          "data": {
            "text/plain": [
              "<Figure size 200x200 with 1 Axes>"
            ],
            "image/png": "[encoded data removed]"
          },
          "metadata": {}
        }
      ]
    },
    {
      "cell_type": "code",
      "source": [
        "# @title funciones auxiliar\n",
        "import heapq # Importamos el módulo heapq para usar una cola de prioridad (min-heap)\n",
        "\n",
        "def initialize_tracking_grids(rows, cols, start):\n",
        "    \"\"\"\n",
        "    Inicializa las grillas para el seguimiento de celdas visitadas, acciones tomadas y costos.\n",
        "\n",
        "    Args:\n",
        "        rows (int): Número de filas en la cuadrícula.\n",
        "        cols (int): Número de columnas en la cuadrícula.\n",
        "        start (list of int): Coordenadas de la celda de inicio [fila, columna].\n",
        "\n",
        "    Returns:\n",
        "        tuple: Cuadrículas de celdas visitados, acciones, orden de exploración y costos.\n",
        "    \"\"\"\n",
        "    visited = [[False] * cols for _ in range(rows)] # Rastrea las celdas que han sido analizadas\n",
        "    visited[start[0]][start[1]] = True\n",
        "    action_taken = [[-1] * cols for _ in range(rows)]  # Rastrear la acción que se realiza para llegar a cada celda\n",
        "    exploration_order = [[-1] * cols for _ in range(rows)]  # Orden de exploración de celdas\n",
        "    cost_grid = [[float('inf')] * cols for _ in range(rows)]  # Cuadrícula de costos inicializada a infinito\n",
        "    cost_grid[start[0]][start[1]] = 0  # El costo para alcanzar la celda de inicio es 0\n",
        "    return visited, action_taken, exploration_order, cost_grid\n",
        "\n",
        "def is_within_bounds(x, y, traversable):\n",
        "    \"\"\"\n",
        "    Comprueba si una posición está dentro de los límites de la cuadrícula.\n",
        "\n",
        "    Args:\n",
        "        x (int): Coordenada de la fila.\n",
        "        y (int): Coordenada de la columna.\n",
        "        traversable (list of list of int): Matriz que indica qué celdas son navegables.\n",
        "\n",
        "    Returns:\n",
        "        bool: True si está dentro de los límites, de lo contrario False.\n",
        "    \"\"\"\n",
        "    return 0 <= x < len(traversable) and 0 <= y < len(traversable[0])\n",
        "\n",
        "def create_path_grid(rows, cols, action_taken, goal, start):\n",
        "    \"\"\"\n",
        "    Retrocede desde el objetivo hasta el inicio para construir la cuadrícula del camino con símbolos de dirección.\n",
        "\n",
        "    Args:\n",
        "        rows (int): Número de filas en la cuadrícula.\n",
        "        cols (int): Número de columnas en la cuadrícula.\n",
        "        action_taken (list of list of int): Cuadrícula que rastrea la acción que lleva a cada celda.\n",
        "        goal (list of int): Coordenadas de la celda objetivo [fila, columna].\n",
        "        start (list of int): Coordenadas de la celda de inicio [fila, columna].\n",
        "\n",
        "    Returns:\n",
        "        list of list of str: Cuadrícula que representa el camino encontrado.\n",
        "    \"\"\"\n",
        "    path_grid = [[' ' for _ in range(cols)] for _ in range(rows)]\n",
        "    path_grid[goal[0]][goal[1]] = '*' # Marca la celda objetivo\n",
        "\n",
        "    x, y = goal\n",
        "    while [x, y] != start:\n",
        "        action = action_taken[x][y]\n",
        "        x, y = x - DIRECTIONS[action][0], y - DIRECTIONS[action][1]\n",
        "        path_grid[x][y] = DIRECTION_SYMBOLS[action]\n",
        "\n",
        "    return path_grid\n",
        "\n",
        "\n",
        "def mostrar_resultados(exploration_order, cost_grid, path):\n",
        "  # Muestra el orden de exploración\n",
        "  print(\"Orden de Exploración:\")\n",
        "  for row in exploration_order:\n",
        "      print(row)\n",
        "\n",
        "  # Muestra la cuadrícula de costos\n",
        "  print(\"\\nCuadrícula de Costos:\")\n",
        "  for row in cost_grid:\n",
        "      print(row)\n",
        "\n",
        "  # Muestra la cuadrícula del camino\n",
        "  print(\"\\nCuadrícula del Camino:\")\n",
        "  for row in path:\n",
        "      print(row)"
      ],
      "metadata": {
        "cellView": "form",
        "id": "ToV9VdJunimu"
      },
      "execution_count": 5,
      "outputs": []
    },
    {
      "cell_type": "markdown",
      "source": [
        "El siguiente código define las funciones de busqueda que se emplearán.\n",
        "\n",
        "1. Direcciones y Símbolos de Movimiento:\n",
        "\n",
        "  *   La variable `DIRECTIONS` contiene las direcciones de movimiento permitidas en la cuadrícula: arriba, izquierda, abajo y derecha.\n",
        "  *   `DIRECTION_SYMBOLS` usa símbolos `('^', '<', 'v', '>')` para representar visualmente estas direcciones en una matriz de salida, lo cual puede ayudar en la interpretación del camino óptimo.\n",
        "\n",
        "2.   Función `search`:\n",
        "\n",
        "  Esta función inicializa las estructuras necesarias y realiza la búsqueda, devolviendo el camino más corto, el orden de exploración de celdas y una grilla de costos acumulados.\n",
        "  La búsqueda se realiza a través de la función `perform_search()`, que busca el objetivo y luego retrocede para construir el camino óptimo.\n",
        "\n",
        "  Estructuras de Datos:\n",
        "      \n",
        "  * visited: matriz que marca las celdas que ya han sido visitadas.\n",
        "  * action_taken: registra la acción (dirección) que conduce a cada celda.\n",
        "  * exploration_order: orden en el que cada celda fue explorada.\n",
        "  * cost_grid: almacena el costo de cada celda\n",
        "\n"
      ],
      "metadata": {
        "id": "hGrQTvnk76rC"
      }
    },
    {
      "cell_type": "code",
      "source": [
        "# Direcciones y símbolos para los movimientos\n",
        "DIRECTIONS = [(-1, 0), (0, -1), (1, 0), (0, 1)]  # arriba, izquierda, abajo, derecha\n",
        "DIRECTION_SYMBOLS = ['^', '<', 'v', '>']\n",
        "\n",
        "def search(traversable, start, goal, cost, max_steps=None, method='dijkstra'):\n",
        "    \"\"\"\n",
        "    Realiza una búsqueda en una grilla para encontrar el camino más corto desde el inicio hasta el objetivo.\n",
        "\n",
        "    parametros:\n",
        "        traversable (list of list of int): Matriz que indica qué celdas son navegables (1) y cuáles no (0).\n",
        "        start (list of int): Coordenadas de la celda de inicio [fila, columna].\n",
        "        goal (list of int): Coordenadas de la celda objetivo [fila, columna].\n",
        "        cost (int): Costo de moverse a una celda adyacente.\n",
        "        max_steps (int, opcional): Número máximo de pasos a explorar antes de detener la búsqueda.\n",
        "\n",
        "    Returns:\n",
        "        tuple: Una tupla que contiene el camino encontrado, el orden de exploración y la grilla de costos.\n",
        "    \"\"\"\n",
        "    rows, cols = len(traversable), len(traversable[0])\n",
        "\n",
        "    # Inicializa las estructuras para el seguimiento\n",
        "    visited, action_taken, exploration_order, cost_grid = initialize_tracking_grids(rows, cols, start)\n",
        "\n",
        "    # Busca el camino hacia el objetivo\n",
        "    found = perform_search(visited, action_taken, exploration_order, traversable, goal, cost, cost_grid, max_steps, method)\n",
        "\n",
        "    if not found:\n",
        "        return [], exploration_order, cost_grid  # Devuelve una cuadrícula de camino vacía\n",
        "\n",
        "    # Retrocede desde el objetivo hasta el inicio para construir la cuadrícula del camino\n",
        "    path_grid = create_path_grid(rows, cols, action_taken, goal, start)\n",
        "    return path_grid, exploration_order, cost_grid"
      ],
      "metadata": {
        "id": "ATRuTfH7-WlB"
      },
      "execution_count": 6,
      "outputs": []
    },
    {
      "cell_type": "markdown",
      "source": [
        "3. Función `perform_search`:\n",
        "\n",
        "Utiliza una cola de prioridad (min-heap) para gestionar la exploración basada en el costo acumulado.\n",
        "\n",
        "La búsqueda explora cada celda desde el punto de inicio, expande a sus vecinos y calcula el costo acumulado hasta el objetivo.  Cada celda nueva se compara con el costo anterior en la misma celda, y si el nuevo camino es más barato, se actualiza empleando la función `update_queue_cost`\n",
        "\n"
      ],
      "metadata": {
        "id": "m9FDQohi-Vch"
      }
    },
    {
      "cell_type": "code",
      "source": [
        "def perform_search(visited, action_taken, exploration_order, traversable, goal, cost, cost_grid, max_steps=None, method=None):\n",
        "    \"\"\"\n",
        "    Realiza la búsqueda para encontrar el camino más corto al objetivo y rastrear el orden de exploración.\n",
        "\n",
        "    Args:\n",
        "        visited (list of list of bool): Cuadrícula que indica si una celda ha sido visitada.\n",
        "        action_taken (list of list of int): Cuadrícula que rastrea la acción que lleva a cada celda.\n",
        "        exploration_order (list of list of int): Cuadrícula que indica el orden en que se exploraron las celdas.\n",
        "        traversable (list of list of int): Matriz que indica qué celdas son navegables.\n",
        "        goal (list of int): Coordenadas de la celda objetivo [fila, columna].\n",
        "        cost (int): Costo de moverse a una celda adyacente.\n",
        "        max_steps (int, opcional): Número máximo de pasos a explorar antes de detener la búsqueda.\n",
        "        cost_grid (list of list of int): Cuadrícula que rastrea el costo acumulado para alcanzar cada celda.\n",
        "\n",
        "    Returns:\n",
        "        bool: True si se encontró el objetivo, de lo contrario False.\n",
        "    \"\"\"\n",
        "    # Cola de prioridad (min-heap) para gestionar la exploración basada en el costo del camino\n",
        "    open_list = [(0, start[0], start[1])]\n",
        "    # Contador para el orden de exploración\n",
        "    expansion_count = 0\n",
        "\n",
        "    while open_list:\n",
        "        current_cost, x, y = heapq.heappop(open_list)\n",
        "\n",
        "        # Registra el orden de exploración para esta celda\n",
        "        exploration_order[x][y] = expansion_count\n",
        "        expansion_count += 1\n",
        "\n",
        "        # Si se alcanza el objetivo, detener la búsqueda\n",
        "        if [x, y] == goal:\n",
        "            return True\n",
        "\n",
        "        # Expande a las celdas vecinas\n",
        "        for action, (dx, dy) in enumerate(DIRECTIONS):\n",
        "            x2, y2 = x + dx, y + dy\n",
        "            if is_within_bounds(x2, y2, traversable) and not visited[x2][y2] and traversable[x2][y2]:\n",
        "                new_cost = cost_grid[x][y] + cost\n",
        "                if new_cost < cost_grid[x2][y2]:  # Actualiza el costo si este camino es más barato\n",
        "                    cost_grid[x2][y2] = new_cost\n",
        "                    update_queue_cost(new_cost, open_list, x2, y2, method)\n",
        "                    visited[x2][y2] = True\n",
        "                    action_taken[x2][y2] = action  # Registra la acción realizada para obtener la ruta óptima\n",
        "\n",
        "        # Comprueba si se ha alcanzado el número máximo de pasos\n",
        "        if max_steps is not None and expansion_count > max_steps:\n",
        "            print(\"Se alcanzó el límite de pasos máximos. Deteniendo la búsqueda.\")\n",
        "            return False # Indica que la búsqueda se detuvo debido al límite de pasos\n",
        "\n",
        "    return False  # Devuelve False si no se encuentra un camino al objetivo"
      ],
      "metadata": {
        "id": "JPNQAukYGZ75"
      },
      "execution_count": 7,
      "outputs": []
    },
    {
      "cell_type": "markdown",
      "source": [
        "4. Función `update_queue_cost`:\n",
        "\n",
        "Utiliza heapq para gestionar y mantener la celda de menor costo con prioridad.\n",
        "\n",
        "Está función se desarrolla de forma simple a proposito, para posteriormente poder modificarla e implementar otros algoritmos que emplean diferentes funciones de costo\n"
      ],
      "metadata": {
        "id": "noKYOuve-u1m"
      }
    },
    {
      "cell_type": "code",
      "source": [
        "def update_queue_cost(new_cost, open_list, x2, y2, method=None):\n",
        "  heapq.heappush(open_list, (new_cost, x2, y2))"
      ],
      "metadata": {
        "id": "H-gV-Fz6-vNy"
      },
      "execution_count": 8,
      "outputs": []
    },
    {
      "cell_type": "markdown",
      "source": [
        "Mediante estas funciones podemos generar un mapa de traversabilidad y emplear el código para buscar el cámino óptimo"
      ],
      "metadata": {
        "id": "UrajutwEpfb2"
      }
    },
    {
      "cell_type": "code",
      "source": [
        "# Prueba de la función de búsqueda\n",
        "traversable = [[1, 1, 0, 1, 1, 1],\n",
        "               [1, 1, 0, 1, 1, 1],\n",
        "               [1, 1, 1, 1, 1, 1],\n",
        "               [1, 1, 0, 0, 0, 1],\n",
        "               [1, 1, 1, 1, 0, 1]]\n",
        "start = [0, 0]\n",
        "goal = [len(traversable) - 1, len(traversable[0]) - 1]\n",
        "cost = 1\n",
        "\n",
        "path, exploration_order, cost_grid = search(traversable, start, goal, cost, max_steps=None)\n",
        "\n",
        "show_map(traversable)\n",
        "mostrar_resultados(exploration_order, cost_grid, path)"
      ],
      "metadata": {
        "id": "3iDDk_IlpgnP",
        "outputId": "d77b3df8-bb26-43ac-abdd-ec607f7906de",
        "colab": {
          "base_uri": "https://localhost:8080/",
          "height": 513
        }
      },
      "execution_count": 9,
      "outputs": [
        {
          "output_type": "display_data",
          "data": {
            "text/plain": [
              "<Figure size 200x200 with 1 Axes>"
            ],
            "image/png": "[encoded data removed]"
          },
          "metadata": {}
        },
        {
          "output_type": "stream",
          "name": "stdout",
          "text": [
            "Orden de Exploración:\n",
            "[0, 1, -1, 15, 19, 22]\n",
            "[2, 3, -1, 12, 16, 20]\n",
            "[4, 5, 7, 10, 13, 17]\n",
            "[6, 8, -1, -1, -1, 21]\n",
            "[9, 11, 14, 18, -1, 23]\n",
            "\n",
            "Cuadrícula de Costos:\n",
            "[0, 1, inf, 7, 8, 9]\n",
            "[1, 2, inf, 6, 7, 8]\n",
            "[2, 3, 4, 5, 6, 7]\n",
            "[3, 4, inf, inf, inf, 8]\n",
            "[4, 5, 6, 7, inf, 9]\n",
            "\n",
            "Cuadrícula del Camino:\n",
            "['>', 'v', ' ', ' ', ' ', ' ']\n",
            "[' ', 'v', ' ', ' ', ' ', ' ']\n",
            "[' ', '>', '>', '>', '>', 'v']\n",
            "[' ', ' ', ' ', ' ', ' ', 'v']\n",
            "[' ', ' ', ' ', ' ', ' ', '*']\n"
          ]
        }
      ]
    },
    {
      "cell_type": "markdown",
      "source": [
        "# Algoritmo A*\n"
      ],
      "metadata": {
        "id": "ojTEDGwTgSm3"
      }
    },
    {
      "cell_type": "markdown",
      "source": [
        "Se sabe que la principal diferencia entre el algoritmo de Dijkstra y A* es que el segundo emplea una función Heurística.\n",
        "\n",
        "Según la implementación realizada, este cambio podemos realizarlo modificando la función `update_queue_cost`() y defininiendo una función para cálcular la heuristica mediante la distancia de Manhattan.\n",
        "\n",
        "Esta distancia representa el número mínimo de movimientos necesarios para llegar al objetivo, asumiendo un movimiento horizontal o vertical por paso. Esta estimación es adecuada para entornos donde solo se permiten desplazamientos horizontales y verticales (sin diagonales)."
      ],
      "metadata": {
        "id": "PY4zif8D_qB7"
      }
    },
    {
      "cell_type": "code",
      "source": [
        "def update_queue_cost(new_cost, open_list, x2, y2, method=None):\n",
        "  if method == 'a_star':\n",
        "    heuristic_cost = manhattan_heuristic([x2, y2], goal)\n",
        "    total_cost = new_cost + heuristic_cost\n",
        "    heapq.heappush(open_list, (total_cost, x2, y2))\n",
        "  else:\n",
        "    heapq.heappush(open_list, (new_cost, x2, y2))\n",
        "\n",
        "def manhattan_heuristic(current, goal):\n",
        "    \"\"\"\n",
        "    Heurística de Manhattan para estimar el costo restante al objetivo.\n",
        "\n",
        "    Args:\n",
        "        current (list of int): Coordenadas actuales [fila, columna].\n",
        "        goal (list of int): Coordenadas del objetivo [fila, columna].\n",
        "\n",
        "    Returns:\n",
        "        int: Estimación del costo hasta el objetivo.\n",
        "    \"\"\"\n",
        "    return abs(current[0] - goal[0]) + abs(current[1] - goal[1])\n"
      ],
      "metadata": {
        "id": "_GvXp1RXjn7p"
      },
      "execution_count": 10,
      "outputs": []
    },
    {
      "cell_type": "code",
      "source": [
        "# Prueba de la función de búsqueda\n",
        "traversable = [[1, 1, 0, 1, 1, 1],\n",
        "               [1, 1, 0, 1, 1, 1],\n",
        "               [1, 1, 1, 1, 1, 1],\n",
        "               [1, 1, 0, 0, 0, 1],\n",
        "               [1, 1, 1, 1, 0, 1]]\n",
        "start = [0, 0]\n",
        "goal = [len(traversable) - 1, len(traversable[0]) - 1]\n",
        "cost = 1\n",
        "\n",
        "path, exploration_order, cost_grid = search(traversable, start, goal, cost, max_steps=None, method='a_star')\n",
        "\n",
        "show_map(traversable)\n",
        "mostrar_resultados(exploration_order, cost_grid, path)\n",
        "\n",
        "path, exploration_order, cost_grid = search(traversable, start, goal, cost, max_steps=None, method='dijkstra')\n",
        "print('---------------------------------------------------')\n",
        "mostrar_resultados(exploration_order, cost_grid, path)"
      ],
      "metadata": {
        "id": "B8pZPctugV8l",
        "outputId": "25e88601-d29f-448b-d852-831cab705dab",
        "colab": {
          "base_uri": "https://localhost:8080/",
          "height": 878
        }
      },
      "execution_count": 11,
      "outputs": [
        {
          "output_type": "display_data",
          "data": {
            "text/plain": [
              "<Figure size 200x200 with 1 Axes>"
            ],
            "image/png": "[encoded data removed]"
          },
          "metadata": {}
        },
        {
          "output_type": "stream",
          "name": "stdout",
          "text": [
            "Orden de Exploración:\n",
            "[0, 1, -1, -1, -1, -1]\n",
            "[2, 3, -1, -1, -1, -1]\n",
            "[4, 5, 6, 7, 8, 9]\n",
            "[10, 11, -1, -1, -1, 12]\n",
            "[13, 14, 15, 16, -1, 17]\n",
            "\n",
            "Cuadrícula de Costos:\n",
            "[0, 1, inf, inf, inf, inf]\n",
            "[1, 2, inf, 6, 7, 8]\n",
            "[2, 3, 4, 5, 6, 7]\n",
            "[3, 4, inf, inf, inf, 8]\n",
            "[4, 5, 6, 7, inf, 9]\n",
            "\n",
            "Cuadrícula del Camino:\n",
            "['>', 'v', ' ', ' ', ' ', ' ']\n",
            "[' ', 'v', ' ', ' ', ' ', ' ']\n",
            "[' ', '>', '>', '>', '>', 'v']\n",
            "[' ', ' ', ' ', ' ', ' ', 'v']\n",
            "[' ', ' ', ' ', ' ', ' ', '*']\n",
            "---------------------------------------------------\n",
            "Orden de Exploración:\n",
            "[0, 1, -1, 15, 19, 22]\n",
            "[2, 3, -1, 12, 16, 20]\n",
            "[4, 5, 7, 10, 13, 17]\n",
            "[6, 8, -1, -1, -1, 21]\n",
            "[9, 11, 14, 18, -1, 23]\n",
            "\n",
            "Cuadrícula de Costos:\n",
            "[0, 1, inf, 7, 8, 9]\n",
            "[1, 2, inf, 6, 7, 8]\n",
            "[2, 3, 4, 5, 6, 7]\n",
            "[3, 4, inf, inf, inf, 8]\n",
            "[4, 5, 6, 7, inf, 9]\n",
            "\n",
            "Cuadrícula del Camino:\n",
            "['>', 'v', ' ', ' ', ' ', ' ']\n",
            "[' ', 'v', ' ', ' ', ' ', ' ']\n",
            "[' ', '>', '>', '>', '>', 'v']\n",
            "[' ', ' ', ' ', ' ', ' ', 'v']\n",
            "[' ', ' ', ' ', ' ', ' ', '*']\n"
          ]
        }
      ]
    },
    {
      "cell_type": "markdown",
      "source": [
        "# Planificación - Programación Dinámica"
      ],
      "metadata": {
        "id": "yXh8hK55A82I"
      }
    },
    {
      "cell_type": "markdown",
      "source": [
        "Previamente se ha observado y comparado el resultado obtenido por los algoritmos de Dijkstra y A*, los cuales permiten obtener una ruta óptima hacia un destino deseado.\n",
        "\n",
        "Sin embargo, al ser algoritmos de busqueda, estos suelen presentar una complejidad elevada para ser ejecutados continuamente en tiempo real. En robótica, el tiempo de ejecución de todo algoritmo es crítico por lo que si es posible se prefiere precalcular la ruta óptima para cada celda para posteriormente solo necesitar leer dicha ruta. Esto se puede realiza mediante una programación dinámica en el sigueinte código."
      ],
      "metadata": {
        "id": "Kd95spv4BBFF"
      }
    },
    {
      "cell_type": "code",
      "source": [
        "import heapq  # Importamos heapq para funcionalidad de cola de prioridad\n",
        "\n",
        "# Definimos la cuadrícula y el objetivo\n",
        "grid = [[1, 1, 0, 1, 1, 1],\n",
        "        [1, 1, 0, 1, 1, 1],\n",
        "        [1, 1, 0, 1, 1, 1],\n",
        "        [1, 1, 1, 1, 0, 1],\n",
        "        [1, 1, 0, 0, 0, 1],\n",
        "        [1, 1, 1, 1, 0, 1]]\n",
        "\n",
        "# Establecemos la posición del objetivo como la esquina derecha inferior\n",
        "goal = [len(grid) - 1, len(grid[0]) - 1]\n",
        "cost = 1  # Costo por moverse a una celda adyacente\n",
        "\n",
        "# Direcciones y símbolos para los movimientos\n",
        "DIRECTIONS = [(-1, 0), (0, -1), (1, 0), (0, 1)]  # arriba, izquierda, abajo, derecha\n",
        "DIRECTION_SYMBOLS = ['^', '<', 'v', '>']\n",
        "\n",
        "def optimum_policy(grid, goal, cost):\n",
        "    rows, cols = len(grid), len(grid[0])\n",
        "\n",
        "    # Inicializa las matrices de valor y política\n",
        "    value = [[99] * cols for _ in range(rows)]\n",
        "    policy = [[' '] * cols for _ in range(rows)]\n",
        "\n",
        "    # Cola de prioridad usando heapq\n",
        "    open_list = []\n",
        "    heapq.heappush(open_list, (0, goal[0], goal[1])) # Inicia desde el objetivo con costo 0\n",
        "\n",
        "    value[goal[0]][goal[1]] = 0\n",
        "    policy[goal[0]][goal[1]] = '*'\n",
        "\n",
        "    # Bucle principal para explorar la cuadrícula\n",
        "    while open_list:\n",
        "        current_value, x, y = heapq.heappop(open_list)  # Extrae la celda con el valor más bajo\n",
        "\n",
        "        # Explora celdas vecinas\n",
        "        for action, (dx, dy) in enumerate(DIRECTIONS):\n",
        "            x2, y2 = x + dx, y + dy\n",
        "\n",
        "            # Comprueba que la celda está dentro de los límites y es transitable\n",
        "            if is_within_bounds(x2, y2, grid) and grid[x2][y2]:\n",
        "                new_value = current_value + cost\n",
        "\n",
        "                # Actualiza si encontramos un camino de menor costo\n",
        "                if new_value < value[x2][y2]:\n",
        "                    value[x2][y2] = new_value\n",
        "                    policy[x2][y2] = DIRECTION_SYMBOLS[(action + 2) % 4] # Invertimos la dirección\n",
        "                    heapq.heappush(open_list, (new_value, x2, y2))\n",
        "\n",
        "    # Imprimir resultados\n",
        "    print(\"Matriz de Valores:\")\n",
        "    for row in value:\n",
        "        print(row)\n",
        "    print(\"\\nMatriz de Política:\")\n",
        "    for row in policy:\n",
        "        print(row)\n",
        "\n",
        "# Ejecutar la función de política óptima\n",
        "show_map(traversable)\n",
        "optimum_policy(grid, goal, cost)\n"
      ],
      "metadata": {
        "id": "DOBo5WAA0uzM",
        "outputId": "bc4545d1-b62a-4212-85c8-86a9f0d8691f",
        "colab": {
          "base_uri": "https://localhost:8080/",
          "height": 426
        }
      },
      "execution_count": 13,
      "outputs": [
        {
          "output_type": "display_data",
          "data": {
            "text/plain": [
              "<Figure size 200x200 with 1 Axes>"
            ],
            "image/png": "[encoded data removed]"
          },
          "metadata": {}
        },
        {
          "output_type": "stream",
          "name": "stdout",
          "text": [
            "Matriz de Valores:\n",
            "[12, 11, 99, 7, 6, 5]\n",
            "[11, 10, 99, 6, 5, 4]\n",
            "[10, 9, 99, 5, 4, 3]\n",
            "[9, 8, 7, 6, 99, 2]\n",
            "[10, 9, 99, 99, 99, 1]\n",
            "[11, 10, 11, 12, 99, 0]\n",
            "\n",
            "Matriz de Política:\n",
            "['>', 'v', ' ', '>', '>', 'v']\n",
            "['>', 'v', ' ', '>', '>', 'v']\n",
            "['>', 'v', ' ', '>', '>', 'v']\n",
            "['>', '>', '>', '^', ' ', 'v']\n",
            "['^', '^', ' ', ' ', ' ', 'v']\n",
            "['^', '^', '<', '<', ' ', '*']\n"
          ]
        }
      ]
    }
  ]
}