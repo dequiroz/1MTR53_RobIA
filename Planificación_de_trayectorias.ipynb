{
  "nbformat": 4,
  "nbformat_minor": 0,
  "metadata": {
    "colab": {
      "provenance": [],
      "authorship_tag": "ABX9TyMDQTIkvnjVCHDefPRFtYJE",
      "include_colab_link": true
    },
    "kernelspec": {
      "name": "python3",
      "display_name": "Python 3"
    },
    "language_info": {
      "name": "python"
    }
  },
  "cells": [
    {
      "cell_type": "markdown",
      "metadata": {
        "id": "view-in-github",
        "colab_type": "text"
      },
      "source": [
        "<a href=\"https://colab.research.google.com/github/dequiroz/1MTR53_RobIA/blob/main/Planificaci%C3%B3n_de_trayectorias.ipynb\" target=\"_parent\"><img src=\"https://colab.research.google.com/assets/colab-badge.svg\" alt=\"Open In Colab\"/></a>"
      ]
    },
    {
      "cell_type": "markdown",
      "source": [
        "<img src=\"https://drive.google.com/uc?export=view&id=1FsTa2YzWwxY-HBkd2EOXAlkPJ1zpikWv\" alt=\"drawing\" width=\"150\"/>\n",
        "\n",
        "\n",
        "<p align=\"center\">\n",
        "<img src=\"https://drive.google.com/uc?export=view&id=1VBn7nKlruxCPLHH_UuD8B2pkvKP7JLRd\" alt=\"drawing\" width=\"800\"/>\n",
        "\n",
        "</br>\n",
        "\n",
        "<img src=\"https://drive.google.com/uc?export=view&id=1uF_4x1YqLuS3M0mlh3NrMrEUHvjBMBFw\" alt=\"drawing\" width=\"800\"/>\n",
        "</p>\n",
        "\n",
        "#Filtro de Kalman\n",
        "* Diego Quiroz Velasquez\n",
        "* Pontificia Universidad Católica del Perú\n",
        "* Sección Ingeniería Mecatrónica\n",
        "\n",
        "---\n",
        "Este archivo describe ...\n",
        "\n",
        "<img src=\"https://drive.google.com/uc?export=view&id=1vgFoFHEKMN0WcAFlKS2hPMg2KuBm3sp9\" alt=\"drawing\"/>\n",
        "\n"
      ],
      "metadata": {
        "id": "c4kmmNlPTS2Y"
      }
    },
    {
      "cell_type": "code",
      "execution_count": null,
      "metadata": {
        "id": "N0GEvIFnTODx"
      },
      "outputs": [],
      "source": []
    }
  ]
}