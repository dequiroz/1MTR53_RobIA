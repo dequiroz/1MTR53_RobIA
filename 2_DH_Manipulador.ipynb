{
  "nbformat": 4,
  "nbformat_minor": 0,
  "metadata": {
    "colab": {
      "provenance": [],
      "toc_visible": true,
      "authorship_tag": "ABX9TyOhFuEtth5a/DUJmnnxtmz+",
      "include_colab_link": true
    },
    "kernelspec": {
      "name": "python3",
      "display_name": "Python 3"
    },
    "language_info": {
      "name": "python"
    },
    "widgets": {
      "application/vnd.jupyter.widget-state+json": {
        "369a60263ba04878aa6a6493b2aed344": {
          "model_module": "@jupyter-widgets/controls",
          "model_name": "VBoxModel",
          "model_module_version": "1.5.0",
          "state": {
            "_dom_classes": [
              "widget-interact"
            ],
            "_model_module": "@jupyter-widgets/controls",
            "_model_module_version": "1.5.0",
            "_model_name": "VBoxModel",
            "_view_count": null,
            "_view_module": "@jupyter-widgets/controls",
            "_view_module_version": "1.5.0",
            "_view_name": "VBoxView",
            "box_style": "",
            "children": [
              "IPY_MODEL_dca5f907177b4e5daafb8ae632748f13",
              "IPY_MODEL_af40bd95e99447eab4e3e0f492e6d4dc",
              "IPY_MODEL_eca41992923d4b559562b5f33d460dbd",
              "IPY_MODEL_8755a72a723b43fb97c59b94726ea39e",
              "IPY_MODEL_e2632fe4ce374508a441624f963a9e98"
            ],
            "layout": "IPY_MODEL_2af875d6ff4844608f4da2dbdf9ffa09"
          }
        },
        "dca5f907177b4e5daafb8ae632748f13": {
          "model_module": "@jupyter-widgets/controls",
          "model_name": "IntSliderModel",
          "model_module_version": "1.5.0",
          "state": {
            "_dom_classes": [],
            "_model_module": "@jupyter-widgets/controls",
            "_model_module_version": "1.5.0",
            "_model_name": "IntSliderModel",
            "_view_count": null,
            "_view_module": "@jupyter-widgets/controls",
            "_view_module_version": "1.5.0",
            "_view_name": "IntSliderView",
            "continuous_update": true,
            "description": "q1",
            "description_tooltip": null,
            "disabled": false,
            "layout": "IPY_MODEL_78556ac6371d47e0a514e660fd4e6351",
            "max": 180,
            "min": -180,
            "orientation": "horizontal",
            "readout": true,
            "readout_format": "d",
            "step": 1,
            "style": "IPY_MODEL_fcb9ec2c2f2f4dfa8d772dc6fcb169d1",
            "value": 0
          }
        },
        "af40bd95e99447eab4e3e0f492e6d4dc": {
          "model_module": "@jupyter-widgets/controls",
          "model_name": "IntSliderModel",
          "model_module_version": "1.5.0",
          "state": {
            "_dom_classes": [],
            "_model_module": "@jupyter-widgets/controls",
            "_model_module_version": "1.5.0",
            "_model_name": "IntSliderModel",
            "_view_count": null,
            "_view_module": "@jupyter-widgets/controls",
            "_view_module_version": "1.5.0",
            "_view_name": "IntSliderView",
            "continuous_update": true,
            "description": "q2",
            "description_tooltip": null,
            "disabled": false,
            "layout": "IPY_MODEL_0e1a807cc0014b569e4d1d6f10cbba32",
            "max": 180,
            "min": -180,
            "orientation": "horizontal",
            "readout": true,
            "readout_format": "d",
            "step": 1,
            "style": "IPY_MODEL_af18a79f02914e6f95d633c7b6599572",
            "value": 0
          }
        },
        "eca41992923d4b559562b5f33d460dbd": {
          "model_module": "@jupyter-widgets/controls",
          "model_name": "IntSliderModel",
          "model_module_version": "1.5.0",
          "state": {
            "_dom_classes": [],
            "_model_module": "@jupyter-widgets/controls",
            "_model_module_version": "1.5.0",
            "_model_name": "IntSliderModel",
            "_view_count": null,
            "_view_module": "@jupyter-widgets/controls",
            "_view_module_version": "1.5.0",
            "_view_name": "IntSliderView",
            "continuous_update": true,
            "description": "l1",
            "description_tooltip": null,
            "disabled": false,
            "layout": "IPY_MODEL_5bec625def094421a489b3ee286a9127",
            "max": 10,
            "min": 0,
            "orientation": "horizontal",
            "readout": true,
            "readout_format": "d",
            "step": 1,
            "style": "IPY_MODEL_9a93ccdc2d664376986f79789320a544",
            "value": 5
          }
        },
        "8755a72a723b43fb97c59b94726ea39e": {
          "model_module": "@jupyter-widgets/controls",
          "model_name": "IntSliderModel",
          "model_module_version": "1.5.0",
          "state": {
            "_dom_classes": [],
            "_model_module": "@jupyter-widgets/controls",
            "_model_module_version": "1.5.0",
            "_model_name": "IntSliderModel",
            "_view_count": null,
            "_view_module": "@jupyter-widgets/controls",
            "_view_module_version": "1.5.0",
            "_view_name": "IntSliderView",
            "continuous_update": true,
            "description": "l2",
            "description_tooltip": null,
            "disabled": false,
            "layout": "IPY_MODEL_e8f46078376443c1b1af2b2f337870d9",
            "max": 10,
            "min": 0,
            "orientation": "horizontal",
            "readout": true,
            "readout_format": "d",
            "step": 1,
            "style": "IPY_MODEL_1c9060c5d02c4417890e151d63fdd655",
            "value": 5
          }
        },
        "e2632fe4ce374508a441624f963a9e98": {
          "model_module": "@jupyter-widgets/output",
          "model_name": "OutputModel",
          "model_module_version": "1.0.0",
          "state": {
            "_dom_classes": [],
            "_model_module": "@jupyter-widgets/output",
            "_model_module_version": "1.0.0",
            "_model_name": "OutputModel",
            "_view_count": null,
            "_view_module": "@jupyter-widgets/output",
            "_view_module_version": "1.0.0",
            "_view_name": "OutputView",
            "layout": "IPY_MODEL_0d55af65bc214a94826ecef4117d5e7a",
            "msg_id": "",
            "outputs": [
              {
                "output_type": "stream",
                "name": "stdout",
                "text": [
                  "[[ 1.  0.  0. 10.]\n",
                  " [ 0.  1.  0.  0.]\n",
                  " [ 0.  0.  1.  0.]\n",
                  " [ 0.  0.  0.  1.]]\n"
                ]
              }
            ]
          }
        },
        "2af875d6ff4844608f4da2dbdf9ffa09": {
          "model_module": "@jupyter-widgets/base",
          "model_name": "LayoutModel",
          "model_module_version": "1.2.0",
          "state": {
            "_model_module": "@jupyter-widgets/base",
            "_model_module_version": "1.2.0",
            "_model_name": "LayoutModel",
            "_view_count": null,
            "_view_module": "@jupyter-widgets/base",
            "_view_module_version": "1.2.0",
            "_view_name": "LayoutView",
            "align_content": null,
            "align_items": null,
            "align_self": null,
            "border": null,
            "bottom": null,
            "display": null,
            "flex": null,
            "flex_flow": null,
            "grid_area": null,
            "grid_auto_columns": null,
            "grid_auto_flow": null,
            "grid_auto_rows": null,
            "grid_column": null,
            "grid_gap": null,
            "grid_row": null,
            "grid_template_areas": null,
            "grid_template_columns": null,
            "grid_template_rows": null,
            "height": null,
            "justify_content": null,
            "justify_items": null,
            "left": null,
            "margin": null,
            "max_height": null,
            "max_width": null,
            "min_height": null,
            "min_width": null,
            "object_fit": null,
            "object_position": null,
            "order": null,
            "overflow": null,
            "overflow_x": null,
            "overflow_y": null,
            "padding": null,
            "right": null,
            "top": null,
            "visibility": null,
            "width": null
          }
        },
        "78556ac6371d47e0a514e660fd4e6351": {
          "model_module": "@jupyter-widgets/base",
          "model_name": "LayoutModel",
          "model_module_version": "1.2.0",
          "state": {
            "_model_module": "@jupyter-widgets/base",
            "_model_module_version": "1.2.0",
            "_model_name": "LayoutModel",
            "_view_count": null,
            "_view_module": "@jupyter-widgets/base",
            "_view_module_version": "1.2.0",
            "_view_name": "LayoutView",
            "align_content": null,
            "align_items": null,
            "align_self": null,
            "border": null,
            "bottom": null,
            "display": null,
            "flex": null,
            "flex_flow": null,
            "grid_area": null,
            "grid_auto_columns": null,
            "grid_auto_flow": null,
            "grid_auto_rows": null,
            "grid_column": null,
            "grid_gap": null,
            "grid_row": null,
            "grid_template_areas": null,
            "grid_template_columns": null,
            "grid_template_rows": null,
            "height": null,
            "justify_content": null,
            "justify_items": null,
            "left": null,
            "margin": null,
            "max_height": null,
            "max_width": null,
            "min_height": null,
            "min_width": null,
            "object_fit": null,
            "object_position": null,
            "order": null,
            "overflow": null,
            "overflow_x": null,
            "overflow_y": null,
            "padding": null,
            "right": null,
            "top": null,
            "visibility": null,
            "width": null
          }
        },
        "fcb9ec2c2f2f4dfa8d772dc6fcb169d1": {
          "model_module": "@jupyter-widgets/controls",
          "model_name": "SliderStyleModel",
          "model_module_version": "1.5.0",
          "state": {
            "_model_module": "@jupyter-widgets/controls",
            "_model_module_version": "1.5.0",
            "_model_name": "SliderStyleModel",
            "_view_count": null,
            "_view_module": "@jupyter-widgets/base",
            "_view_module_version": "1.2.0",
            "_view_name": "StyleView",
            "description_width": "",
            "handle_color": null
          }
        },
        "0e1a807cc0014b569e4d1d6f10cbba32": {
          "model_module": "@jupyter-widgets/base",
          "model_name": "LayoutModel",
          "model_module_version": "1.2.0",
          "state": {
            "_model_module": "@jupyter-widgets/base",
            "_model_module_version": "1.2.0",
            "_model_name": "LayoutModel",
            "_view_count": null,
            "_view_module": "@jupyter-widgets/base",
            "_view_module_version": "1.2.0",
            "_view_name": "LayoutView",
            "align_content": null,
            "align_items": null,
            "align_self": null,
            "border": null,
            "bottom": null,
            "display": null,
            "flex": null,
            "flex_flow": null,
            "grid_area": null,
            "grid_auto_columns": null,
            "grid_auto_flow": null,
            "grid_auto_rows": null,
            "grid_column": null,
            "grid_gap": null,
            "grid_row": null,
            "grid_template_areas": null,
            "grid_template_columns": null,
            "grid_template_rows": null,
            "height": null,
            "justify_content": null,
            "justify_items": null,
            "left": null,
            "margin": null,
            "max_height": null,
            "max_width": null,
            "min_height": null,
            "min_width": null,
            "object_fit": null,
            "object_position": null,
            "order": null,
            "overflow": null,
            "overflow_x": null,
            "overflow_y": null,
            "padding": null,
            "right": null,
            "top": null,
            "visibility": null,
            "width": null
          }
        },
        "af18a79f02914e6f95d633c7b6599572": {
          "model_module": "@jupyter-widgets/controls",
          "model_name": "SliderStyleModel",
          "model_module_version": "1.5.0",
          "state": {
            "_model_module": "@jupyter-widgets/controls",
            "_model_module_version": "1.5.0",
            "_model_name": "SliderStyleModel",
            "_view_count": null,
            "_view_module": "@jupyter-widgets/base",
            "_view_module_version": "1.2.0",
            "_view_name": "StyleView",
            "description_width": "",
            "handle_color": null
          }
        },
        "5bec625def094421a489b3ee286a9127": {
          "model_module": "@jupyter-widgets/base",
          "model_name": "LayoutModel",
          "model_module_version": "1.2.0",
          "state": {
            "_model_module": "@jupyter-widgets/base",
            "_model_module_version": "1.2.0",
            "_model_name": "LayoutModel",
            "_view_count": null,
            "_view_module": "@jupyter-widgets/base",
            "_view_module_version": "1.2.0",
            "_view_name": "LayoutView",
            "align_content": null,
            "align_items": null,
            "align_self": null,
            "border": null,
            "bottom": null,
            "display": null,
            "flex": null,
            "flex_flow": null,
            "grid_area": null,
            "grid_auto_columns": null,
            "grid_auto_flow": null,
            "grid_auto_rows": null,
            "grid_column": null,
            "grid_gap": null,
            "grid_row": null,
            "grid_template_areas": null,
            "grid_template_columns": null,
            "grid_template_rows": null,
            "height": null,
            "justify_content": null,
            "justify_items": null,
            "left": null,
            "margin": null,
            "max_height": null,
            "max_width": null,
            "min_height": null,
            "min_width": null,
            "object_fit": null,
            "object_position": null,
            "order": null,
            "overflow": null,
            "overflow_x": null,
            "overflow_y": null,
            "padding": null,
            "right": null,
            "top": null,
            "visibility": null,
            "width": null
          }
        },
        "9a93ccdc2d664376986f79789320a544": {
          "model_module": "@jupyter-widgets/controls",
          "model_name": "SliderStyleModel",
          "model_module_version": "1.5.0",
          "state": {
            "_model_module": "@jupyter-widgets/controls",
            "_model_module_version": "1.5.0",
            "_model_name": "SliderStyleModel",
            "_view_count": null,
            "_view_module": "@jupyter-widgets/base",
            "_view_module_version": "1.2.0",
            "_view_name": "StyleView",
            "description_width": "",
            "handle_color": null
          }
        },
        "e8f46078376443c1b1af2b2f337870d9": {
          "model_module": "@jupyter-widgets/base",
          "model_name": "LayoutModel",
          "model_module_version": "1.2.0",
          "state": {
            "_model_module": "@jupyter-widgets/base",
            "_model_module_version": "1.2.0",
            "_model_name": "LayoutModel",
            "_view_count": null,
            "_view_module": "@jupyter-widgets/base",
            "_view_module_version": "1.2.0",
            "_view_name": "LayoutView",
            "align_content": null,
            "align_items": null,
            "align_self": null,
            "border": null,
            "bottom": null,
            "display": null,
            "flex": null,
            "flex_flow": null,
            "grid_area": null,
            "grid_auto_columns": null,
            "grid_auto_flow": null,
            "grid_auto_rows": null,
            "grid_column": null,
            "grid_gap": null,
            "grid_row": null,
            "grid_template_areas": null,
            "grid_template_columns": null,
            "grid_template_rows": null,
            "height": null,
            "justify_content": null,
            "justify_items": null,
            "left": null,
            "margin": null,
            "max_height": null,
            "max_width": null,
            "min_height": null,
            "min_width": null,
            "object_fit": null,
            "object_position": null,
            "order": null,
            "overflow": null,
            "overflow_x": null,
            "overflow_y": null,
            "padding": null,
            "right": null,
            "top": null,
            "visibility": null,
            "width": null
          }
        },
        "1c9060c5d02c4417890e151d63fdd655": {
          "model_module": "@jupyter-widgets/controls",
          "model_name": "SliderStyleModel",
          "model_module_version": "1.5.0",
          "state": {
            "_model_module": "@jupyter-widgets/controls",
            "_model_module_version": "1.5.0",
            "_model_name": "SliderStyleModel",
            "_view_count": null,
            "_view_module": "@jupyter-widgets/base",
            "_view_module_version": "1.2.0",
            "_view_name": "StyleView",
            "description_width": "",
            "handle_color": null
          }
        },
        "0d55af65bc214a94826ecef4117d5e7a": {
          "model_module": "@jupyter-widgets/base",
          "model_name": "LayoutModel",
          "model_module_version": "1.2.0",
          "state": {
            "_model_module": "@jupyter-widgets/base",
            "_model_module_version": "1.2.0",
            "_model_name": "LayoutModel",
            "_view_count": null,
            "_view_module": "@jupyter-widgets/base",
            "_view_module_version": "1.2.0",
            "_view_name": "LayoutView",
            "align_content": null,
            "align_items": null,
            "align_self": null,
            "border": null,
            "bottom": null,
            "display": null,
            "flex": null,
            "flex_flow": null,
            "grid_area": null,
            "grid_auto_columns": null,
            "grid_auto_flow": null,
            "grid_auto_rows": null,
            "grid_column": null,
            "grid_gap": null,
            "grid_row": null,
            "grid_template_areas": null,
            "grid_template_columns": null,
            "grid_template_rows": null,
            "height": null,
            "justify_content": null,
            "justify_items": null,
            "left": null,
            "margin": null,
            "max_height": null,
            "max_width": null,
            "min_height": null,
            "min_width": null,
            "object_fit": null,
            "object_position": null,
            "order": null,
            "overflow": null,
            "overflow_x": null,
            "overflow_y": null,
            "padding": null,
            "right": null,
            "top": null,
            "visibility": null,
            "width": null
          }
        },
        "c1f696b7757c4623818fa2f8c539251e": {
          "model_module": "@jupyter-widgets/controls",
          "model_name": "VBoxModel",
          "model_module_version": "1.5.0",
          "state": {
            "_dom_classes": [
              "widget-interact"
            ],
            "_model_module": "@jupyter-widgets/controls",
            "_model_module_version": "1.5.0",
            "_model_name": "VBoxModel",
            "_view_count": null,
            "_view_module": "@jupyter-widgets/controls",
            "_view_module_version": "1.5.0",
            "_view_name": "VBoxView",
            "box_style": "",
            "children": [
              "IPY_MODEL_e5e6af119e394960837145cee7c73a96",
              "IPY_MODEL_41883be1f27241eb9b31b8d696f37453",
              "IPY_MODEL_1713341a1e1e40f99b7fe568829e20c4",
              "IPY_MODEL_74c9aceb3a254f209bbf3894a4da1afd",
              "IPY_MODEL_9359f13f7d0e4fc691cd45594b11e8eb"
            ],
            "layout": "IPY_MODEL_b19807c0300c4859a1c6d95fdef1e22c"
          }
        },
        "e5e6af119e394960837145cee7c73a96": {
          "model_module": "@jupyter-widgets/controls",
          "model_name": "IntSliderModel",
          "model_module_version": "1.5.0",
          "state": {
            "_dom_classes": [],
            "_model_module": "@jupyter-widgets/controls",
            "_model_module_version": "1.5.0",
            "_model_name": "IntSliderModel",
            "_view_count": null,
            "_view_module": "@jupyter-widgets/controls",
            "_view_module_version": "1.5.0",
            "_view_name": "IntSliderView",
            "continuous_update": true,
            "description": "q1",
            "description_tooltip": null,
            "disabled": false,
            "layout": "IPY_MODEL_44c6066ea9a2426f9f57fd50de30d3ed",
            "max": 180,
            "min": -180,
            "orientation": "horizontal",
            "readout": true,
            "readout_format": "d",
            "step": 1,
            "style": "IPY_MODEL_64c73727dd994a86a77b3aa4dd5db427",
            "value": 0
          }
        },
        "41883be1f27241eb9b31b8d696f37453": {
          "model_module": "@jupyter-widgets/controls",
          "model_name": "IntSliderModel",
          "model_module_version": "1.5.0",
          "state": {
            "_dom_classes": [],
            "_model_module": "@jupyter-widgets/controls",
            "_model_module_version": "1.5.0",
            "_model_name": "IntSliderModel",
            "_view_count": null,
            "_view_module": "@jupyter-widgets/controls",
            "_view_module_version": "1.5.0",
            "_view_name": "IntSliderView",
            "continuous_update": true,
            "description": "q2",
            "description_tooltip": null,
            "disabled": false,
            "layout": "IPY_MODEL_50113845c5df43f98a9169ebfe0e4d00",
            "max": 180,
            "min": -180,
            "orientation": "horizontal",
            "readout": true,
            "readout_format": "d",
            "step": 1,
            "style": "IPY_MODEL_6cca6b9b87a14bdd910cae393b2b6c38",
            "value": 0
          }
        },
        "1713341a1e1e40f99b7fe568829e20c4": {
          "model_module": "@jupyter-widgets/controls",
          "model_name": "IntSliderModel",
          "model_module_version": "1.5.0",
          "state": {
            "_dom_classes": [],
            "_model_module": "@jupyter-widgets/controls",
            "_model_module_version": "1.5.0",
            "_model_name": "IntSliderModel",
            "_view_count": null,
            "_view_module": "@jupyter-widgets/controls",
            "_view_module_version": "1.5.0",
            "_view_name": "IntSliderView",
            "continuous_update": true,
            "description": "l1",
            "description_tooltip": null,
            "disabled": false,
            "layout": "IPY_MODEL_16a675b204c944fa928cdd64f4a26ae3",
            "max": 10,
            "min": 0,
            "orientation": "horizontal",
            "readout": true,
            "readout_format": "d",
            "step": 1,
            "style": "IPY_MODEL_150c92a5ea6c4bf5912e07c7c240ce3e",
            "value": 5
          }
        },
        "74c9aceb3a254f209bbf3894a4da1afd": {
          "model_module": "@jupyter-widgets/controls",
          "model_name": "IntSliderModel",
          "model_module_version": "1.5.0",
          "state": {
            "_dom_classes": [],
            "_model_module": "@jupyter-widgets/controls",
            "_model_module_version": "1.5.0",
            "_model_name": "IntSliderModel",
            "_view_count": null,
            "_view_module": "@jupyter-widgets/controls",
            "_view_module_version": "1.5.0",
            "_view_name": "IntSliderView",
            "continuous_update": true,
            "description": "l2",
            "description_tooltip": null,
            "disabled": false,
            "layout": "IPY_MODEL_e59d4bffdabf46afab12ae830496a03b",
            "max": 10,
            "min": 0,
            "orientation": "horizontal",
            "readout": true,
            "readout_format": "d",
            "step": 1,
            "style": "IPY_MODEL_f4d892e2adb24469bf082513b6a50eb5",
            "value": 5
          }
        },
        "9359f13f7d0e4fc691cd45594b11e8eb": {
          "model_module": "@jupyter-widgets/output",
          "model_name": "OutputModel",
          "model_module_version": "1.0.0",
          "state": {
            "_dom_classes": [],
            "_model_module": "@jupyter-widgets/output",
            "_model_module_version": "1.0.0",
            "_model_name": "OutputModel",
            "_view_count": null,
            "_view_module": "@jupyter-widgets/output",
            "_view_module_version": "1.0.0",
            "_view_name": "OutputView",
            "layout": "IPY_MODEL_d94e6da3f5ea491998c54685c6a252e9",
            "msg_id": "",
            "outputs": [
              {
                "output_type": "display_data",
                "data": {
                  "text/plain": "<Figure size 400x400 with 1 Axes>",
                  "image/png": "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\n"
                },
                "metadata": {}
              }
            ]
          }
        },
        "b19807c0300c4859a1c6d95fdef1e22c": {
          "model_module": "@jupyter-widgets/base",
          "model_name": "LayoutModel",
          "model_module_version": "1.2.0",
          "state": {
            "_model_module": "@jupyter-widgets/base",
            "_model_module_version": "1.2.0",
            "_model_name": "LayoutModel",
            "_view_count": null,
            "_view_module": "@jupyter-widgets/base",
            "_view_module_version": "1.2.0",
            "_view_name": "LayoutView",
            "align_content": null,
            "align_items": null,
            "align_self": null,
            "border": null,
            "bottom": null,
            "display": null,
            "flex": null,
            "flex_flow": null,
            "grid_area": null,
            "grid_auto_columns": null,
            "grid_auto_flow": null,
            "grid_auto_rows": null,
            "grid_column": null,
            "grid_gap": null,
            "grid_row": null,
            "grid_template_areas": null,
            "grid_template_columns": null,
            "grid_template_rows": null,
            "height": null,
            "justify_content": null,
            "justify_items": null,
            "left": null,
            "margin": null,
            "max_height": null,
            "max_width": null,
            "min_height": null,
            "min_width": null,
            "object_fit": null,
            "object_position": null,
            "order": null,
            "overflow": null,
            "overflow_x": null,
            "overflow_y": null,
            "padding": null,
            "right": null,
            "top": null,
            "visibility": null,
            "width": null
          }
        },
        "44c6066ea9a2426f9f57fd50de30d3ed": {
          "model_module": "@jupyter-widgets/base",
          "model_name": "LayoutModel",
          "model_module_version": "1.2.0",
          "state": {
            "_model_module": "@jupyter-widgets/base",
            "_model_module_version": "1.2.0",
            "_model_name": "LayoutModel",
            "_view_count": null,
            "_view_module": "@jupyter-widgets/base",
            "_view_module_version": "1.2.0",
            "_view_name": "LayoutView",
            "align_content": null,
            "align_items": null,
            "align_self": null,
            "border": null,
            "bottom": null,
            "display": null,
            "flex": null,
            "flex_flow": null,
            "grid_area": null,
            "grid_auto_columns": null,
            "grid_auto_flow": null,
            "grid_auto_rows": null,
            "grid_column": null,
            "grid_gap": null,
            "grid_row": null,
            "grid_template_areas": null,
            "grid_template_columns": null,
            "grid_template_rows": null,
            "height": null,
            "justify_content": null,
            "justify_items": null,
            "left": null,
            "margin": null,
            "max_height": null,
            "max_width": null,
            "min_height": null,
            "min_width": null,
            "object_fit": null,
            "object_position": null,
            "order": null,
            "overflow": null,
            "overflow_x": null,
            "overflow_y": null,
            "padding": null,
            "right": null,
            "top": null,
            "visibility": null,
            "width": null
          }
        },
        "64c73727dd994a86a77b3aa4dd5db427": {
          "model_module": "@jupyter-widgets/controls",
          "model_name": "SliderStyleModel",
          "model_module_version": "1.5.0",
          "state": {
            "_model_module": "@jupyter-widgets/controls",
            "_model_module_version": "1.5.0",
            "_model_name": "SliderStyleModel",
            "_view_count": null,
            "_view_module": "@jupyter-widgets/base",
            "_view_module_version": "1.2.0",
            "_view_name": "StyleView",
            "description_width": "",
            "handle_color": null
          }
        },
        "50113845c5df43f98a9169ebfe0e4d00": {
          "model_module": "@jupyter-widgets/base",
          "model_name": "LayoutModel",
          "model_module_version": "1.2.0",
          "state": {
            "_model_module": "@jupyter-widgets/base",
            "_model_module_version": "1.2.0",
            "_model_name": "LayoutModel",
            "_view_count": null,
            "_view_module": "@jupyter-widgets/base",
            "_view_module_version": "1.2.0",
            "_view_name": "LayoutView",
            "align_content": null,
            "align_items": null,
            "align_self": null,
            "border": null,
            "bottom": null,
            "display": null,
            "flex": null,
            "flex_flow": null,
            "grid_area": null,
            "grid_auto_columns": null,
            "grid_auto_flow": null,
            "grid_auto_rows": null,
            "grid_column": null,
            "grid_gap": null,
            "grid_row": null,
            "grid_template_areas": null,
            "grid_template_columns": null,
            "grid_template_rows": null,
            "height": null,
            "justify_content": null,
            "justify_items": null,
            "left": null,
            "margin": null,
            "max_height": null,
            "max_width": null,
            "min_height": null,
            "min_width": null,
            "object_fit": null,
            "object_position": null,
            "order": null,
            "overflow": null,
            "overflow_x": null,
            "overflow_y": null,
            "padding": null,
            "right": null,
            "top": null,
            "visibility": null,
            "width": null
          }
        },
        "6cca6b9b87a14bdd910cae393b2b6c38": {
          "model_module": "@jupyter-widgets/controls",
          "model_name": "SliderStyleModel",
          "model_module_version": "1.5.0",
          "state": {
            "_model_module": "@jupyter-widgets/controls",
            "_model_module_version": "1.5.0",
            "_model_name": "SliderStyleModel",
            "_view_count": null,
            "_view_module": "@jupyter-widgets/base",
            "_view_module_version": "1.2.0",
            "_view_name": "StyleView",
            "description_width": "",
            "handle_color": null
          }
        },
        "16a675b204c944fa928cdd64f4a26ae3": {
          "model_module": "@jupyter-widgets/base",
          "model_name": "LayoutModel",
          "model_module_version": "1.2.0",
          "state": {
            "_model_module": "@jupyter-widgets/base",
            "_model_module_version": "1.2.0",
            "_model_name": "LayoutModel",
            "_view_count": null,
            "_view_module": "@jupyter-widgets/base",
            "_view_module_version": "1.2.0",
            "_view_name": "LayoutView",
            "align_content": null,
            "align_items": null,
            "align_self": null,
            "border": null,
            "bottom": null,
            "display": null,
            "flex": null,
            "flex_flow": null,
            "grid_area": null,
            "grid_auto_columns": null,
            "grid_auto_flow": null,
            "grid_auto_rows": null,
            "grid_column": null,
            "grid_gap": null,
            "grid_row": null,
            "grid_template_areas": null,
            "grid_template_columns": null,
            "grid_template_rows": null,
            "height": null,
            "justify_content": null,
            "justify_items": null,
            "left": null,
            "margin": null,
            "max_height": null,
            "max_width": null,
            "min_height": null,
            "min_width": null,
            "object_fit": null,
            "object_position": null,
            "order": null,
            "overflow": null,
            "overflow_x": null,
            "overflow_y": null,
            "padding": null,
            "right": null,
            "top": null,
            "visibility": null,
            "width": null
          }
        },
        "150c92a5ea6c4bf5912e07c7c240ce3e": {
          "model_module": "@jupyter-widgets/controls",
          "model_name": "SliderStyleModel",
          "model_module_version": "1.5.0",
          "state": {
            "_model_module": "@jupyter-widgets/controls",
            "_model_module_version": "1.5.0",
            "_model_name": "SliderStyleModel",
            "_view_count": null,
            "_view_module": "@jupyter-widgets/base",
            "_view_module_version": "1.2.0",
            "_view_name": "StyleView",
            "description_width": "",
            "handle_color": null
          }
        },
        "e59d4bffdabf46afab12ae830496a03b": {
          "model_module": "@jupyter-widgets/base",
          "model_name": "LayoutModel",
          "model_module_version": "1.2.0",
          "state": {
            "_model_module": "@jupyter-widgets/base",
            "_model_module_version": "1.2.0",
            "_model_name": "LayoutModel",
            "_view_count": null,
            "_view_module": "@jupyter-widgets/base",
            "_view_module_version": "1.2.0",
            "_view_name": "LayoutView",
            "align_content": null,
            "align_items": null,
            "align_self": null,
            "border": null,
            "bottom": null,
            "display": null,
            "flex": null,
            "flex_flow": null,
            "grid_area": null,
            "grid_auto_columns": null,
            "grid_auto_flow": null,
            "grid_auto_rows": null,
            "grid_column": null,
            "grid_gap": null,
            "grid_row": null,
            "grid_template_areas": null,
            "grid_template_columns": null,
            "grid_template_rows": null,
            "height": null,
            "justify_content": null,
            "justify_items": null,
            "left": null,
            "margin": null,
            "max_height": null,
            "max_width": null,
            "min_height": null,
            "min_width": null,
            "object_fit": null,
            "object_position": null,
            "order": null,
            "overflow": null,
            "overflow_x": null,
            "overflow_y": null,
            "padding": null,
            "right": null,
            "top": null,
            "visibility": null,
            "width": null
          }
        },
        "f4d892e2adb24469bf082513b6a50eb5": {
          "model_module": "@jupyter-widgets/controls",
          "model_name": "SliderStyleModel",
          "model_module_version": "1.5.0",
          "state": {
            "_model_module": "@jupyter-widgets/controls",
            "_model_module_version": "1.5.0",
            "_model_name": "SliderStyleModel",
            "_view_count": null,
            "_view_module": "@jupyter-widgets/base",
            "_view_module_version": "1.2.0",
            "_view_name": "StyleView",
            "description_width": "",
            "handle_color": null
          }
        },
        "d94e6da3f5ea491998c54685c6a252e9": {
          "model_module": "@jupyter-widgets/base",
          "model_name": "LayoutModel",
          "model_module_version": "1.2.0",
          "state": {
            "_model_module": "@jupyter-widgets/base",
            "_model_module_version": "1.2.0",
            "_model_name": "LayoutModel",
            "_view_count": null,
            "_view_module": "@jupyter-widgets/base",
            "_view_module_version": "1.2.0",
            "_view_name": "LayoutView",
            "align_content": null,
            "align_items": null,
            "align_self": null,
            "border": null,
            "bottom": null,
            "display": null,
            "flex": null,
            "flex_flow": null,
            "grid_area": null,
            "grid_auto_columns": null,
            "grid_auto_flow": null,
            "grid_auto_rows": null,
            "grid_column": null,
            "grid_gap": null,
            "grid_row": null,
            "grid_template_areas": null,
            "grid_template_columns": null,
            "grid_template_rows": null,
            "height": null,
            "justify_content": null,
            "justify_items": null,
            "left": null,
            "margin": null,
            "max_height": null,
            "max_width": null,
            "min_height": null,
            "min_width": null,
            "object_fit": null,
            "object_position": null,
            "order": null,
            "overflow": null,
            "overflow_x": null,
            "overflow_y": null,
            "padding": null,
            "right": null,
            "top": null,
            "visibility": null,
            "width": null
          }
        },
        "2c37b1f3317547ed9d0dd02540ee6ce9": {
          "model_module": "@jupyter-widgets/controls",
          "model_name": "VBoxModel",
          "model_module_version": "1.5.0",
          "state": {
            "_dom_classes": [
              "widget-interact"
            ],
            "_model_module": "@jupyter-widgets/controls",
            "_model_module_version": "1.5.0",
            "_model_name": "VBoxModel",
            "_view_count": null,
            "_view_module": "@jupyter-widgets/controls",
            "_view_module_version": "1.5.0",
            "_view_name": "VBoxView",
            "box_style": "",
            "children": [
              "IPY_MODEL_dc395dd4ec6340cdafd39441ab673ada",
              "IPY_MODEL_390dff675d08484da7b0ff4120a37f84",
              "IPY_MODEL_2cee7f95c47844459b646bd9fb2f43e1",
              "IPY_MODEL_bc576b7a0cce4d20bc6cc680282f9c4c",
              "IPY_MODEL_e669c97145da4dcca28f8e5e176751ec"
            ],
            "layout": "IPY_MODEL_22038bf312e24059a8f5e5234051f49d"
          }
        },
        "dc395dd4ec6340cdafd39441ab673ada": {
          "model_module": "@jupyter-widgets/controls",
          "model_name": "IntSliderModel",
          "model_module_version": "1.5.0",
          "state": {
            "_dom_classes": [],
            "_model_module": "@jupyter-widgets/controls",
            "_model_module_version": "1.5.0",
            "_model_name": "IntSliderModel",
            "_view_count": null,
            "_view_module": "@jupyter-widgets/controls",
            "_view_module_version": "1.5.0",
            "_view_name": "IntSliderView",
            "continuous_update": true,
            "description": "q1",
            "description_tooltip": null,
            "disabled": false,
            "layout": "IPY_MODEL_c5d30235249e4efb82d8060d686c4902",
            "max": 180,
            "min": -180,
            "orientation": "horizontal",
            "readout": true,
            "readout_format": "d",
            "step": 1,
            "style": "IPY_MODEL_ca15b5a3849348379732640c92cf3a74",
            "value": 0
          }
        },
        "390dff675d08484da7b0ff4120a37f84": {
          "model_module": "@jupyter-widgets/controls",
          "model_name": "IntSliderModel",
          "model_module_version": "1.5.0",
          "state": {
            "_dom_classes": [],
            "_model_module": "@jupyter-widgets/controls",
            "_model_module_version": "1.5.0",
            "_model_name": "IntSliderModel",
            "_view_count": null,
            "_view_module": "@jupyter-widgets/controls",
            "_view_module_version": "1.5.0",
            "_view_name": "IntSliderView",
            "continuous_update": true,
            "description": "q2",
            "description_tooltip": null,
            "disabled": false,
            "layout": "IPY_MODEL_12e107bd369f43febd5e8441f212c22a",
            "max": 180,
            "min": -180,
            "orientation": "horizontal",
            "readout": true,
            "readout_format": "d",
            "step": 1,
            "style": "IPY_MODEL_9b9674c6abce434ca2cbbcb4619449ac",
            "value": 0
          }
        },
        "2cee7f95c47844459b646bd9fb2f43e1": {
          "model_module": "@jupyter-widgets/controls",
          "model_name": "IntSliderModel",
          "model_module_version": "1.5.0",
          "state": {
            "_dom_classes": [],
            "_model_module": "@jupyter-widgets/controls",
            "_model_module_version": "1.5.0",
            "_model_name": "IntSliderModel",
            "_view_count": null,
            "_view_module": "@jupyter-widgets/controls",
            "_view_module_version": "1.5.0",
            "_view_name": "IntSliderView",
            "continuous_update": true,
            "description": "l1",
            "description_tooltip": null,
            "disabled": false,
            "layout": "IPY_MODEL_844880f3797a400e9a844fc4fdb49504",
            "max": 10,
            "min": 0,
            "orientation": "horizontal",
            "readout": true,
            "readout_format": "d",
            "step": 1,
            "style": "IPY_MODEL_92d561dc79794b6d83b8f84dd649f12c",
            "value": 5
          }
        },
        "bc576b7a0cce4d20bc6cc680282f9c4c": {
          "model_module": "@jupyter-widgets/controls",
          "model_name": "IntSliderModel",
          "model_module_version": "1.5.0",
          "state": {
            "_dom_classes": [],
            "_model_module": "@jupyter-widgets/controls",
            "_model_module_version": "1.5.0",
            "_model_name": "IntSliderModel",
            "_view_count": null,
            "_view_module": "@jupyter-widgets/controls",
            "_view_module_version": "1.5.0",
            "_view_name": "IntSliderView",
            "continuous_update": true,
            "description": "l2",
            "description_tooltip": null,
            "disabled": false,
            "layout": "IPY_MODEL_315345310b3f48a985046c9eab4580e5",
            "max": 10,
            "min": 0,
            "orientation": "horizontal",
            "readout": true,
            "readout_format": "d",
            "step": 1,
            "style": "IPY_MODEL_69d72fc087a74274a25d345607e1f01a",
            "value": 5
          }
        },
        "e669c97145da4dcca28f8e5e176751ec": {
          "model_module": "@jupyter-widgets/output",
          "model_name": "OutputModel",
          "model_module_version": "1.0.0",
          "state": {
            "_dom_classes": [],
            "_model_module": "@jupyter-widgets/output",
            "_model_module_version": "1.0.0",
            "_model_name": "OutputModel",
            "_view_count": null,
            "_view_module": "@jupyter-widgets/output",
            "_view_module_version": "1.0.0",
            "_view_name": "OutputView",
            "layout": "IPY_MODEL_40134a277e18464ebb3cf797fc235361",
            "msg_id": "",
            "outputs": [
              {
                "output_type": "display_data",
                "data": {
                  "text/plain": "<Figure size 640x480 with 1 Axes>",
                  "image/png": "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\n"
                },
                "metadata": {}
              }
            ]
          }
        },
        "22038bf312e24059a8f5e5234051f49d": {
          "model_module": "@jupyter-widgets/base",
          "model_name": "LayoutModel",
          "model_module_version": "1.2.0",
          "state": {
            "_model_module": "@jupyter-widgets/base",
            "_model_module_version": "1.2.0",
            "_model_name": "LayoutModel",
            "_view_count": null,
            "_view_module": "@jupyter-widgets/base",
            "_view_module_version": "1.2.0",
            "_view_name": "LayoutView",
            "align_content": null,
            "align_items": null,
            "align_self": null,
            "border": null,
            "bottom": null,
            "display": null,
            "flex": null,
            "flex_flow": null,
            "grid_area": null,
            "grid_auto_columns": null,
            "grid_auto_flow": null,
            "grid_auto_rows": null,
            "grid_column": null,
            "grid_gap": null,
            "grid_row": null,
            "grid_template_areas": null,
            "grid_template_columns": null,
            "grid_template_rows": null,
            "height": null,
            "justify_content": null,
            "justify_items": null,
            "left": null,
            "margin": null,
            "max_height": null,
            "max_width": null,
            "min_height": null,
            "min_width": null,
            "object_fit": null,
            "object_position": null,
            "order": null,
            "overflow": null,
            "overflow_x": null,
            "overflow_y": null,
            "padding": null,
            "right": null,
            "top": null,
            "visibility": null,
            "width": null
          }
        },
        "c5d30235249e4efb82d8060d686c4902": {
          "model_module": "@jupyter-widgets/base",
          "model_name": "LayoutModel",
          "model_module_version": "1.2.0",
          "state": {
            "_model_module": "@jupyter-widgets/base",
            "_model_module_version": "1.2.0",
            "_model_name": "LayoutModel",
            "_view_count": null,
            "_view_module": "@jupyter-widgets/base",
            "_view_module_version": "1.2.0",
            "_view_name": "LayoutView",
            "align_content": null,
            "align_items": null,
            "align_self": null,
            "border": null,
            "bottom": null,
            "display": null,
            "flex": null,
            "flex_flow": null,
            "grid_area": null,
            "grid_auto_columns": null,
            "grid_auto_flow": null,
            "grid_auto_rows": null,
            "grid_column": null,
            "grid_gap": null,
            "grid_row": null,
            "grid_template_areas": null,
            "grid_template_columns": null,
            "grid_template_rows": null,
            "height": null,
            "justify_content": null,
            "justify_items": null,
            "left": null,
            "margin": null,
            "max_height": null,
            "max_width": null,
            "min_height": null,
            "min_width": null,
            "object_fit": null,
            "object_position": null,
            "order": null,
            "overflow": null,
            "overflow_x": null,
            "overflow_y": null,
            "padding": null,
            "right": null,
            "top": null,
            "visibility": null,
            "width": null
          }
        },
        "ca15b5a3849348379732640c92cf3a74": {
          "model_module": "@jupyter-widgets/controls",
          "model_name": "SliderStyleModel",
          "model_module_version": "1.5.0",
          "state": {
            "_model_module": "@jupyter-widgets/controls",
            "_model_module_version": "1.5.0",
            "_model_name": "SliderStyleModel",
            "_view_count": null,
            "_view_module": "@jupyter-widgets/base",
            "_view_module_version": "1.2.0",
            "_view_name": "StyleView",
            "description_width": "",
            "handle_color": null
          }
        },
        "12e107bd369f43febd5e8441f212c22a": {
          "model_module": "@jupyter-widgets/base",
          "model_name": "LayoutModel",
          "model_module_version": "1.2.0",
          "state": {
            "_model_module": "@jupyter-widgets/base",
            "_model_module_version": "1.2.0",
            "_model_name": "LayoutModel",
            "_view_count": null,
            "_view_module": "@jupyter-widgets/base",
            "_view_module_version": "1.2.0",
            "_view_name": "LayoutView",
            "align_content": null,
            "align_items": null,
            "align_self": null,
            "border": null,
            "bottom": null,
            "display": null,
            "flex": null,
            "flex_flow": null,
            "grid_area": null,
            "grid_auto_columns": null,
            "grid_auto_flow": null,
            "grid_auto_rows": null,
            "grid_column": null,
            "grid_gap": null,
            "grid_row": null,
            "grid_template_areas": null,
            "grid_template_columns": null,
            "grid_template_rows": null,
            "height": null,
            "justify_content": null,
            "justify_items": null,
            "left": null,
            "margin": null,
            "max_height": null,
            "max_width": null,
            "min_height": null,
            "min_width": null,
            "object_fit": null,
            "object_position": null,
            "order": null,
            "overflow": null,
            "overflow_x": null,
            "overflow_y": null,
            "padding": null,
            "right": null,
            "top": null,
            "visibility": null,
            "width": null
          }
        },
        "9b9674c6abce434ca2cbbcb4619449ac": {
          "model_module": "@jupyter-widgets/controls",
          "model_name": "SliderStyleModel",
          "model_module_version": "1.5.0",
          "state": {
            "_model_module": "@jupyter-widgets/controls",
            "_model_module_version": "1.5.0",
            "_model_name": "SliderStyleModel",
            "_view_count": null,
            "_view_module": "@jupyter-widgets/base",
            "_view_module_version": "1.2.0",
            "_view_name": "StyleView",
            "description_width": "",
            "handle_color": null
          }
        },
        "844880f3797a400e9a844fc4fdb49504": {
          "model_module": "@jupyter-widgets/base",
          "model_name": "LayoutModel",
          "model_module_version": "1.2.0",
          "state": {
            "_model_module": "@jupyter-widgets/base",
            "_model_module_version": "1.2.0",
            "_model_name": "LayoutModel",
            "_view_count": null,
            "_view_module": "@jupyter-widgets/base",
            "_view_module_version": "1.2.0",
            "_view_name": "LayoutView",
            "align_content": null,
            "align_items": null,
            "align_self": null,
            "border": null,
            "bottom": null,
            "display": null,
            "flex": null,
            "flex_flow": null,
            "grid_area": null,
            "grid_auto_columns": null,
            "grid_auto_flow": null,
            "grid_auto_rows": null,
            "grid_column": null,
            "grid_gap": null,
            "grid_row": null,
            "grid_template_areas": null,
            "grid_template_columns": null,
            "grid_template_rows": null,
            "height": null,
            "justify_content": null,
            "justify_items": null,
            "left": null,
            "margin": null,
            "max_height": null,
            "max_width": null,
            "min_height": null,
            "min_width": null,
            "object_fit": null,
            "object_position": null,
            "order": null,
            "overflow": null,
            "overflow_x": null,
            "overflow_y": null,
            "padding": null,
            "right": null,
            "top": null,
            "visibility": null,
            "width": null
          }
        },
        "92d561dc79794b6d83b8f84dd649f12c": {
          "model_module": "@jupyter-widgets/controls",
          "model_name": "SliderStyleModel",
          "model_module_version": "1.5.0",
          "state": {
            "_model_module": "@jupyter-widgets/controls",
            "_model_module_version": "1.5.0",
            "_model_name": "SliderStyleModel",
            "_view_count": null,
            "_view_module": "@jupyter-widgets/base",
            "_view_module_version": "1.2.0",
            "_view_name": "StyleView",
            "description_width": "",
            "handle_color": null
          }
        },
        "315345310b3f48a985046c9eab4580e5": {
          "model_module": "@jupyter-widgets/base",
          "model_name": "LayoutModel",
          "model_module_version": "1.2.0",
          "state": {
            "_model_module": "@jupyter-widgets/base",
            "_model_module_version": "1.2.0",
            "_model_name": "LayoutModel",
            "_view_count": null,
            "_view_module": "@jupyter-widgets/base",
            "_view_module_version": "1.2.0",
            "_view_name": "LayoutView",
            "align_content": null,
            "align_items": null,
            "align_self": null,
            "border": null,
            "bottom": null,
            "display": null,
            "flex": null,
            "flex_flow": null,
            "grid_area": null,
            "grid_auto_columns": null,
            "grid_auto_flow": null,
            "grid_auto_rows": null,
            "grid_column": null,
            "grid_gap": null,
            "grid_row": null,
            "grid_template_areas": null,
            "grid_template_columns": null,
            "grid_template_rows": null,
            "height": null,
            "justify_content": null,
            "justify_items": null,
            "left": null,
            "margin": null,
            "max_height": null,
            "max_width": null,
            "min_height": null,
            "min_width": null,
            "object_fit": null,
            "object_position": null,
            "order": null,
            "overflow": null,
            "overflow_x": null,
            "overflow_y": null,
            "padding": null,
            "right": null,
            "top": null,
            "visibility": null,
            "width": null
          }
        },
        "69d72fc087a74274a25d345607e1f01a": {
          "model_module": "@jupyter-widgets/controls",
          "model_name": "SliderStyleModel",
          "model_module_version": "1.5.0",
          "state": {
            "_model_module": "@jupyter-widgets/controls",
            "_model_module_version": "1.5.0",
            "_model_name": "SliderStyleModel",
            "_view_count": null,
            "_view_module": "@jupyter-widgets/base",
            "_view_module_version": "1.2.0",
            "_view_name": "StyleView",
            "description_width": "",
            "handle_color": null
          }
        },
        "40134a277e18464ebb3cf797fc235361": {
          "model_module": "@jupyter-widgets/base",
          "model_name": "LayoutModel",
          "model_module_version": "1.2.0",
          "state": {
            "_model_module": "@jupyter-widgets/base",
            "_model_module_version": "1.2.0",
            "_model_name": "LayoutModel",
            "_view_count": null,
            "_view_module": "@jupyter-widgets/base",
            "_view_module_version": "1.2.0",
            "_view_name": "LayoutView",
            "align_content": null,
            "align_items": null,
            "align_self": null,
            "border": null,
            "bottom": null,
            "display": null,
            "flex": null,
            "flex_flow": null,
            "grid_area": null,
            "grid_auto_columns": null,
            "grid_auto_flow": null,
            "grid_auto_rows": null,
            "grid_column": null,
            "grid_gap": null,
            "grid_row": null,
            "grid_template_areas": null,
            "grid_template_columns": null,
            "grid_template_rows": null,
            "height": null,
            "justify_content": null,
            "justify_items": null,
            "left": null,
            "margin": null,
            "max_height": null,
            "max_width": null,
            "min_height": null,
            "min_width": null,
            "object_fit": null,
            "object_position": null,
            "order": null,
            "overflow": null,
            "overflow_x": null,
            "overflow_y": null,
            "padding": null,
            "right": null,
            "top": null,
            "visibility": null,
            "width": null
          }
        }
      }
    }
  },
  "cells": [
    {
      "cell_type": "markdown",
      "metadata": {
        "id": "view-in-github",
        "colab_type": "text"
      },
      "source": [
        "<a href=\"https://colab.research.google.com/github/dequiroz/1MTR53_RobIA/blob/main/2_DH_Manipulador.ipynb\" target=\"_parent\"><img src=\"https://colab.research.google.com/assets/colab-badge.svg\" alt=\"Open In Colab\"/></a>"
      ]
    },
    {
      "cell_type": "markdown",
      "source": [
        "<img src=\"https://drive.google.com/uc?export=view&id=1VBn7nKlruxCPLHH_UuD8B2pkvKP7JLRd\" alt=\"drawing\" width=800/>\n",
        "\n",
        "<img src=\"https://drive.google.com/uc?export=view&id=1uF_4x1YqLuS3M0mlh3NrMrEUHvjBMBFw\" alt=\"drawing\" width=800/>\n",
        "\n",
        "<img src=\"https://drive.google.com/uc?export=view&id=1vgFoFHEKMN0WcAFlKS2hPMg2KuBm3sp9\" alt=\"drawing\"/>"
      ],
      "metadata": {
        "id": "Bv_4qMOg1jmp"
      }
    },
    {
      "cell_type": "markdown",
      "source": [
        "#Cinemática directa empleando Denavit-Hartenberg"
      ],
      "metadata": {
        "id": "bgMaCnV-_Iwv"
      }
    },
    {
      "cell_type": "markdown",
      "source": [
        "##1. Introducción a transformación de Denavit-Hartenberg"
      ],
      "metadata": {
        "id": "NsM1Hhj3jo24"
      }
    },
    {
      "cell_type": "markdown",
      "source": [
        "Recordemos que los parámetros Denavit-Hartenberg nos ayudan a definir una serie de transformaciones entre sistemas de referencia\n",
        "\n",
        "<img src=\"https://drive.google.com/uc?export=view&id=14p7kb9mt1v6ODLtkP1YDg1F_zzo-gC4q\" alt=\"drawing\" width=\"600\"/>\n",
        "\n",
        "Estos parámetros se pueden resumir en una matriz de transformación homogenea que representa las rotaciones y translaciones que se han realizado para desplazarse entre sistemas de referencia\n",
        "\n",
        "<img src=\"https://drive.google.com/uc?export=view&id=1QsMcmOlMFuTW7e53alAqXUN_zg4Op4qU\" alt=\"drawing\" width=\"600\"/>"
      ],
      "metadata": {
        "id": "An0ioRR5juuE"
      }
    },
    {
      "cell_type": "markdown",
      "source": [
        "##2. Análisis simbólico de transformación Denavit-Hartenberg"
      ],
      "metadata": {
        "id": "Sr473Zps_hDh"
      }
    },
    {
      "cell_type": "markdown",
      "source": [
        "Para esté análisis se emplea la librería [sympy](https://www.sympy.org/en/index.html), la cual nos permitirá determinar las matrices de transformación homogeneas para cada eslabón"
      ],
      "metadata": {
        "id": "711dvvl3vzoB"
      }
    },
    {
      "cell_type": "code",
      "execution_count": null,
      "metadata": {
        "id": "8Rdld6tNGWDB"
      },
      "outputs": [],
      "source": [
        "import sympy as sp     # Se importa la biblioteca para el cálculo simbólico"
      ]
    },
    {
      "cell_type": "code",
      "source": [
        "# =============================================================================\n",
        "# Se definen una función para representar la transformación de Denavit-Hartenberg\n",
        "# =============================================================================\n",
        "def transformacion_DH(d: sp.symbols, a: sp.symbols, alfa: sp.symbols, theta: sp.symbols) -> sp.Matrix:\n",
        "  \"\"\"\n",
        "  Retorna una representación simbólica de la transformación de Denavit-Hartenberg\n",
        "\n",
        "  Parametros (sp.symbols):\n",
        "    d    : Traslación 𝑑 a lo largo del eje Z\n",
        "    a    : Traslación 𝑎 a lo largo del eje X\n",
        "    theta: Rotación 𝜃 a lo largo del eje Z\n",
        "    alfa : Rotación 𝛼 a lo largo del eje X\n",
        "  \"\"\"\n",
        "  cos_theta = sp.cos(theta)\n",
        "  sin_theta = sp.sin(theta)\n",
        "  cos_alfa  = sp.cos(alfa)\n",
        "  sin_alfa  = sp.sin(alfa)\n",
        "  T = sp.Matrix([[cos_theta, -cos_alfa*sin_theta,  sin_alfa*sin_theta, a*cos_theta],\n",
        "                  [sin_theta,  cos_alfa*cos_theta, -sin_alfa*cos_theta, a*sin_theta],\n",
        "                  [0, sin_alfa, cos_alfa, d],\n",
        "                  [0, 0, 0, 1]])\n",
        "  return T"
      ],
      "metadata": {
        "id": "6TDn0UuzGxJq"
      },
      "execution_count": null,
      "outputs": []
    },
    {
      "cell_type": "code",
      "source": [
        "# Para usar la función se debe definir las variables de forma simbólica que\n",
        "# representan la geometría del eslabón\n",
        "theta, d, a, alfa = sp.symbols(\"𝜃 d a 𝛼\")\n",
        "\n",
        "TDH = transformacion_DH(d, a, alfa, theta)\n",
        "print(\"TDH:\"); display(TDH)"
      ],
      "metadata": {
        "colab": {
          "base_uri": "https://localhost:8080/",
          "height": 116
        },
        "id": "jvSh-OWpo8Td",
        "outputId": "175fc987-a83e-4fd0-d721-1e849f0e4b61"
      },
      "execution_count": null,
      "outputs": [
        {
          "output_type": "stream",
          "name": "stdout",
          "text": [
            "TDH:\n"
          ]
        },
        {
          "output_type": "display_data",
          "data": {
            "text/plain": [
              "Matrix([\n",
              "[cos(𝜃), -sin(𝜃)*cos(𝛼),  sin(𝛼)*sin(𝜃), a*cos(𝜃)],\n",
              "[sin(𝜃),  cos(𝛼)*cos(𝜃), -sin(𝛼)*cos(𝜃), a*sin(𝜃)],\n",
              "[     0,         sin(𝛼),         cos(𝛼),        d],\n",
              "[     0,              0,              0,        1]])"
            ],
            "text/latex": "$\\displaystyle \\left[\\begin{matrix}\\cos{\\left(𝜃 \\right)} & - \\sin{\\left(𝜃 \\right)} \\cos{\\left(𝛼 \\right)} & \\sin{\\left(𝛼 \\right)} \\sin{\\left(𝜃 \\right)} & a \\cos{\\left(𝜃 \\right)}\\\\\\sin{\\left(𝜃 \\right)} & \\cos{\\left(𝛼 \\right)} \\cos{\\left(𝜃 \\right)} & - \\sin{\\left(𝛼 \\right)} \\cos{\\left(𝜃 \\right)} & a \\sin{\\left(𝜃 \\right)}\\\\0 & \\sin{\\left(𝛼 \\right)} & \\cos{\\left(𝛼 \\right)} & d\\\\0 & 0 & 0 & 1\\end{matrix}\\right]$"
          },
          "metadata": {}
        }
      ]
    },
    {
      "cell_type": "markdown",
      "source": [
        "## 3. Cálculo numérico"
      ],
      "metadata": {
        "id": "ogIZcqp__k9n"
      }
    },
    {
      "cell_type": "markdown",
      "source": [
        "El mismo procedimiento se puede realizar de forma numérica empleando numpy para el manejo de matrices y vectores en python"
      ],
      "metadata": {
        "id": "wNAFR6Re1VeF"
      }
    },
    {
      "cell_type": "code",
      "source": [
        "import numpy as np"
      ],
      "metadata": {
        "id": "geVv68gN19pg"
      },
      "execution_count": null,
      "outputs": []
    },
    {
      "cell_type": "code",
      "source": [
        "# =============================================================================\n",
        "# Se definen una función para calcular la transformación de Denavit-Hartenberg\n",
        "# =============================================================================\n",
        "def transformacion_DH_num(d: float, a: float, alfa: float, theta: float) -> np.ndarray:\n",
        "  \"\"\"\n",
        "  Retorna una representación numérica de la transformación de Denavit-Hartenberg\n",
        "\n",
        "  Parametros (float):\n",
        "    d    : Traslación 𝑑 a lo largo del eje Z\n",
        "    a    : Traslación 𝑎 a lo largo del eje X\n",
        "    theta: Rotación 𝜃 a lo largo del eje Z\n",
        "    alfa : Rotación 𝛼 a lo largo del eje X\n",
        "  \"\"\"\n",
        "  cos_theta = np.cos(theta)\n",
        "  sin_theta = np.sin(theta)\n",
        "  cos_alfa  = np.cos(alfa)\n",
        "  sin_alfa  = np.sin(alfa)\n",
        "  T = np.array([[cos_theta, -cos_alfa*sin_theta,  sin_alfa*sin_theta, a*cos_theta],\n",
        "                [sin_theta,  cos_alfa*cos_theta, -sin_alfa*cos_theta, a*sin_theta],\n",
        "                [0, sin_alfa, cos_alfa, d],\n",
        "                [0, 0, 0, 1]])\n",
        "  return T"
      ],
      "metadata": {
        "id": "PBTNuEBN2BBl"
      },
      "execution_count": null,
      "outputs": []
    },
    {
      "cell_type": "code",
      "source": [
        "# Para usar la función se debe definir los valores correspondientes a los\n",
        "# parámetros de Denavit-Hartenberg. Estos dependen de la geometría del robot\n",
        "theta, d, a, alfa = (np.deg2rad(30), 10, 5, np.deg2rad(45))\n",
        "\n",
        "TDH = transformacion_DH_num(d, a, alfa, theta)\n",
        "print(\"TDH:\")\n",
        "print(np.round(TDH,3))"
      ],
      "metadata": {
        "colab": {
          "base_uri": "https://localhost:8080/"
        },
        "id": "t3lkkapip62v",
        "outputId": "5eddb073-5e97-418a-f13c-41c0f527c96d"
      },
      "execution_count": null,
      "outputs": [
        {
          "output_type": "stream",
          "name": "stdout",
          "text": [
            "TDH:\n",
            "[[ 0.866 -0.354  0.354  4.33 ]\n",
            " [ 0.5    0.612 -0.612  2.5  ]\n",
            " [ 0.     0.707  0.707 10.   ]\n",
            " [ 0.     0.     0.     1.   ]]\n"
          ]
        }
      ]
    },
    {
      "cell_type": "markdown",
      "source": [
        "## 1. Robot manipulador de 2 grados rotacionales (RR)\n",
        "\n"
      ],
      "metadata": {
        "id": "vFygNcV7_So7"
      }
    },
    {
      "cell_type": "markdown",
      "source": [
        "Recordar el manipulador descrito\n",
        "\n",
        "<p align=\"center\">\n",
        "<img src=\"https://drive.google.com/uc?export=view&id=1Gt7FztKupxVbmHPmauYFbJkDMeNEU9VO\" alt=\"drawing\" width=\"300\"/></p>"
      ],
      "metadata": {
        "id": "1CwxUQfCKqbe"
      }
    },
    {
      "cell_type": "markdown",
      "source": [
        "del DCL del manipulador, se puede observar que el sistema de referencia 1 presenta las siguientes transformaciones respecto a la base del robot:\n",
        "\n",
        "*   Rotación en el eje $Z$ de ángulo $\\theta_1$\n",
        "*   Traslación alrededor del eje $X_1$ de valor $l_1$\n",
        "\n",
        "De igual forma, el sistema de referencia 2 presenta las siguientes transformaciones respecto al sistema de referencia 1:\n",
        "\n",
        "*   Rotación en el eje $Z_1$ de ángulo $\\theta_2$\n",
        "*   Traslación alrededor del eje $X_1$ de valor $l_2$\n",
        "\n",
        "Estas transformaciones se pueden expresar según la siguiente tabla de parámetros Denavit-Hartenberg\n",
        "\n",
        "</br>\n",
        "\n",
        "**Taba de DH: Robot RR:**   \n",
        "\n",
        "|d|a|alpha|theta|\n",
        "|-|-|-|-|\n",
        "|0|$l_1$| 0|$q_1$|\n",
        "|0|$l_2$| 0|$q_2$|\n"
      ],
      "metadata": {
        "id": "HYSng5CYK-Dw"
      }
    },
    {
      "cell_type": "markdown",
      "source": [
        "### Análisis simbólico"
      ],
      "metadata": {
        "id": "JpSyREuBqpr0"
      }
    },
    {
      "cell_type": "code",
      "source": [
        "# Definición de variables representativas de la geometría del manipulador\n",
        "q1, q2, l1, l2 = sp.symbols(\"q1 q2 l1 l2\")\n",
        "\n",
        "# Se definen las matrices de transformacion homogenea correspondientes empleando\n",
        "# la notación:\n",
        "#    Tab: Transformación del sistema 'b' con respecto al sistema 'a'\n",
        "\n",
        "# Se definen la transformación del sistema 1 (codo) respecto al sistema 0 (base del robot)\n",
        "T01 = transformacion_DH(0,l1,0,q1)\n",
        "# Se definen la transformación del sistema 2 (efector final) respecto al sistema 1 (codo)\n",
        "T12 = transformacion_DH(0,l2,0,q2)\n",
        "# Se definen la transformación del sistema 2 (efector final) respecto al sistema 0 (base del robot)\n",
        "T02 = sp.simplify(T01*T12)\n",
        "\n",
        "# Mostrar las transformaciones homogéneas (display funciona con IPython)\n",
        "print(\"T01:\"); display(T01)\n",
        "print(\"T12:\"); display(T12)\n",
        "print(\"T02:\"); display(T02)"
      ],
      "metadata": {
        "id": "jdeMy5pWHE5G",
        "colab": {
          "base_uri": "https://localhost:8080/",
          "height": 313
        },
        "outputId": "2cb3e5c2-c9c1-4a0a-b3b5-cf76e2aee755"
      },
      "execution_count": null,
      "outputs": [
        {
          "output_type": "stream",
          "name": "stdout",
          "text": [
            "T01:\n"
          ]
        },
        {
          "output_type": "display_data",
          "data": {
            "text/plain": [
              "Matrix([\n",
              "[cos(q1), -sin(q1), 0, l1*cos(q1)],\n",
              "[sin(q1),  cos(q1), 0, l1*sin(q1)],\n",
              "[      0,        0, 1,          0],\n",
              "[      0,        0, 0,          1]])"
            ],
            "text/latex": "$\\displaystyle \\left[\\begin{matrix}\\cos{\\left(q_{1} \\right)} & - \\sin{\\left(q_{1} \\right)} & 0 & l_{1} \\cos{\\left(q_{1} \\right)}\\\\\\sin{\\left(q_{1} \\right)} & \\cos{\\left(q_{1} \\right)} & 0 & l_{1} \\sin{\\left(q_{1} \\right)}\\\\0 & 0 & 1 & 0\\\\0 & 0 & 0 & 1\\end{matrix}\\right]$"
          },
          "metadata": {}
        },
        {
          "output_type": "stream",
          "name": "stdout",
          "text": [
            "T12:\n"
          ]
        },
        {
          "output_type": "display_data",
          "data": {
            "text/plain": [
              "Matrix([\n",
              "[cos(q2), -sin(q2), 0, l2*cos(q2)],\n",
              "[sin(q2),  cos(q2), 0, l2*sin(q2)],\n",
              "[      0,        0, 1,          0],\n",
              "[      0,        0, 0,          1]])"
            ],
            "text/latex": "$\\displaystyle \\left[\\begin{matrix}\\cos{\\left(q_{2} \\right)} & - \\sin{\\left(q_{2} \\right)} & 0 & l_{2} \\cos{\\left(q_{2} \\right)}\\\\\\sin{\\left(q_{2} \\right)} & \\cos{\\left(q_{2} \\right)} & 0 & l_{2} \\sin{\\left(q_{2} \\right)}\\\\0 & 0 & 1 & 0\\\\0 & 0 & 0 & 1\\end{matrix}\\right]$"
          },
          "metadata": {}
        },
        {
          "output_type": "stream",
          "name": "stdout",
          "text": [
            "T02:\n"
          ]
        },
        {
          "output_type": "display_data",
          "data": {
            "text/plain": [
              "Matrix([\n",
              "[cos(q1 + q2), -sin(q1 + q2), 0, l1*cos(q1) + l2*cos(q1 + q2)],\n",
              "[sin(q1 + q2),  cos(q1 + q2), 0, l1*sin(q1) + l2*sin(q1 + q2)],\n",
              "[           0,             0, 1,                            0],\n",
              "[           0,             0, 0,                            1]])"
            ],
            "text/latex": "$\\displaystyle \\left[\\begin{matrix}\\cos{\\left(q_{1} + q_{2} \\right)} & - \\sin{\\left(q_{1} + q_{2} \\right)} & 0 & l_{1} \\cos{\\left(q_{1} \\right)} + l_{2} \\cos{\\left(q_{1} + q_{2} \\right)}\\\\\\sin{\\left(q_{1} + q_{2} \\right)} & \\cos{\\left(q_{1} + q_{2} \\right)} & 0 & l_{1} \\sin{\\left(q_{1} \\right)} + l_{2} \\sin{\\left(q_{1} + q_{2} \\right)}\\\\0 & 0 & 1 & 0\\\\0 & 0 & 0 & 1\\end{matrix}\\right]$"
          },
          "metadata": {}
        }
      ]
    },
    {
      "cell_type": "markdown",
      "source": [
        "Analizando los resultados se puede observar que las matrices de transformaciones son las mismas que las obtenidas mediante el método geométrico"
      ],
      "metadata": {
        "id": "qwFG0y3I0h69"
      }
    },
    {
      "cell_type": "markdown",
      "source": [
        "### Análisis numérico"
      ],
      "metadata": {
        "id": "YWHV8twjqxK-"
      }
    },
    {
      "cell_type": "code",
      "source": [
        "# =============================================================================\n",
        "# Se define la función para calcular la cinemática directa del manipulador de\n",
        "# 2 grados de libertad RR\n",
        "# =============================================================================\n",
        "def cinematica_directa_robot2D(q1: float, q2: float, l1: float, l2: float):\n",
        "  \"\"\"\n",
        "  Calcula la cinemática directa del robot 2D\n",
        "\n",
        "  Parámetros (float):\n",
        "      q1: Ángulo de la articulación 1 en radianes.\n",
        "      q2: Ángulo de la articulación 2 en radianes.\n",
        "      l1: Longitud del eslabón 1.\n",
        "      l2: Longitud del eslabón 2.\n",
        "\n",
        "  Retorna:\n",
        "      Una tupla de matriz 4x4 que representan las transformaciones homogénea de\n",
        "      cada eslabón con respecto a la base del robot.\n",
        "  \"\"\"\n",
        "  # Se definen las matrices de transformacion homogenea correspondientes empleando\n",
        "  # la notación:\n",
        "  #    Tab: Transformación del sistema 'b' con respecto al sistema 'a'\n",
        "  T01 = transformacion_DH_num(0,l1,0,q1)\n",
        "  T12 = transformacion_DH_num(0,l2,0,q2)\n",
        "  T02 = T01 @ T12\n",
        "  return T01, T02\n"
      ],
      "metadata": {
        "id": "QctClpGm2ooM"
      },
      "execution_count": null,
      "outputs": []
    },
    {
      "cell_type": "code",
      "source": [
        "from ipywidgets import interact\n",
        "\n",
        "# =============================================================================\n",
        "# Se emplea la función interact (funciona en Jupiter o Colab) para generar un\n",
        "# sistema interactivo.\n",
        "# =============================================================================\n",
        "@interact(q1=(-180, 180, 1), q2=(-180, 180, 1), l1=(0, 10, 1), l2=(0, 10, 1))\n",
        "def cinematica_directa_interactivo(q1, q2, l1, l2):\n",
        "  # Aplicación de cinemática directa numérica\n",
        "  q1 = np.deg2rad(q1)\n",
        "  q2 = np.deg2rad(q2)\n",
        "  T01, T02 = cinematica_directa_robot2D(q1, q2, l1, l2)\n",
        "\n",
        "  # Mostrar el resultado\n",
        "  print(np.round(T02,3))"
      ],
      "metadata": {
        "colab": {
          "base_uri": "https://localhost:8080/",
          "height": 214,
          "referenced_widgets": [
            "369a60263ba04878aa6a6493b2aed344",
            "dca5f907177b4e5daafb8ae632748f13",
            "af40bd95e99447eab4e3e0f492e6d4dc",
            "eca41992923d4b559562b5f33d460dbd",
            "8755a72a723b43fb97c59b94726ea39e",
            "e2632fe4ce374508a441624f963a9e98",
            "2af875d6ff4844608f4da2dbdf9ffa09",
            "78556ac6371d47e0a514e660fd4e6351",
            "fcb9ec2c2f2f4dfa8d772dc6fcb169d1",
            "0e1a807cc0014b569e4d1d6f10cbba32",
            "af18a79f02914e6f95d633c7b6599572",
            "5bec625def094421a489b3ee286a9127",
            "9a93ccdc2d664376986f79789320a544",
            "e8f46078376443c1b1af2b2f337870d9",
            "1c9060c5d02c4417890e151d63fdd655",
            "0d55af65bc214a94826ecef4117d5e7a"
          ]
        },
        "id": "EIUJWUEC3oCD",
        "outputId": "7440b622-0af9-4132-f4b9-1e41c2bc2c53"
      },
      "execution_count": null,
      "outputs": [
        {
          "output_type": "display_data",
          "data": {
            "text/plain": [
              "interactive(children=(IntSlider(value=0, description='q1', max=180, min=-180), IntSlider(value=0, description=…"
            ],
            "application/vnd.jupyter.widget-view+json": {
              "version_major": 2,
              "version_minor": 0,
              "model_id": "369a60263ba04878aa6a6493b2aed344"
            }
          },
          "metadata": {}
        }
      ]
    },
    {
      "cell_type": "markdown",
      "source": [
        "### 3. Simulación gráfica"
      ],
      "metadata": {
        "id": "LEPI9xgVAAGA"
      }
    },
    {
      "cell_type": "markdown",
      "source": [
        "En esta sección se emplea la librería [matplotlib](https://matplotlib.org/) para graficar un esquema del manipulador"
      ],
      "metadata": {
        "id": "CPeReI5NAFMM"
      }
    },
    {
      "cell_type": "code",
      "source": [
        "from ipywidgets import interact\n",
        "import matplotlib.pyplot as plt\n",
        "\n",
        "# =============================================================================\n",
        "# Se emplea la función interact (funciona en Jupiter o Colab) para generar un\n",
        "# sistema interactivo.\n",
        "# =============================================================================\n",
        "@interact(q1=(-180, 180, 1), q2=(-180, 180, 1), l1=(0, 10, 1), l2=(0, 10, 1))\n",
        "def plot_robot(q1, q2, l1, l2):\n",
        "  # Aplicación de cinemática directa numérica\n",
        "  q1 = np.deg2rad(q1)\n",
        "  q2 = np.deg2rad(q2)\n",
        "  T01, T02 = cinematica_directa_robot2D(q1, q2, l1, l2)\n",
        "\n",
        "  # Obtener las coordenadas del efector final\n",
        "  x2 = T02[0, 3]\n",
        "  y2 = T02[1, 3]\n",
        "\n",
        "  # Obtener las coordenadas del codo\n",
        "  x1 = T01[0, 3]\n",
        "  y1 = T01[1, 3]\n",
        "\n",
        "  # Graficar el robot\n",
        "  plt.figure(figsize=(4, 4))\n",
        "  plt.plot([0, x1, x2], [0, y1, y2], 'o-', color='purple', linewidth=2)\n",
        "  plt.plot(0,0, x1, y1, marker='o', color='y', markersize=5)\n",
        "  plt.xlabel('X')\n",
        "  plt.ylabel('Y')\n",
        "  plt.title('Robot de 2 grados de libertad RR')\n",
        "  plt.xlim([-15, 15])\n",
        "  plt.ylim([-15, 15])\n",
        "  plt.grid(True)\n",
        "  plt.show()"
      ],
      "metadata": {
        "colab": {
          "base_uri": "https://localhost:8080/",
          "height": 538,
          "referenced_widgets": [
            "c1f696b7757c4623818fa2f8c539251e",
            "e5e6af119e394960837145cee7c73a96",
            "41883be1f27241eb9b31b8d696f37453",
            "1713341a1e1e40f99b7fe568829e20c4",
            "74c9aceb3a254f209bbf3894a4da1afd",
            "9359f13f7d0e4fc691cd45594b11e8eb",
            "b19807c0300c4859a1c6d95fdef1e22c",
            "44c6066ea9a2426f9f57fd50de30d3ed",
            "64c73727dd994a86a77b3aa4dd5db427",
            "50113845c5df43f98a9169ebfe0e4d00",
            "6cca6b9b87a14bdd910cae393b2b6c38",
            "16a675b204c944fa928cdd64f4a26ae3",
            "150c92a5ea6c4bf5912e07c7c240ce3e",
            "e59d4bffdabf46afab12ae830496a03b",
            "f4d892e2adb24469bf082513b6a50eb5",
            "d94e6da3f5ea491998c54685c6a252e9"
          ]
        },
        "id": "uHYhaOl0Aa7p",
        "outputId": "55e790cf-0e1a-481a-c9ce-5ec4d5b93a8e"
      },
      "execution_count": null,
      "outputs": [
        {
          "output_type": "display_data",
          "data": {
            "text/plain": [
              "interactive(children=(IntSlider(value=0, description='q1', max=180, min=-180), IntSlider(value=0, description=…"
            ],
            "application/vnd.jupyter.widget-view+json": {
              "version_major": 2,
              "version_minor": 0,
              "model_id": "c1f696b7757c4623818fa2f8c539251e"
            }
          },
          "metadata": {}
        }
      ]
    },
    {
      "cell_type": "markdown",
      "source": [
        "### 4. Simulación gráfica 3D empleando visual_kinematics"
      ],
      "metadata": {
        "id": "_sbnk1HcsEhh"
      }
    },
    {
      "cell_type": "markdown",
      "source": [
        "En esta sección se emplea la librería [visual_kinematics](https://github.com/dbddqy/visual_kinematics) para graficar un esquema del manipulador en un entorno tridimensional.\n",
        "\n",
        "Está librería no es estandard en colab por lo que se requiere instalar antes de poder usarla. **Ejecutar la siguiente linea para la instalación**"
      ],
      "metadata": {
        "id": "76Dorb29sPTf"
      }
    },
    {
      "cell_type": "code",
      "source": [
        "!pip install visual_kinematics"
      ],
      "metadata": {
        "colab": {
          "base_uri": "https://localhost:8080/"
        },
        "id": "A-TRTI3CHSLy",
        "outputId": "75b04405-d99f-4177-cf79-ead8f0624547"
      },
      "execution_count": null,
      "outputs": [
        {
          "output_type": "stream",
          "name": "stdout",
          "text": [
            "Requirement already satisfied: visual_kinematics in /usr/local/lib/python3.10/dist-packages (0.2.1)\n",
            "Requirement already satisfied: numpy in /usr/local/lib/python3.10/dist-packages (from visual_kinematics) (1.26.4)\n",
            "Requirement already satisfied: scipy in /usr/local/lib/python3.10/dist-packages (from visual_kinematics) (1.13.1)\n",
            "Requirement already satisfied: matplotlib in /usr/local/lib/python3.10/dist-packages (from visual_kinematics) (3.7.1)\n",
            "Requirement already satisfied: contourpy>=1.0.1 in /usr/local/lib/python3.10/dist-packages (from matplotlib->visual_kinematics) (1.3.0)\n",
            "Requirement already satisfied: cycler>=0.10 in /usr/local/lib/python3.10/dist-packages (from matplotlib->visual_kinematics) (0.12.1)\n",
            "Requirement already satisfied: fonttools>=4.22.0 in /usr/local/lib/python3.10/dist-packages (from matplotlib->visual_kinematics) (4.54.1)\n",
            "Requirement already satisfied: kiwisolver>=1.0.1 in /usr/local/lib/python3.10/dist-packages (from matplotlib->visual_kinematics) (1.4.7)\n",
            "Requirement already satisfied: packaging>=20.0 in /usr/local/lib/python3.10/dist-packages (from matplotlib->visual_kinematics) (24.1)\n",
            "Requirement already satisfied: pillow>=6.2.0 in /usr/local/lib/python3.10/dist-packages (from matplotlib->visual_kinematics) (10.4.0)\n",
            "Requirement already satisfied: pyparsing>=2.3.1 in /usr/local/lib/python3.10/dist-packages (from matplotlib->visual_kinematics) (3.1.4)\n",
            "Requirement already satisfied: python-dateutil>=2.7 in /usr/local/lib/python3.10/dist-packages (from matplotlib->visual_kinematics) (2.8.2)\n",
            "Requirement already satisfied: six>=1.5 in /usr/local/lib/python3.10/dist-packages (from python-dateutil>=2.7->matplotlib->visual_kinematics) (1.16.0)\n"
          ]
        }
      ]
    },
    {
      "cell_type": "markdown",
      "source": [
        "La librería requiere la definición de los parámetros de DH en un arreglo de numpy como se muestra en el siguiente código\n",
        "\n",
        "**Taba de DH: Robot RR:**   \n",
        "\n",
        "|d|a|alpha|theta|\n",
        "|-|-|-|-|\n",
        "|0|$l_1$| 0|$q_1$|\n",
        "|0|$l_2$| 0|$q_2$|"
      ],
      "metadata": {
        "id": "rBSrp3LwuP4B"
      }
    },
    {
      "cell_type": "code",
      "source": [
        "from visual_kinematics.RobotSerial import *\n",
        "\n",
        "@interact(q1=(-180, 180, 1), q2=(-180, 180, 1), l1=(0, 10, 1), l2=(0, 10, 1))\n",
        "def plot_robot(q1, q2, l1, l2):\n",
        "  # Definición se los parámetros Denavit-Hartenberg\n",
        "  dh_params = np.array([[0, l1, 0, np.deg2rad(q1)],\n",
        "                        [0, l2, 0, np.deg2rad(q2)]])\n",
        "  # Se genera un brazo robot virtual a partir de los parámetros DH\n",
        "  robot = RobotSerial(dh_params, plot_xlim=[-15, 15], plot_ylim=[-15, 15])\n",
        "  robot.show()"
      ],
      "metadata": {
        "colab": {
          "base_uri": "https://localhost:8080/",
          "height": 546,
          "referenced_widgets": [
            "2c37b1f3317547ed9d0dd02540ee6ce9",
            "dc395dd4ec6340cdafd39441ab673ada",
            "390dff675d08484da7b0ff4120a37f84",
            "2cee7f95c47844459b646bd9fb2f43e1",
            "bc576b7a0cce4d20bc6cc680282f9c4c",
            "e669c97145da4dcca28f8e5e176751ec",
            "22038bf312e24059a8f5e5234051f49d",
            "c5d30235249e4efb82d8060d686c4902",
            "ca15b5a3849348379732640c92cf3a74",
            "12e107bd369f43febd5e8441f212c22a",
            "9b9674c6abce434ca2cbbcb4619449ac",
            "844880f3797a400e9a844fc4fdb49504",
            "92d561dc79794b6d83b8f84dd649f12c",
            "315345310b3f48a985046c9eab4580e5",
            "69d72fc087a74274a25d345607e1f01a",
            "40134a277e18464ebb3cf797fc235361"
          ]
        },
        "id": "S50cZjF9CK9E",
        "outputId": "586ade34-40dc-4432-a5f5-8c5d8afb2468"
      },
      "execution_count": null,
      "outputs": [
        {
          "output_type": "display_data",
          "data": {
            "text/plain": [
              "interactive(children=(IntSlider(value=0, description='q1', max=180, min=-180), IntSlider(value=0, description=…"
            ],
            "application/vnd.jupyter.widget-view+json": {
              "version_major": 2,
              "version_minor": 0,
              "model_id": "2c37b1f3317547ed9d0dd02540ee6ce9"
            }
          },
          "metadata": {}
        }
      ]
    },
    {
      "cell_type": "markdown",
      "source": [
        "Prueba de cambios - github"
      ],
      "metadata": {
        "id": "RIsAwsvO4rEc"
      }
    }
  ]
}