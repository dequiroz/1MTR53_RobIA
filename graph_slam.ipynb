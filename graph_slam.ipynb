{
  "nbformat": 4,
  "nbformat_minor": 0,
  "metadata": {
    "colab": {
      "provenance": [],
      "toc_visible": true,
      "include_colab_link": true
    },
    "kernelspec": {
      "name": "python3",
      "display_name": "Python 3"
    },
    "language_info": {
      "name": "python"
    }
  },
  "cells": [
    {
      "cell_type": "markdown",
      "metadata": {
        "id": "view-in-github",
        "colab_type": "text"
      },
      "source": [
        "<a href=\"https://colab.research.google.com/github/dequiroz/1MTR53_RobIA/blob/main/graph_slam.ipynb\" target=\"_parent\"><img src=\"https://colab.research.google.com/assets/colab-badge.svg\" alt=\"Open In Colab\"/></a>"
      ]
    },
    {
      "cell_type": "markdown",
      "source": [
        "<img src=\"https://drive.google.com/uc?export=view&id=1FsTa2YzWwxY-HBkd2EOXAlkPJ1zpikWv\" alt=\"PUCP\" width=\"150\"/>\n",
        "\n",
        "\n",
        "<p align=\"center\">\n",
        "<img src=\"https://drive.google.com/uc?export=view&id=1VBn7nKlruxCPLHH_UuD8B2pkvKP7JLRd\" alt=\"Robótica e Inteligencia Artificial\" width=\"800\"/>\n",
        "\n",
        "</br>\n",
        "\n",
        "<img src=\"https://drive.google.com/uc?export=view&id=14u1cJklUZk2NKxCf2t7R-NO7E8BJaMXH\" alt=\"Unidad 3 - Navegación Autónoma\" width=\"800\"/>\n",
        "</p>\n",
        "\n",
        "\n",
        "#Graph SLAM\n",
        "* Diego Quiroz Velasquez\n",
        "* Pontificia Universidad Católica del Perú\n",
        "* Sección Ingeniería Mecatrónica\n",
        "\n",
        "---\n",
        "Este archivo describe el método de Graph Slam aplicado para realizar la localización y mapeo simultaneo en vehículos móbiles.\n",
        "\n",
        "Se presenta el algoritmo y se procede a mostrar ejemplos con el algoritmo aplicado a un entorno unidimensional seguido por un entorno 2D\n",
        "\n",
        "<img src=\"https://drive.google.com/uc?export=view&id=1vgFoFHEKMN0WcAFlKS2hPMg2KuBm3sp9\" alt=\"Material Complementario\"/>\n",
        "\n"
      ],
      "metadata": {
        "id": "c4kmmNlPTS2Y"
      }
    },
    {
      "cell_type": "markdown",
      "source": [
        "#SLAM"
      ],
      "metadata": {
        "id": "afnOWR_Ld-If"
      }
    },
    {
      "cell_type": "markdown",
      "source": [
        "Los algoritmos de SLAM (localización y mapeo simultáneos) permiten generar de manera simultánea un modelo del entorno (mapa) y estimar la ubicación del robot mientras se desplaza en dicho entorno. En otras palabras, estos algoritmos proporcionan un método para determinar en tiempo real la posición del robot en el espacio, al mismo tiempo que identifican puntos de referencia como edificios, árboles, rocas y otras características del entorno.\n",
        "\n",
        "Además de la localización, es necesario construir un modelo del entorno del robot para tener una visión clara de los objetos y puntos de referencia que lo rodean. Esta información permite asegurar que el robot se mantiene en el camino correcto mientras se desplaza. No obstante, al construir el mapa en tiempo real, existe la posibilidad de que el robot pierda la referencia de su ubicación debido a la incertidumbre en su movimiento, ya que no dispone de un mapa previo y debe generarlo conforme avanza."
      ],
      "metadata": {
        "id": "IoqjMRisXOGW"
      }
    },
    {
      "cell_type": "markdown",
      "source": [
        "#Graph SLAM en una dimension"
      ],
      "metadata": {
        "id": "S-msr6mxfUgh"
      }
    },
    {
      "cell_type": "markdown",
      "source": [
        "El algoritmo Graph SLAM, en particular, registra la posición inicial del robot, denominada \"restricción inicial\", y luego recopila múltiples restricciones relativas que vinculan cada posición del robot con su posición anterior, conocidas como \"restricciones de movimiento relativo\". Por ejemplo, el robot puede observar puntos de referencia en diferentes ubicaciones, lo que representa \"restricciones de medición relativas\" cada vez que identifica un punto de referencia. Graph SLAM utiliza estas restricciones para calcular la configuración más probable de la trayectoria del robot junto con la ubicación de los puntos de referencia, completando así el proceso de mapeo."
      ],
      "metadata": {
        "id": "sScjmCF1fV4r"
      }
    },
    {
      "cell_type": "markdown",
      "source": [
        "<img src=\"https://drive.google.com/uc?export=view&id=1w0xqOlf93U95NB4e_Md4A8_bbjOrHUF6\" alt=\"drawing\"/>"
      ],
      "metadata": {
        "id": "WAGo5kPJgLJl"
      }
    },
    {
      "cell_type": "markdown",
      "source": [
        "##Omega y Xi"
      ],
      "metadata": {
        "id": "kBP_p3UOgabV"
      }
    },
    {
      "cell_type": "markdown",
      "source": [
        "Para implementar Graph SLAM, se introducen una matriz y un vector, llamados $\\Omega$ y $\\xi$, respectivamente. La matriz $\\Omega$ es cuadrada y está organizada para representar todas las posiciones del robot ($x_i$) y todos los puntos de referencia ($L_i$). Cada vez que se realiza una medición, como cuando el robot se desplaza una distancia $dx$ entre dos posiciones y se puede establecer una relación entre estas dos posiciones, esta información se representa numéricamente dentro de $\\Omega$ y $\\xi$.\n",
        "\n",
        "De este modo, las relaciones entre poses y puntos de referencia se van incorporando en las estructuras de $\\Omega$ y $\\xi$, permitiendo a Graph SLAM construir un modelo del entorno en función de las restricciones observadas.\n",
        "\n",
        "\n",
        "\n",
        "\n"
      ],
      "metadata": {
        "id": "gXdmqyx_gcmx"
      }
    },
    {
      "cell_type": "markdown",
      "source": [
        "<img src=\"https://drive.google.com/uc?export=view&id=1DU5WHUarpF8gaZCci1dDkcXkS3b7ooF2\" alt=\"omega_xi\"/>"
      ],
      "metadata": {
        "id": "6pGGlU3f0HTT"
      }
    },
    {
      "cell_type": "markdown",
      "source": [
        "* Los valores en la matriz se inicializan en cero debido a que no hay conocimiento previo de la ubicación ni del entorno\n",
        "* Las matrices $\\Omega$ y $\\xi$ definen las restricciones de Movimiento y Mediciones relativas\n",
        "\n",
        "Estas restricciones se traducen a valores en las matrices, tal como se muestra en el siguiente ejemplo en el cual se tiene una restricción de *movimiento relativo* que define el movimiento del robot desde la **posición 0** a la **posición 1** con un desplazamiento de **5**"
      ],
      "metadata": {
        "id": "Rv8rxdNu0Qrd"
      }
    },
    {
      "cell_type": "markdown",
      "source": [
        "<img src=\"https://drive.google.com/uc?export=view&id=1JhN1ZSA2Mrlqmd8bnEL2WtzOeQf044Mf\" alt=\"motion_constrain\" width=800/>"
      ],
      "metadata": {
        "id": "Sdiqix7V39QY"
      }
    },
    {
      "cell_type": "markdown",
      "source": [
        "Para resolver el sistema se debe de considerar la ecuación:\n",
        "\n",
        "$$\\mu = \\Omega^{-1} * \\xi$$\n",
        "\n",
        "donde $\\mu$ representa el vector de posiciones y ubicaciones de los landmarks identificados"
      ],
      "metadata": {
        "id": "9MxIsbuXHpAu"
      }
    },
    {
      "cell_type": "markdown",
      "metadata": {
        "id": "itWdJFzG1BeY"
      },
      "source": [
        "##Ejercicio 1"
      ]
    },
    {
      "cell_type": "markdown",
      "source": [
        "Implementar un función  ```calcular_mu``` que reciba la posición inicial, y dos cantidades de movimiento para estimar la posición final utilizando las multiplicación de matrices Omega y Xi para el siguiente caso.\n",
        "\n",
        "$$\n",
        "\\begin{align}\n",
        "X_0 &= -3\\\\\n",
        "X_1 &= X_0 + 5 \\\\\n",
        "X_2 &= X_1 + 3\n",
        "\\end{align}$$"
      ],
      "metadata": {
        "id": "WnGYNdsdQuvH"
      }
    },
    {
      "cell_type": "code",
      "source": [
        "import numpy as np\n",
        "\n",
        "def calcular_mu(posicion_ini, move1, move2):\n",
        "  matrix_size = 3\n",
        "  omega = np.zeros((matrix_size, matrix_size))\n",
        "  xi = np.zeros((matrix_size, 1))\n",
        "\n",
        "  # Setear posición inicial\n",
        "  omega[0][0] = 1\n",
        "  xi[0] = -3\n",
        "\n",
        "  # Primer movimiento\n",
        "  omega += [[1., -1, 0.],\n",
        "            [-1, 1., 0.],\n",
        "            [0., 0., 0.]]\n",
        "  xi += [[-5],\n",
        "         [5],\n",
        "        [0.]]\n",
        "\n",
        "  # Segundo movimiento\n",
        "  omega += [[0, 0., 0.],\n",
        "            [0, 1., -1.],\n",
        "            [0, -1, 1.]]\n",
        "  xi += [[0],\n",
        "         [-3],\n",
        "         [3.]]\n",
        "\n",
        "  mu = np.linalg.inv(omega) @ xi\n",
        "\n",
        "  return omega, xi, mu\n",
        "\n",
        "omega, xi, mu = calcular_mu(-3, 5, 3)\n",
        "print(f'{omega = }\\n')\n",
        "print(f'{xi = }\\n')\n",
        "print(f'{mu = }')\n"
      ],
      "metadata": {
        "id": "8gbGJgetjGJS",
        "outputId": "1567b1e2-66a3-4ea3-ae1b-ab353b201a68",
        "colab": {
          "base_uri": "https://localhost:8080/"
        }
      },
      "execution_count": 1,
      "outputs": [
        {
          "output_type": "stream",
          "name": "stdout",
          "text": [
            "omega = array([[ 2., -1.,  0.],\n",
            "       [-1.,  2., -1.],\n",
            "       [ 0., -1.,  1.]])\n",
            "\n",
            "xi = array([[-8.],\n",
            "       [ 2.],\n",
            "       [ 3.]])\n",
            "\n",
            "mu = array([[-3.],\n",
            "       [ 2.],\n",
            "       [ 5.]])\n"
          ]
        }
      ]
    },
    {
      "cell_type": "markdown",
      "source": [
        "A continuación se presenta una segunda versión donde la cantidad de movimientos a realizar es variable.\n",
        "\n",
        "para ello se aprovecha la propiedad de matrices de numpy de extraer y trabajar con submatrices de forma independiente como se muestra a continuación"
      ],
      "metadata": {
        "id": "oVwP9u8ccIWw"
      }
    },
    {
      "cell_type": "code",
      "source": [
        "# @title Ejemplo de extracción de submatrices con numpy\n",
        "\n",
        "mtr = np.arange(16).reshape(4,4)\n",
        "print(f'Matriz inicial: \\n{mtr}')\n",
        "\n",
        "sub_mtr = mtr[0:2,0:2]\n",
        "print(f'\\nSubmatriz 0:2, 0:2 : \\n{sub_mtr}')\n",
        "\n",
        "sub_mtr2 = mtr[1:3,1:3]\n",
        "print(f'\\nSubmatriz 1:3, 1:3 : \\n{sub_mtr2}')\n",
        "\n",
        "mtr[1:3,1:3] = [[0,0],[0,0]]\n",
        "print(f'\\nMatriz modificada: \\n{mtr}')"
      ],
      "metadata": {
        "id": "E3qTWV9br8Ci",
        "outputId": "d2069f39-09ec-4942-81ef-dc59a22585bd",
        "colab": {
          "base_uri": "https://localhost:8080/"
        }
      },
      "execution_count": 2,
      "outputs": [
        {
          "output_type": "stream",
          "name": "stdout",
          "text": [
            "Matriz inicial: \n",
            "[[ 0  1  2  3]\n",
            " [ 4  5  6  7]\n",
            " [ 8  9 10 11]\n",
            " [12 13 14 15]]\n",
            "\n",
            "Submatriz 0:2, 0:2 : \n",
            "[[0 1]\n",
            " [4 5]]\n",
            "\n",
            "Submatriz 1:3, 1:3 : \n",
            "[[ 5  6]\n",
            " [ 9 10]]\n",
            "\n",
            "Matriz modificada: \n",
            "[[ 0  1  2  3]\n",
            " [ 4  0  0  7]\n",
            " [ 8  0  0 11]\n",
            " [12 13 14 15]]\n"
          ]
        }
      ]
    },
    {
      "cell_type": "markdown",
      "source": [
        "Esto permite realizar la siguiente iteración\n",
        "\n",
        "```python\n",
        "for i, movimiento in enumerate(movimientos):\n",
        "  omega[i:i+2,i:i+2] += [[1., -1],[-1., 1]]\n",
        "  xi[i:i+2] += [[-movimiento], [movimiento]]\n",
        "```\n",
        "Donde se extrae la matriz cuadrada de omega que corresponde a la intersección de coordenadas $x_i$, $x_{i+1}$ de las matrices $\\Omega$ y $\\xi$ para realizar las operaciones matemáticas correspondientes con cada uno de los movimientos realizados"
      ],
      "metadata": {
        "id": "AcxbpwkztQyI"
      }
    },
    {
      "cell_type": "code",
      "source": [
        "import numpy as np\n",
        "\n",
        "def calcular_mu(posicion_ini, movimientos):\n",
        "  matrix_size = len(movimientos) + 1\n",
        "  omega = np.zeros((matrix_size, matrix_size))\n",
        "  xi = np.zeros((matrix_size, 1))\n",
        "\n",
        "  # Setear posición inicial\n",
        "  omega[0][0] = 1\n",
        "  xi[0] = posicion_ini\n",
        "\n",
        "  # Iterar por los movimientos\n",
        "  for i, movimiento in enumerate(movimientos):\n",
        "    omega[i:i+2,i:i+2] += [[1., -1],[-1., 1]]\n",
        "    xi[i:i+2] += [[-movimiento], [movimiento]]\n",
        "\n",
        "  mu = np.linalg.inv(omega) @ xi\n",
        "\n",
        "  return omega, xi, mu\n",
        "\n",
        "omega, xi, mu = calcular_mu(-3, (5, 3))\n",
        "print(f'{omega = }\\n')\n",
        "print(f'{xi = }\\n')\n",
        "print(f'{mu = }')"
      ],
      "metadata": {
        "id": "5zfb2Er_Y6dI",
        "outputId": "1bca68c9-d93d-4414-ffbd-0241ed8dce68",
        "colab": {
          "base_uri": "https://localhost:8080/"
        }
      },
      "execution_count": 3,
      "outputs": [
        {
          "output_type": "stream",
          "name": "stdout",
          "text": [
            "omega = array([[ 2., -1.,  0.],\n",
            "       [-1.,  2., -1.],\n",
            "       [ 0., -1.,  1.]])\n",
            "\n",
            "xi = array([[-8.],\n",
            "       [ 2.],\n",
            "       [ 3.]])\n",
            "\n",
            "mu = array([[-3.],\n",
            "       [ 2.],\n",
            "       [ 5.]])\n"
          ]
        }
      ]
    },
    {
      "cell_type": "markdown",
      "metadata": {
        "id": "KeNcZF3L1AjJ"
      },
      "source": [
        "##Ejercicio 2"
      ]
    },
    {
      "cell_type": "markdown",
      "source": [
        "Modificar el programa anterior para tomar en consideración la medición de la referencia $L_0$ en cada posición del vehículo. Considerar el siguiente esquema\n",
        "\n",
        "<img src=\"https://drive.google.com/uc?export=view&id=1BgMcp9ObtI1A6k_NfnqpzLDzX74HXhm1\" alt=\"drawing\"/>\n",
        "\n",
        "\n",
        "con las siguientes restricciones de movimiento y medición\n",
        "\n",
        "$$\n",
        "\\begin{align}\n",
        "X_0 &= -3\\\\\n",
        "X_1 &= X_0 + 5 \\\\\n",
        "X_2 &= X_1 + 3 \\\\\n",
        "\\\\\n",
        "Z_0 & = 10 \\\\\n",
        "Z_1 & = 5 \\\\\n",
        "Z_2 & = 2\n",
        "\\end{align}$$"
      ],
      "metadata": {
        "id": "-4loz4BvtibJ"
      }
    },
    {
      "cell_type": "code",
      "source": [
        "import numpy as np\n",
        "\n",
        "def calcular_mu(posicion_ini, movimientos, mediciones):\n",
        "  matrix_size = len(movimientos) + 1 + 1\n",
        "  omega = np.zeros((matrix_size, matrix_size))\n",
        "  xi = np.zeros((matrix_size, 1))\n",
        "\n",
        "  # Setear posición inicial\n",
        "  omega[0][0] = 1\n",
        "  xi[0] = posicion_ini\n",
        "\n",
        "  # Iterar por los movimientos\n",
        "  for i, movimiento in enumerate(movimientos):\n",
        "      omega[i:i+2,i:i+2] += [[1., -1],[-1., 1]]\n",
        "      xi[i:i+2] += [[-movimiento], [movimiento]]\n",
        "\n",
        "  # Iterar por las mediciones\n",
        "  for i, medicion in enumerate(mediciones):\n",
        "    omega[np.ix_([i,-1],[i,-1])] += [[1., -1],[-1., 1]]\n",
        "    xi[np.ix_([i,-1],[0])] += [[-medicion], [medicion]]\n",
        "\n",
        "  mu = np.linalg.inv(omega) @ xi\n",
        "\n",
        "  return omega, xi, mu\n",
        "\n",
        "omega, xi, mu = calcular_mu(-3, movimientos=(5, 3), mediciones=(10,5,2))\n",
        "print(f'{omega = }\\n')\n",
        "print(f'{xi = }\\n')\n",
        "print(f'{mu = }')"
      ],
      "metadata": {
        "id": "BKljYtkAc-1b",
        "outputId": "dfe518f9-079c-44ab-9756-042919284543",
        "colab": {
          "base_uri": "https://localhost:8080/"
        }
      },
      "execution_count": 4,
      "outputs": [
        {
          "output_type": "stream",
          "name": "stdout",
          "text": [
            "omega = array([[ 3., -1.,  0., -1.],\n",
            "       [-1.,  3., -1., -1.],\n",
            "       [ 0., -1.,  2., -1.],\n",
            "       [-1., -1., -1.,  3.]])\n",
            "\n",
            "xi = array([[-18.],\n",
            "       [ -3.],\n",
            "       [  1.],\n",
            "       [ 17.]])\n",
            "\n",
            "mu = array([[-3.],\n",
            "       [ 2.],\n",
            "       [ 5.],\n",
            "       [ 7.]])\n"
          ]
        }
      ]
    },
    {
      "cell_type": "markdown",
      "metadata": {
        "id": "VZe1c_yB0-J4"
      },
      "source": [
        "##Ejercicio 3 - Introducción de ruido"
      ]
    },
    {
      "cell_type": "markdown",
      "source": [
        "Modificar el programa anterior para ver el efecto de cambiar la medición $Z_2$.\n"
      ],
      "metadata": {
        "id": "ed1E4wgy1H7b"
      }
    },
    {
      "cell_type": "code",
      "source": [
        "omega, xi, mu = calcular_mu(-3, movimientos=(5, 3), mediciones=(10,5,1))\n",
        "print(f'{omega = }\\n')\n",
        "print(f'{xi = }\\n')\n",
        "print(f'{mu = }')"
      ],
      "metadata": {
        "id": "R2iR_iLMwvse",
        "outputId": "d217dfc9-5ad3-4b26-89af-0ceeb0a0a32a",
        "colab": {
          "base_uri": "https://localhost:8080/"
        }
      },
      "execution_count": 5,
      "outputs": [
        {
          "output_type": "stream",
          "name": "stdout",
          "text": [
            "omega = array([[ 3., -1.,  0., -1.],\n",
            "       [-1.,  3., -1., -1.],\n",
            "       [ 0., -1.,  2., -1.],\n",
            "       [-1., -1., -1.,  3.]])\n",
            "\n",
            "xi = array([[-18.],\n",
            "       [ -3.],\n",
            "       [  2.],\n",
            "       [ 16.]])\n",
            "\n",
            "mu = array([[-3.   ],\n",
            "       [ 2.125],\n",
            "       [ 5.5  ],\n",
            "       [ 6.875]])\n"
          ]
        }
      ]
    },
    {
      "cell_type": "markdown",
      "source": [
        "## Ejercicio 4 - Multiples landmarks"
      ],
      "metadata": {
        "id": "r4o_F33wzvkl"
      }
    },
    {
      "cell_type": "markdown",
      "source": [
        "Modificar la función ```calcular_mu``` para trabajar con multiples landmarks, los cuales se ingresan como diferentes tuples en el parámetro de mediciones\n",
        "\n"
      ],
      "metadata": {
        "id": "5YBZfWZS1gXf"
      }
    },
    {
      "cell_type": "code",
      "source": [
        "import numpy as np\n",
        "\n",
        "def calcular_mu(posicion_ini, movimientos, mediciones):\n",
        "  n_landmarks = len(mediciones)\n",
        "  matrix_size = len(movimientos) + 1 + n_landmarks\n",
        "  omega = np.zeros((matrix_size, matrix_size))\n",
        "  xi = np.zeros((matrix_size, 1))\n",
        "\n",
        "  # Setear posición inicial\n",
        "  omega[0][0] = 1\n",
        "  xi[0] = posicion_ini\n",
        "\n",
        "  # Iterar por los movimientos\n",
        "  for i, movimiento in enumerate(movimientos):\n",
        "      omega[i:i+2,i:i+2] += [[1., -1],[-1., 1]]\n",
        "      xi[i:i+2] += [[-movimiento], [movimiento]]\n",
        "\n",
        "  # Iterar por las mediciones\n",
        "  for l, landmark in enumerate(mediciones):\n",
        "    for i, medicion in enumerate(landmark):\n",
        "      omega[np.ix_([i,-n_landmarks+l],[i,-n_landmarks+l])] += [[1., -1],[-1., 1]]\n",
        "      xi[np.ix_([i,-n_landmarks+l],[0])] += [[-medicion], [medicion]]\n",
        "\n",
        "  mu = np.linalg.inv(omega) @ xi\n",
        "\n",
        "  return omega, xi, mu\n",
        "\n",
        "omega, xi, mu = calcular_mu(-5, movimientos=(2, 6), mediciones=((7, 5,-1),(10,8,2)))\n",
        "print(f'{omega = }\\n')\n",
        "print(f'{xi = }\\n')\n",
        "print(f'{mu = }')"
      ],
      "metadata": {
        "id": "cHVH0JQLz0x9",
        "outputId": "84074590-06ca-439e-c22f-694838108394",
        "colab": {
          "base_uri": "https://localhost:8080/"
        }
      },
      "execution_count": 6,
      "outputs": [
        {
          "output_type": "stream",
          "name": "stdout",
          "text": [
            "omega = array([[ 4., -1.,  0., -1., -1.],\n",
            "       [-1.,  4., -1., -1., -1.],\n",
            "       [ 0., -1.,  3., -1., -1.],\n",
            "       [-1., -1., -1.,  3.,  0.],\n",
            "       [-1., -1., -1.,  0.,  3.]])\n",
            "\n",
            "xi = array([[-24.],\n",
            "       [-17.],\n",
            "       [  5.],\n",
            "       [ 11.],\n",
            "       [ 20.]])\n",
            "\n",
            "mu = array([[-5.],\n",
            "       [-3.],\n",
            "       [ 3.],\n",
            "       [ 2.],\n",
            "       [ 5.]])\n"
          ]
        }
      ]
    },
    {
      "cell_type": "markdown",
      "source": [
        "#Graph Slam en 2D"
      ],
      "metadata": {
        "id": "6GGoph2K2n8D"
      }
    },
    {
      "cell_type": "markdown",
      "source": [
        "Los ejemplos mostrados han representado el movimiento en una sola dimensión. Para el caso de un mundo en dos dimensiones, las matrices $\\Omega$ y $\\xi$ deben de considerar estas dos dimensiones, tal que\n",
        "\n",
        "<img src=\"https://drive.google.com/uc?export=view&id=1DWTOPeZk6N-NK-auGPEyxH5THQcHCXCs\" alt=\"constrain 2D\"/>"
      ],
      "metadata": {
        "id": "jH0lhLXN3Mpm"
      }
    },
    {
      "cell_type": "markdown",
      "source": [
        "Para poder ejecutar esta simulación, vamos a definir las siguientes clases auxiliares"
      ],
      "metadata": {
        "id": "dHrqrT3n6K-Y"
      }
    },
    {
      "cell_type": "code",
      "source": [
        "#@title Class World\n",
        "\n",
        "import random\n",
        "import math\n",
        "import matplotlib.pyplot as plt\n",
        "import seaborn as sns\n",
        "\n",
        "\n",
        "class World(object):\n",
        "    def __init__(self, world_size, num_landmarks):\n",
        "        self.world_size = world_size\n",
        "        self.num_landmarks = num_landmarks\n",
        "        self.distance = 20.0\n",
        "        self.landmarks = None\n",
        "        self.data = None\n",
        "\n",
        "    def _make_landmarks(self):\n",
        "        \"\"\" Makes landmarks at random locations in world based on defined number of landmarks \"\"\"\n",
        "        self.landmarks = []\n",
        "        for i in range(self.num_landmarks):\n",
        "            self.landmarks.append([round(random.random() * self.world_size),\n",
        "                                   round(random.random() * self.world_size)])\n",
        "\n",
        "    def _compute_dx_dy(self):\n",
        "        \"\"\" Compute distances in x and y coordinates based on random rotation \"\"\"\n",
        "        orientation = random.random() * 2.0 * math.pi\n",
        "        dx = math.cos(orientation) * self.distance\n",
        "        dy = math.sin(orientation) * self.distance\n",
        "        return dx, dy\n",
        "\n",
        "    def make_data(self, steps, measurement_range, motion_noise, measurement_noise):\n",
        "        \"\"\" Makes the data based on Robot repeated sensing and random movement inside world,\n",
        "            stops when all landmarks are measured. Data is stored in shape [measurement, [dx, dy]],\n",
        "            measurement is [landmark_id, x_distance, y_distance], dx and dy represents Robot movement\n",
        "            at every step \"\"\"\n",
        "        print('Generating world...')\n",
        "        robot = Robot(self.world_size, measurement_range, motion_noise, measurement_noise)\n",
        "        self._make_landmarks()\n",
        "        complete = False\n",
        "        while not complete:\n",
        "            self.data = []\n",
        "            seen = [False for _ in range(self.num_landmarks)]\n",
        "            dx, dy = self._compute_dx_dy()\n",
        "            for step in range(steps-1):\n",
        "                measurement = robot.sense(self.landmarks)\n",
        "                for i in range(len(measurement)):\n",
        "                    seen[measurement[i][0]] = True\n",
        "                while not robot.move(dx, dy):\n",
        "                    dx, dy = self._compute_dx_dy()\n",
        "                self.data.append([measurement, [dx, dy]])\n",
        "            complete = (sum(seen) == self.num_landmarks)\n",
        "        print('\\nTrue positions:\\n')\n",
        "        print(f'Landmarks: {self.landmarks}')\n",
        "        print(robot)\n",
        "\n",
        "    def display_world(self, robot_positions, landmark_positions):\n",
        "        \"\"\" Plots the estimated Robot movement path and estimated landmark positions in world \"\"\"\n",
        "        sns.set_style('dark')\n",
        "        ax = plt.gca()\n",
        "        cols, rows = self.world_size + 1, self.world_size + 1\n",
        "        #ax.set_xticks([x for x in range(1, cols)], minor=True)\n",
        "        #ax.set_yticks([y for y in range(1, rows)], minor=True)\n",
        "        plt.ylim((0,self.world_size))\n",
        "        plt.xlim((0,self.world_size))\n",
        "        # Plot grid on minor and major axes, major in larger width\n",
        "        # plt.grid(which='minor', ls='-', lw=1, color='white')\n",
        "        plt.grid(which='major', ls='-', lw=1.5, color='white')\n",
        "        # Iterate over robot positions and plot the path and last location\n",
        "        if len(robot_positions) > 1:\n",
        "            for i in range(len(robot_positions) - 1):\n",
        "                dx = robot_positions[i + 1][0] - robot_positions[i][0]\n",
        "                dy = robot_positions[i + 1][1] - robot_positions[i][1]\n",
        "                ax.arrow(robot_positions[i][0], robot_positions[i][1], dx, dy, head_width=1.5,\n",
        "                         length_includes_head=True, color='green')\n",
        "            ax.text(robot_positions[-1][0], robot_positions[-1][1], 'o', ha='center', va='center',\n",
        "                    color='r', fontsize=30)\n",
        "        else:\n",
        "            ax.text(robot_positions[-1][0], robot_positions[-1][1], 'o', ha='center', va='center',\n",
        "                    color='r', fontsize=30)\n",
        "        # Iterate over landmark positions and plot them on map\n",
        "        for pos in landmark_positions:\n",
        "            ax.text(pos[0], pos[1], '*', ha='center', va='center', color='purple', fontsize=20)\n",
        "        plt.rcParams[\"figure.figsize\"] = (8, 4)\n",
        "        plt.title('Robot and Landmark positions')\n",
        "        plt.show()"
      ],
      "metadata": {
        "cellView": "form",
        "id": "AEmm4RUN6RSI"
      },
      "execution_count": 7,
      "outputs": []
    },
    {
      "cell_type": "code",
      "source": [
        "#@title Class Robot\n",
        "\n",
        "import random\n",
        "\n",
        "\n",
        "class Robot(object):\n",
        "    \"\"\" Represents the robot with it's move and sense operations in 2D environment \"\"\"\n",
        "    def __init__(self, world_size, measurement_range, motion_noise, measurement_noise):\n",
        "        self.world_size = world_size\n",
        "        self.measurement_range = measurement_range\n",
        "        self.motion_noise = motion_noise\n",
        "        self.measurement_noise = measurement_noise\n",
        "        self.x = world_size / 2.0\n",
        "        self.y = world_size / 2.0\n",
        "\n",
        "    def __repr__(self):\n",
        "        return f'Robot location: [x = {round(self.x, 3)}, y = {round(self.y, 3)}]'\n",
        "\n",
        "    @staticmethod\n",
        "    def random_num():\n",
        "        \"\"\" Return random small number \"\"\"\n",
        "        return random.random() * 2.0 - 1.0\n",
        "\n",
        "    def move(self, dx, dy):\n",
        "        \"\"\" Performs the move operation with added randomness and motion noise,\n",
        "            returns False if robot leaves the world borders \"\"\"\n",
        "        x = self.x + dx + self.random_num() * self.motion_noise\n",
        "        y = self.y + dy + self.random_num() * self.motion_noise\n",
        "        if x < 0.0 or x > self.world_size or y < 0.0 or y > self.world_size:\n",
        "            return False\n",
        "        else:\n",
        "            self.x = x\n",
        "            self.y = y\n",
        "            return True\n",
        "\n",
        "    def sense(self, landmarks):\n",
        "        \"\"\" Performs sensing of landmarks in robot environment and calculates distances\n",
        "            in x and y coordinates from robot to landmarks in measurement range.\n",
        "            Mesurement shape is: [landmark_id, dx, dy] where dx and dy are distances from\n",
        "            robot to that landmark \"\"\"\n",
        "        measurements = []\n",
        "        for landmark_id, landmark in enumerate(landmarks):\n",
        "            dx = landmark[0] - self.x + self.random_num() * self.measurement_noise\n",
        "            dy = landmark[1] - self.y + self.random_num() * self.measurement_noise\n",
        "            if abs(dx) <= self.measurement_range and abs(dy) <= self.measurement_range:\n",
        "                measurements.append([landmark_id, dx, dy])\n",
        "        return measurements"
      ],
      "metadata": {
        "cellView": "form",
        "id": "ARbJaefg6WOe"
      },
      "execution_count": 8,
      "outputs": []
    },
    {
      "cell_type": "code",
      "source": [
        "#@title Class SLAM2D\n",
        "\n",
        "import numpy as np\n",
        "\n",
        "\n",
        "class SLAM2D(object):\n",
        "    def __init__(self, steps, world_size, num_landmarks, measurement_noise, motion_noise):\n",
        "        self.steps = steps\n",
        "        self.world_size = world_size\n",
        "        self.num_landmarks = num_landmarks\n",
        "        self.measurement_noise = measurement_noise\n",
        "        self.motion_noise = motion_noise\n",
        "        self.omega = None\n",
        "        self.xi = None\n",
        "        self.mu = None\n",
        "\n",
        "    def _initialize_constraints(self):\n",
        "        \"\"\" Initializes Omega and Xi with appropriate size and initial position values \"\"\"\n",
        "        matrix_size = (self.steps + self.num_landmarks) * 2\n",
        "        self.omega = np.zeros((matrix_size, matrix_size))\n",
        "        self.xi = np.zeros((matrix_size, 1))\n",
        "        # Set initial position\n",
        "        self.omega[0][0] = 1\n",
        "        self.omega[1][1] = 1\n",
        "        self.xi[0:2] = self.world_size / 2\n",
        "\n",
        "    def _update_omega(self, index1, index2, noise):\n",
        "        \"\"\" Updates Omega matrix on appropriate indexes with added noise \"\"\"\n",
        "        if self.omega is not None:\n",
        "            self.omega[index1, index1] += 1/noise\n",
        "            self.omega[index1, index2] -= 1/noise\n",
        "            self.omega[index2, index1] -= 1/noise\n",
        "            self.omega[index2, index2] += 1/noise\n",
        "        else:\n",
        "            raise ValueError('Omega not initialized.')\n",
        "\n",
        "    def _update_xi(self, index1, index2, value, noise):\n",
        "        \"\"\" Updates Xi vector on appropriate indexes with added noise \"\"\"\n",
        "        if self.xi is not None:\n",
        "            self.xi[index1] -= value/noise\n",
        "            self.xi[index2] += value/noise\n",
        "        else:\n",
        "            raise ValueError('Xi not initialized.')\n",
        "\n",
        "    def run_slam(self, data):\n",
        "        \"\"\" Runs the SLAM algorithm with measurement and motion updates, calculates the mu vector\n",
        "            with all estimated Robot movement and landmark locations \"\"\"\n",
        "        print('\\nRunning SLAM...')\n",
        "        # Initialize Omega and Xi with start position\n",
        "        self._initialize_constraints()\n",
        "        # Get all the motion and measurement iterating over data\n",
        "        for step in range(len(data)):\n",
        "            # Get measurement and motion for given step\n",
        "            measurements = data[step][0]\n",
        "            motion = data[step][1]\n",
        "            # Repeat process for x and y dimensions\n",
        "            for dim in [0, 1]:\n",
        "                # Calculate indexes based on current step and dimension\n",
        "                index = 2 * step + dim\n",
        "                index_2 = index + 2\n",
        "                # Measurement update:\n",
        "                for measure in measurements:\n",
        "                    # Calculate current Landmark index (2*steps is first Landmark index, 2*measure[0] is Landmark Id)\n",
        "                    landmark_index = 2 * self.steps + 2 * measure[0] + dim\n",
        "                    # Distance is dx or dy in measurement to Landmark based on current dimension\n",
        "                    distance = measure[dim + 1]\n",
        "                    self._update_omega(index, landmark_index, self.measurement_noise)\n",
        "                    self._update_xi(index, landmark_index, distance, self.measurement_noise)\n",
        "                # Motion update:\n",
        "                self._update_omega(index, index_2, self.motion_noise)\n",
        "                self._update_xi(index, index_2, motion[dim], self.motion_noise)\n",
        "        # Calculate mu vector with inverse omega matrix and xi vector\n",
        "        omega_inverse = np.linalg.inv(np.matrix(self.omega))\n",
        "        self.mu = omega_inverse * self.xi\n",
        "        print('Done!')\n",
        "\n",
        "    def get_poses_landmarks(self):\n",
        "        \"\"\" Creates lists of Robot poses and landmarks positions from Mu vector \"\"\"\n",
        "        # Create list of poses\n",
        "        poses = []\n",
        "        for i in range(self.steps):\n",
        "            poses.append((self.mu[2*i].item(), self.mu[2*i+1].item()))\n",
        "        # Create list of landmarks\n",
        "        landmarks = []\n",
        "        for i in range(self.num_landmarks):\n",
        "            landmarks.append((self.mu[2*(self.steps+i)].item(), self.mu[2*(self.steps+i)+1].item()))\n",
        "        return poses, landmarks\n",
        "\n",
        "    def show_results(self):\n",
        "        \"\"\" Prints the resulting Robot poses and landmarks positions \"\"\"\n",
        "        poses, landmarks = self.get_poses_landmarks()\n",
        "        print('\\nSLAM results:')\n",
        "        print('Estimated Positions:')\n",
        "        for i in range(len(poses)):\n",
        "            print('[' + ', '.join('%.3f' % p for p in poses[i]) + ']')\n",
        "        print('\\n')\n",
        "        print('Estimated Landmarks:')\n",
        "        for i in range(len(landmarks)):\n",
        "            print('[' + ', '.join('%.3f' % land for land in landmarks[i]) + ']')"
      ],
      "metadata": {
        "cellView": "form",
        "id": "8xfgeER66lSa"
      },
      "execution_count": 9,
      "outputs": []
    },
    {
      "cell_type": "code",
      "source": [
        "# Specify needed parameters\n",
        "world_size = 100\n",
        "num_landmarks = 10\n",
        "steps = 20\n",
        "measurement_range = 50.0\n",
        "measurement_noise = 2.0\n",
        "motion_noise = 2.0"
      ],
      "metadata": {
        "id": "VIo3sEWZ606s"
      },
      "execution_count": 10,
      "outputs": []
    },
    {
      "cell_type": "code",
      "source": [
        "# Generate world and show true locations\n",
        "world = World(world_size, num_landmarks)\n",
        "world.make_data(steps, measurement_range, motion_noise, measurement_noise)"
      ],
      "metadata": {
        "id": "WTTMXLxG6_FR",
        "outputId": "1cef61b8-ed3a-4996-8200-e3361233aa06",
        "colab": {
          "base_uri": "https://localhost:8080/"
        }
      },
      "execution_count": 11,
      "outputs": [
        {
          "output_type": "stream",
          "name": "stdout",
          "text": [
            "Generating world...\n",
            "\n",
            "True positions:\n",
            "\n",
            "Landmarks: [[33, 61], [88, 71], [13, 93], [37, 91], [8, 16], [3, 48], [27, 31], [27, 13], [85, 15], [77, 3]]\n",
            "Robot location: [x = 11.207, y = 34.498]\n"
          ]
        }
      ]
    },
    {
      "cell_type": "code",
      "source": [
        "slam = SLAM2D(steps, world_size, num_landmarks, measurement_noise, motion_noise)\n",
        "slam.run_slam(world.data)\n",
        "# Print results\n",
        "slam.show_results()"
      ],
      "metadata": {
        "id": "E2ZbGkm87Fyk",
        "outputId": "bcaaae27-11e3-4343-f293-e8533ea73ba5",
        "colab": {
          "base_uri": "https://localhost:8080/"
        }
      },
      "execution_count": 12,
      "outputs": [
        {
          "output_type": "stream",
          "name": "stdout",
          "text": [
            "\n",
            "Running SLAM...\n",
            "Done!\n",
            "\n",
            "SLAM results:\n",
            "Estimated Positions:\n",
            "[50.000, 50.000]\n",
            "[42.698, 31.348]\n",
            "[35.219, 13.319]\n",
            "[51.851, 21.970]\n",
            "[68.108, 31.010]\n",
            "[84.648, 41.723]\n",
            "[87.339, 20.308]\n",
            "[76.963, 34.659]\n",
            "[65.621, 51.486]\n",
            "[51.540, 66.352]\n",
            "[40.069, 83.635]\n",
            "[55.339, 96.036]\n",
            "[36.876, 88.608]\n",
            "[19.141, 84.033]\n",
            "[26.097, 66.075]\n",
            "[30.907, 47.132]\n",
            "[35.474, 27.003]\n",
            "[39.202, 7.958]\n",
            "[24.378, 21.279]\n",
            "[10.669, 35.842]\n",
            "\n",
            "\n",
            "Estimated Landmarks:\n",
            "[33.361, 60.483]\n",
            "[87.679, 70.159]\n",
            "[13.034, 93.238]\n",
            "[37.141, 89.641]\n",
            "[8.263, 15.786]\n",
            "[2.713, 47.951]\n",
            "[27.149, 30.553]\n",
            "[27.271, 13.077]\n",
            "[84.910, 14.849]\n",
            "[76.949, 2.659]\n"
          ]
        }
      ]
    },
    {
      "cell_type": "code",
      "source": [
        "# Get estimated positions from SLAM result and plot them\n",
        "poses, landmarks = slam.get_poses_landmarks()\n",
        "world.display_world(poses, landmarks)"
      ],
      "metadata": {
        "id": "FRUWvn0b7LzA",
        "outputId": "acc471d3-339d-4776-e87e-560582133a9f",
        "colab": {
          "base_uri": "https://localhost:8080/",
          "height": 452
        }
      },
      "execution_count": 13,
      "outputs": [
        {
          "output_type": "display_data",
          "data": {
            "text/plain": [
              "<Figure size 640x480 with 1 Axes>"
            ],
            "image/png": "[encoded data removed]"
          },
          "metadata": {}
        }
      ]
    }
  ]
}