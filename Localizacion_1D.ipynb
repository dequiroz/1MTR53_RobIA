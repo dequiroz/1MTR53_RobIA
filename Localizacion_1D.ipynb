{
  "nbformat": 4,
  "nbformat_minor": 0,
  "metadata": {
    "colab": {
      "provenance": [],
      "toc_visible": true,
      "include_colab_link": true
    },
    "kernelspec": {
      "name": "python3",
      "display_name": "Python 3"
    },
    "language_info": {
      "name": "python"
    }
  },
  "cells": [
    {
      "cell_type": "markdown",
      "metadata": {
        "id": "view-in-github",
        "colab_type": "text"
      },
      "source": [
        "<a href=\"https://colab.research.google.com/github/dequiroz/1MTR53_RobIA/blob/main/Localizacion_1D.ipynb\" target=\"_parent\"><img src=\"https://colab.research.google.com/assets/colab-badge.svg\" alt=\"Open In Colab\"/></a>"
      ]
    },
    {
      "cell_type": "markdown",
      "source": [
        "<img src=\"https://drive.google.com/uc?export=view&id=1FsTa2YzWwxY-HBkd2EOXAlkPJ1zpikWv\" alt=\"drawing\" width=\"150\"/>\n",
        "\n",
        "\n",
        "<p align=\"center\">\n",
        "<img src=\"https://drive.google.com/uc?export=view&id=1VBn7nKlruxCPLHH_UuD8B2pkvKP7JLRd\" alt=\"drawing\" width=\"800\"/>\n",
        "\n",
        "</br>\n",
        "\n",
        "<img src=\"https://drive.google.com/uc?export=view&id=1uF_4x1YqLuS3M0mlh3NrMrEUHvjBMBFw\" alt=\"drawing\" width=\"800\"/>\n",
        "</p>\n",
        "\n",
        "#Localización 1D\n",
        "* Diego Quiroz Velasquez\n",
        "* Sección Ingeniería Mecatrónica\n",
        "* Pontificia Universidad Católica del Perú\n",
        "\n",
        "---\n",
        "Este archivo describe los ejercicios mencionados durante la clase de localización para un vehiculo desplazandose en un mundo simplificado 1D.\n",
        "\n",
        "Se explican los procesos de medición del entorno y desplazamiento y como estos afectan a la distribución de probabilidades de la ubicación del vehículo.\n",
        "\n",
        "<img src=\"https://drive.google.com/uc?export=view&id=1NAQ5orgaP7Exi0nBbakCAD24cY8vYxrN\" alt=\"drawing\"/>"
      ],
      "metadata": {
        "id": "IubrkhEDTdL0"
      }
    },
    {
      "cell_type": "markdown",
      "source": [
        "# Distribución uniforme"
      ],
      "metadata": {
        "id": "EF-PkQkccFT2"
      }
    },
    {
      "cell_type": "markdown",
      "source": [
        "### Ejericio 1: Distribución uniforme simple"
      ],
      "metadata": {
        "id": "hwLP88CjcKkW"
      }
    },
    {
      "cell_type": "markdown",
      "source": [
        "Modificar la variable vacia p, para que se vuelva una distribución de probabilidad uniforme sobre una cuadricula de 5 posiciones como una lista de 5 probabilidades\n",
        "\n",
        "\n",
        "\n",
        "```\n",
        "p = []\n",
        "print p\n",
        "```\n",
        "\n"
      ],
      "metadata": {
        "id": "1RceasewfrUI"
      }
    },
    {
      "cell_type": "code",
      "execution_count": 71,
      "metadata": {
        "colab": {
          "base_uri": "https://localhost:8080/"
        },
        "id": "kipH77IBfqVA",
        "outputId": "4f2ad76a-e32b-4674-dc91-d3336f297845"
      },
      "outputs": [
        {
          "output_type": "stream",
          "name": "stdout",
          "text": [
            "[0.2, 0.2, 0.2, 0.2, 0.2]\n"
          ]
        }
      ],
      "source": [
        "p = [0.2,0.2,0.2,0.2,0.2]\n",
        "print(p)"
      ]
    },
    {
      "cell_type": "markdown",
      "source": [
        "### Ejercicio 2: Distribución uniforme generalizada"
      ],
      "metadata": {
        "id": "oK_fv6vgcS1_"
      }
    },
    {
      "cell_type": "markdown",
      "source": [
        "Modificar el código para crear vectores de probabilidad, p, de tamaño arbitrario, n.\n",
        "\n",
        "Usar `n=5` para verificar que su nueva solución coincida con\n",
        "la anterior"
      ],
      "metadata": {
        "id": "vx0DMyJ9gCNV"
      }
    },
    {
      "cell_type": "code",
      "source": [
        "# =============================================================================\n",
        "# Solucion 1: Empleando bucles\n",
        "# =============================================================================\n",
        "def uniform_distribution(n: int) -> list[float]:\n",
        "  '''\n",
        "  Retorna una lista de n probabilidades uniformemente distribuidas\n",
        "  '''\n",
        "  p=[]\n",
        "  for i in range(n):\n",
        "    # .append permite insertar valores a una lista\n",
        "    # El punto (1./n) permite indicar que es un valor decimal\n",
        "    p.append(1./n)\n",
        "  return p\n",
        "\n",
        "print(f'{ uniform_distribution(5) = }')"
      ],
      "metadata": {
        "colab": {
          "base_uri": "https://localhost:8080/"
        },
        "id": "nPpahFFVc7PQ",
        "outputId": "d2111853-5992-417a-9523-a017f2b3ef68"
      },
      "execution_count": 72,
      "outputs": [
        {
          "output_type": "stream",
          "name": "stdout",
          "text": [
            " uniform_distribution(5) = [0.2, 0.2, 0.2, 0.2, 0.2]\n"
          ]
        }
      ]
    },
    {
      "cell_type": "code",
      "source": [
        "# =============================================================================\n",
        "# Solucion 2: Empleando notación de python para replicar un valor n veces en una lista\n",
        "# =============================================================================\n",
        "def uniform_distribution(n: int) -> list[float]:\n",
        "  '''\n",
        "  Retorna una lista de n probabilidades uniformemente distribuidas\n",
        "  '''\n",
        "  return [1./n] * n\n",
        "\n",
        "print(f'{ uniform_distribution(5) = }')"
      ],
      "metadata": {
        "colab": {
          "base_uri": "https://localhost:8080/"
        },
        "id": "jGpIab4egLhw",
        "outputId": "e884abd0-eb13-4f52-aaf0-cc498d3d5ea5"
      },
      "execution_count": 73,
      "outputs": [
        {
          "output_type": "stream",
          "name": "stdout",
          "text": [
            " uniform_distribution(5) = [0.2, 0.2, 0.2, 0.2, 0.2]\n"
          ]
        }
      ]
    },
    {
      "cell_type": "markdown",
      "source": [
        "# Sensado (detección y no detección)"
      ],
      "metadata": {
        "id": "Gn_LjdSZiOeX"
      }
    },
    {
      "cell_type": "markdown",
      "source": [
        "###Ejercicio 3: Detección y no detección"
      ],
      "metadata": {
        "id": "a8MGYnETikMV"
      }
    },
    {
      "cell_type": "markdown",
      "source": [
        "Escribir el código que genere el vector p después de multiplicar cada entrada por pHit (detección) o pMiss (no detección) en los lugares apropiados. Recuerde que los arboles son éxitos y las otras celdas fallan.\n",
        "\n",
        "<img src=\"https://drive.google.com/uc?export=view&id=1FJUwDHqm03WrTa0G8wFkGBKhfwgz4t82\" alt=\"localizacion_1D_mundo\" width=\"350\"/>\n",
        "\n",
        "```\n",
        "p = [0.2,0.2,0.2,0.2,0.2]\n",
        "pHit = 0.6\n",
        "pMiss = 0.2\n",
        "```\n",
        "\n"
      ],
      "metadata": {
        "id": "x5N9c46EgMzZ"
      }
    },
    {
      "cell_type": "code",
      "source": [
        "#Se genera el vector p inicial de distribución uniforme\n",
        "p = uniform_distribution(5)\n",
        "# Se definen las probabilidades de detección y no detección\n",
        "pHit = 0.6\n",
        "pMiss = 0.2\n",
        "\n",
        "# Se definen las probabilidades para cada celda de forma manual realizando la\n",
        "# multiplicación correspondiente a la regla de bayes\n",
        "p[0] = p[0] * pMiss # No Arbol\n",
        "p[1] = p[1] * pHit # Arbol\n",
        "p[2] = p[2] * pHit # Arbol\n",
        "p[3] = p[3] * pMiss # No Arbol\n",
        "p[4] = p[4] * pMiss # No Arbol\n",
        "\n",
        "print(f'{p = }')"
      ],
      "metadata": {
        "colab": {
          "base_uri": "https://localhost:8080/"
        },
        "id": "9Um4YQaggj-y",
        "outputId": "bca42b7c-6d93-4396-83dc-32c798aa20a1"
      },
      "execution_count": 74,
      "outputs": [
        {
          "output_type": "stream",
          "name": "stdout",
          "text": [
            "p = [0.04000000000000001, 0.12, 0.12, 0.04000000000000001, 0.04000000000000001]\n"
          ]
        }
      ]
    },
    {
      "cell_type": "markdown",
      "source": [
        "### Ejercicio 4: Suma de probabilidades"
      ],
      "metadata": {
        "id": "6vFirxlHlIWn"
      }
    },
    {
      "cell_type": "markdown",
      "source": [
        "Modificar el programa para calcular e imprimir la\n",
        "suma de todas las entradas de la lista p."
      ],
      "metadata": {
        "id": "VHdDKJ0tgthO"
      }
    },
    {
      "cell_type": "code",
      "source": [
        "# Se genera el vector p inicial de distribución uniforme\n",
        "p = uniform_distribution(5)\n",
        "# Se definen las probabilidades de detección y no detección\n",
        "pHit = 0.6\n",
        "pMiss = 0.2\n",
        "\n",
        "# Se calculan las probabilidades igual que el ejercicio anterior\n",
        "p[0] = p[0] * pMiss # No Arbol\n",
        "p[1] = p[1] * pHit # Arbol\n",
        "p[2] = p[2] * pHit # Arbol\n",
        "p[3] = p[3] * pMiss # No Arbol\n",
        "p[4] = p[4] * pMiss # No Arbol\n",
        "\n",
        "# Se calcula e imprime la suma en formato flotante con dos decimales\n",
        "print(f'{sum(p) = :.2f}')"
      ],
      "metadata": {
        "colab": {
          "base_uri": "https://localhost:8080/"
        },
        "id": "f5VzB5wThAsv",
        "outputId": "0174a05b-1a99-4caa-b2c0-d5d843ab060c"
      },
      "execution_count": 75,
      "outputs": [
        {
          "output_type": "stream",
          "name": "stdout",
          "text": [
            "sum(p) = 0.36\n"
          ]
        }
      ]
    },
    {
      "cell_type": "markdown",
      "source": [
        "#Desarrollo de Función de Sensado"
      ],
      "metadata": {
        "id": "iehwsjrflyYs"
      }
    },
    {
      "cell_type": "markdown",
      "source": [
        "### Ejercicio 5: función de sensado"
      ],
      "metadata": {
        "id": "YFi-aMdev5NI"
      }
    },
    {
      "cell_type": "markdown",
      "source": [
        "\n",
        "\n",
        "Desarrollar una función de sensado `sense` que requiere como parámetros de entrada el vector de probabilidades `p` y una medición `Z` y a partir de ellos genera la distribución de probabilidad **NO normalizada**, `q`, después de multiplicar las entradas de `p` por `pHit` o `pMiss` según  la detección del entorno `Z`.\n",
        "\n",
        "Considerar un mundo de 5 posiciones descrito por\n",
        "\n",
        "<img src=\"https://drive.google.com/uc?export=view&id=1FJUwDHqm03WrTa0G8wFkGBKhfwgz4t82\" alt=\"localizacion_1D_mundo\" width=\"350\"/>\n",
        "\n",
        "el cual se puede expresar de forma vectorial como\n",
        "\n",
        "`world=['no_tree', 'tree', 'tree', 'no_tree', 'no_tree']`\n",
        "\n",
        "Considerar una medición\n",
        "\n",
        "`Z = 'tree'`"
      ],
      "metadata": {
        "id": "ZnZ62wVPhV_r"
      }
    },
    {
      "cell_type": "markdown",
      "source": [
        "*A continuacion se presentan diferentes soluciones posibles variando de nivel de complejidad en Python. Se recomienda revisarlas para familiarizarse con el lenguaje y sus funcionalidades*\n"
      ],
      "metadata": {
        "id": "wd6zoFLBr3-F"
      }
    },
    {
      "cell_type": "code",
      "source": [
        "# Se genera el vector p inicial de distribución uniforme\n",
        "p = uniform_distribution(5)\n",
        "# Se definen las probabilidades de detección y no detección\n",
        "pHit = 0.6\n",
        "pMiss = 0.2\n",
        "# Se define el mundo\n",
        "world=['no_tree', 'tree', 'tree', 'no_tree', 'no_tree']\n",
        "Z = 'tree'  #Sensado\n",
        "\n",
        "\n",
        "# =============================================================================\n",
        "# SOLUCION 1: Lógica directa. Se analiza cada celda del mundo y se multiplica por\n",
        "# pHit o pMiss dependiendo de si la celda es igual a la medición o no.\n",
        "# =============================================================================\n",
        "def sense(p: list[float], Z: str) -> list[float]:\n",
        "  '''\n",
        "  Retorna una lista de probabilidades actualizadas segun la medicion realizada\n",
        "\n",
        "  Parametros:\n",
        "    p: Lista de probabilidades inicial\n",
        "    Z: Medicion realizada\n",
        "\n",
        "  Retorna:\n",
        "    q: Lista de probabilidades actualizadas\n",
        "  '''\n",
        "  q=[]    #Lista vacia/variable interna\n",
        "  for i in range(len(p)): #Según los elementos de la probabilidad\n",
        "    if Z==world[i]:\n",
        "      q.append(p[i]*pHit)\n",
        "    else:\n",
        "      q.append(p[i]*pMiss)\n",
        "  return q\n",
        "\n",
        "print(f'Respuesta de solucion 1: {sense(p,Z)}')\n",
        "\n",
        "\n",
        "# =============================================================================\n",
        "# SOLUCION 2: Se simplifica el bucle empleando la función enumerate para obtener\n",
        "# tanto la probabilidad de cada celda como su indice.\n",
        "# =============================================================================\n",
        "def sense(p: list[float], Z: str) -> list[float]:\n",
        "  '''\n",
        "  Retorna una lista de probabilidades actualizadas segun la medicion realizada\n",
        "\n",
        "  Parametros:\n",
        "    p: Lista de probabilidades inicial\n",
        "    Z: Medicion realizada\n",
        "\n",
        "  Retorna:\n",
        "    q: Lista de probabilidades actualizadas\n",
        "  '''\n",
        "  q = [None]*len(p) #Se genera una lista vacia del mismo tamaño que p\n",
        "\n",
        "  # La función enumerate retorna cada elemento de la lista junto a su indice\n",
        "  for i, prob_actual in enumerate(p):\n",
        "    if Z==world[i]:\n",
        "      q[i] = prob_actual*pHit\n",
        "    else:\n",
        "      q[i] = prob_actual*pMiss\n",
        "  return q\n",
        "\n",
        "print(f'Respuesta de solucion 2: {sense(p,Z)}')\n",
        "\n",
        "\n",
        "# =============================================================================\n",
        "# SOLUCION 3: En vez de iniciar con un vector vacio se realiza una copia de la\n",
        "# probabilidad inicial. Cada valor se actualiza multiplicando con pHit o pMiss\n",
        "# según corresponda\n",
        "# =============================================================================\n",
        "def sense(p: list[float], Z: str) -> list[float]:\n",
        "  '''\n",
        "  Retorna una lista de probabilidades actualizadas segun la medicion realizada\n",
        "\n",
        "  Parametros:\n",
        "    p: Lista de probabilidades inicial\n",
        "    Z: Medicion realizada\n",
        "\n",
        "  Retorna:\n",
        "    q: Lista de probabilidades actualizadas\n",
        "  '''\n",
        "  q = p.copy() # Se genera una copia - recordar que listas son mutables\n",
        "  for i, grid in enumerate(world): #Se usa enumerate para iterar entre el mundo (el indice se requiere para poder modificar el indice correcto de la lista)\n",
        "    q[i] *= pHit if Z==grid else pMiss  #El if/else se puede poner todo en la misma linea\n",
        "  return q # Debido a que q es una variable local de la funcion, si requeremos modificar el vector original se debe retornar el valor\n",
        "\n",
        "print(f'Respuesta de solucion 3: {sense(p,Z)}')\n",
        "\n",
        "\n",
        "# =============================================================================\n",
        "# SOLUCION 4: Esta solución modifica el vector p original (aprovecha que las listas)\n",
        "# son mutables. Se aprovecha que luego de realizar la medición, el valor antiguo\n",
        "# de p ya no es relevante. No usar si no se quiere modificar p\n",
        "# =============================================================================\n",
        "def sense(p: list[float], Z: str) -> list[float]:\n",
        "  '''\n",
        "  Modifica una lista de probabilidades y las actualiza segun la medicion realizada\n",
        "\n",
        "  Parametros:\n",
        "    p: Lista de probabilidades a actualizar\n",
        "    Z: Medicion realizada\n",
        "  '''\n",
        "  for i, grid in enumerate(world): #Se usa enumerate para iterar entre el mundo (el indice se requiere para poder modificar el indice correcto de la lista)\n",
        "    p[i] *= pHit if Z==grid else pMiss  #El if/else se puede poner todo en la misma linea\n",
        "\n",
        "# Como esta solucion no retorna nada, para visualizar su respuesta hay que ejecutar la funcion y luego imprimir p\n",
        "sense(p,Z)\n",
        "print(f'Respuesta de solucion 4: {p}')"
      ],
      "metadata": {
        "colab": {
          "base_uri": "https://localhost:8080/"
        },
        "id": "fmELd4aRhsYP",
        "outputId": "f2047a3e-b89c-4f64-f440-121e3190b9d1"
      },
      "execution_count": 76,
      "outputs": [
        {
          "output_type": "stream",
          "name": "stdout",
          "text": [
            "Respuesta de solucion 1: [0.04000000000000001, 0.12, 0.12, 0.04000000000000001, 0.04000000000000001]\n",
            "Respuesta de solucion 2: [0.04000000000000001, 0.12, 0.12, 0.04000000000000001, 0.04000000000000001]\n",
            "Respuesta de solucion 3: [0.04000000000000001, 0.12, 0.12, 0.04000000000000001, 0.04000000000000001]\n",
            "Respuesta de solucion 4: [0.04000000000000001, 0.12, 0.12, 0.04000000000000001, 0.04000000000000001]\n"
          ]
        }
      ]
    },
    {
      "cell_type": "markdown",
      "source": [
        "### Ejercicio 6: Función de sensado normalizada"
      ],
      "metadata": {
        "id": "EHe_saj-wO5h"
      }
    },
    {
      "cell_type": "markdown",
      "source": [
        "Modificar el código para normalizar la salida de\n",
        "la función de sensado . Esto significa que las\n",
        "entradas en q deben sumar uno."
      ],
      "metadata": {
        "id": "tZHXFUbIht55"
      }
    },
    {
      "cell_type": "code",
      "source": [
        "# Se genera el vector p inicial de distribución uniforme\n",
        "p = uniform_distribution(5)\n",
        "# Se definen las probabilidades de detección y no detección\n",
        "pHit = 0.6\n",
        "pMiss = 0.2\n",
        "# Se define el mundo\n",
        "world=['no_tree', 'tree', 'tree', 'no_tree', 'no_tree']\n",
        "Z = 'tree'  #Sensado\n",
        "\n",
        "\n",
        "# =============================================================================\n",
        "# SOLUCION 1: Lógica directa. Se analiza cada celda del mundo y se multiplica por\n",
        "# pHit o pMiss dependiendo de si la celda es igual a la medición o no.\n",
        "# =============================================================================\n",
        "def sense(p: list[float], Z: str) -> list[float]:\n",
        "  '''\n",
        "  Retorna una lista de probabilidades actualizadas segun la medicion realizada\n",
        "\n",
        "  Parametros:\n",
        "    p: Lista de probabilidades inicial\n",
        "    Z: Medicion realizada\n",
        "\n",
        "  Retorna:\n",
        "    q: Lista de probabilidades actualizadas\n",
        "  '''\n",
        "  q=[]    #Lista vacia/variable interna\n",
        "  for i in range(len(p)): #Según los elementos de la probabilidad\n",
        "    if Z==world[i]:\n",
        "      q.append(p[i]*pHit)\n",
        "    else:\n",
        "      q.append(p[i]*pMiss)\n",
        "\n",
        "  #Normalizar\n",
        "  s = sum(q)  #Suma del vector\n",
        "  q = [prob/s for prob in q]\n",
        "  return q\n",
        "\n",
        "print(f'Respuesta de solucion 1: {sense(p,Z)}')\n",
        "\n",
        "\n",
        "# =============================================================================\n",
        "# SOLUCION 2: Se simplifica el bucle empleando la función enumerate para obtener\n",
        "# tanto la probabilidad de cada celda como su indice.\n",
        "# =============================================================================\n",
        "def sense(p: list[float], Z: str) -> list[float]:\n",
        "  '''\n",
        "  Retorna una lista de probabilidades actualizadas segun la medicion realizada\n",
        "\n",
        "  Parametros:\n",
        "    p: Lista de probabilidades inicial\n",
        "    Z: Medicion realizada\n",
        "\n",
        "  Retorna:\n",
        "    q: Lista de probabilidades actualizadas\n",
        "  '''\n",
        "  q = [None]*len(p) #Se genera una lista vacia del mismo tamaño que p\n",
        "\n",
        "  # La función enumerate retorna cada elemento de la lista junto a su indice\n",
        "  for i, prob_actual in enumerate(p):\n",
        "    if Z==world[i]:\n",
        "      q[i] = prob_actual*pHit\n",
        "    else:\n",
        "      q[i] = prob_actual*pMiss\n",
        "\n",
        "  #Normalizar\n",
        "  s = sum(q)  #Suma del vector\n",
        "  q = [prob/s for prob in q]\n",
        "  return q\n",
        "\n",
        "print(f'Respuesta de solucion 2: {sense(p,Z)}')\n",
        "\n",
        "\n",
        "# =============================================================================\n",
        "# SOLUCION 3: En vez de iniciar con un vector vacio se realiza una copia de la\n",
        "# probabilidad inicial. Cada valor se actualiza multiplicando con pHit o pMiss\n",
        "# según corresponda\n",
        "# =============================================================================\n",
        "def sense(p: list[float], Z: str) -> list[float]:\n",
        "  '''\n",
        "  Retorna una lista de probabilidades actualizadas segun la medicion realizada\n",
        "\n",
        "  Parametros:\n",
        "    p: Lista de probabilidades inicial\n",
        "    Z: Medicion realizada\n",
        "\n",
        "  Retorna:\n",
        "    q: Lista de probabilidades actualizadas\n",
        "  '''\n",
        "  q = p.copy() # Se genera una copia - recordar que listas son mutables\n",
        "  for i, grid in enumerate(world): #Se usa enumerate para iterar entre el mundo (el indice se requiere para poder modificar el indice correcto de la lista)\n",
        "    q[i] *= pHit if Z==grid else pMiss  #El if/else se puede poner todo en la misma linea\n",
        "\n",
        "  #Normalizar\n",
        "  s = sum(q)  #Suma del vector\n",
        "  q = [prob/s for prob in q]\n",
        "  return q # Debido a que q es una variable local de la funcion, si requeremos modificar el vector original se debe retornar el valor\n",
        "\n",
        "print(f'Respuesta de solucion 3: {sense(p,Z)}')\n",
        "\n",
        "\n",
        "# =============================================================================\n",
        "# SOLUCION 4: Esta solución modifica el vector p original (aprovecha que las listas)\n",
        "# son mutables. Se aprovecha que luego de realizar la medición, el valor antiguo\n",
        "# de p ya no es relevante. No usar si no se quiere modificar p\n",
        "# =============================================================================\n",
        "#def sense(p: list[float], Z: str) -> list[float]:\n",
        "#  '''\n",
        "#  Modifica una lista de probabilidades y las actualiza segun la medicion realizada\n",
        "#\n",
        "#  Parametros:\n",
        "#    p: Lista de probabilidades a actualizar\n",
        "#    Z: Medicion realizada\n",
        "#  '''\n",
        "#  for i, grid in enumerate(world): #Se usa enumerate para iterar entre el mundo (el indice se requiere para poder modificar el indice correcto de la lista)\n",
        "#    p[i] *= pHit if Z==grid else pMiss  #El if/else se puede poner todo en la misma linea\n",
        "#  #Normalizar\n",
        "#  s = sum(p)  #Suma del vector\n",
        "#  for i in range(len(p)):\n",
        "#    p[i] /= s\n",
        "\n",
        "# Como esta solucion no retorna nada, para visualizar su respuesta hay que ejecutar la funcion y luego imprimir p\n",
        "#sense(p,Z)\n",
        "#print(f'Respuesta de solucion 4: {p}')"
      ],
      "metadata": {
        "colab": {
          "base_uri": "https://localhost:8080/"
        },
        "id": "cviOM44NhxYJ",
        "outputId": "a47cb3cf-6643-468c-c33d-f2bf89a1505f"
      },
      "execution_count": 77,
      "outputs": [
        {
          "output_type": "stream",
          "name": "stdout",
          "text": [
            "Respuesta de solucion 1: [0.1111111111111111, 0.3333333333333332, 0.3333333333333332, 0.1111111111111111, 0.1111111111111111]\n",
            "Respuesta de solucion 2: [0.1111111111111111, 0.3333333333333332, 0.3333333333333332, 0.1111111111111111, 0.1111111111111111]\n",
            "Respuesta de solucion 3: [0.1111111111111111, 0.3333333333333332, 0.3333333333333332, 0.1111111111111111, 0.1111111111111111]\n"
          ]
        }
      ]
    },
    {
      "cell_type": "markdown",
      "source": [
        "### Ejercicio 7: Vehiculo no detecta un árbol"
      ],
      "metadata": {
        "id": "OzoSEGKXhxym"
      }
    },
    {
      "cell_type": "markdown",
      "source": [
        "Ejecutar el código para cuando el vehículo no\n",
        "detecta un árbol."
      ],
      "metadata": {
        "id": "tmE4J74Zx7VA"
      }
    },
    {
      "cell_type": "code",
      "source": [
        "# Se genera el vector p inicial de distribución uniforme\n",
        "p = uniform_distribution(5)\n",
        "# Se definen las probabilidades de detección y no detección\n",
        "pHit = 0.6\n",
        "pMiss = 0.2\n",
        "# Se define el mundo\n",
        "world=['no_tree', 'tree', 'tree', 'no_tree', 'no_tree']\n",
        "Z = 'no_tree'  #Sensado\n",
        "\n",
        "print(f'{sense(p,Z)=}')"
      ],
      "metadata": {
        "colab": {
          "base_uri": "https://localhost:8080/"
        },
        "id": "DlbvJJJDh0sM",
        "outputId": "3b28fcf9-3208-4066-8b99-ebb4b4becb71"
      },
      "execution_count": 78,
      "outputs": [
        {
          "output_type": "stream",
          "name": "stdout",
          "text": [
            "sense(p,Z)=[0.2727272727272727, 0.09090909090909093, 0.09090909090909093, 0.2727272727272727, 0.2727272727272727]\n"
          ]
        }
      ]
    },
    {
      "cell_type": "markdown",
      "source": [
        "### Ejercicio 8: Mediciones secuenciales"
      ],
      "metadata": {
        "id": "Fc6rftHfyFCT"
      }
    },
    {
      "cell_type": "markdown",
      "source": [
        "Modificar el código para que actualice la probabilidad dos veces y proporcione la distribución posterior después de que se incorporen ambas mediciones (detección y no detección) Asegurarse que el código permita cualquier secuencia de medición de cualquier longitud."
      ],
      "metadata": {
        "id": "AbNRRLAVh1DM"
      }
    },
    {
      "cell_type": "code",
      "source": [
        "# Se genera el vector p inicial de distribución uniforme\n",
        "p = uniform_distribution(5)\n",
        "# Se definen las probabilidades de detección y no detección\n",
        "pHit = 0.6\n",
        "pMiss = 0.2\n",
        "# Se define el mundo\n",
        "world=['no_tree', 'tree', 'tree', 'no_tree', 'no_tree']\n",
        "measurements = ['tree','no_tree']  #Sensado\n",
        "\n",
        "# =============================================================================\n",
        "# Solución: Solo es necesario iterar sobre las mediciones. Enumerate se usa solo\n",
        "# para obtener el indice y mostrarlo en la impresión.\n",
        "# =============================================================================\n",
        "for i, measure in enumerate(measurements):\n",
        "  p = sense(p, measure)\n",
        "  print(f'{i}: probabilidad luego de medir {measure}:\\n\\t {p}')"
      ],
      "metadata": {
        "colab": {
          "base_uri": "https://localhost:8080/"
        },
        "id": "6pQ3O25Th5ns",
        "outputId": "f905c037-e1b8-4dbb-85f0-b210350ea5ae"
      },
      "execution_count": 79,
      "outputs": [
        {
          "output_type": "stream",
          "name": "stdout",
          "text": [
            "0: probabilidad luego de medir tree:\n",
            "\t [0.1111111111111111, 0.3333333333333332, 0.3333333333333332, 0.1111111111111111, 0.1111111111111111]\n",
            "1: probabilidad luego de medir no_tree:\n",
            "\t [0.20000000000000004, 0.19999999999999996, 0.19999999999999996, 0.20000000000000004, 0.20000000000000004]\n"
          ]
        }
      ]
    },
    {
      "cell_type": "markdown",
      "source": [
        "Observar que la salida es nuevamente una distribución uniforme (0.2 de probabilidad en todas las celdas).\n",
        "\n",
        "Esto ocurre porque el vehículo ha obtenido dos mediciones diferentes sin realizar ningún desplazamiento. Básicamente, no sabe que medición fue correcta"
      ],
      "metadata": {
        "id": "CZ4L-SRny3H_"
      }
    },
    {
      "cell_type": "markdown",
      "source": [
        "#Movimiento del vehículo"
      ],
      "metadata": {
        "id": "ribWl7Wa4ZO_"
      }
    },
    {
      "cell_type": "markdown",
      "source": [
        "### Ejercicio 9: Movimiento exacto"
      ],
      "metadata": {
        "id": "w1Y1MCCf4GDs"
      }
    },
    {
      "cell_type": "markdown",
      "source": [
        "Programar una función que retorne una nueva distribución desplazada hacia adelante por U unidades. Si U=0, q debería ser la misma.\n",
        "\n",
        "**def move (p,U)**"
      ],
      "metadata": {
        "id": "zHbw7FeYh5-G"
      }
    },
    {
      "cell_type": "code",
      "source": [
        "# =============================================================================\n",
        "# Solución: Se emplea la técnica de list slicing\n",
        "# =============================================================================\n",
        "def move(p: list[float], U: int) -> list[float]:\n",
        "  \"\"\"\n",
        "  Retorna una lista de probabilidades desplazada U unidades hacia adelante\n",
        "\n",
        "  Parametros:\n",
        "    p: Lista de probabilidades inicial\n",
        "    U: Numero de unidades a desplazar\n",
        "\n",
        "  Retorna:\n",
        "    q: Lista de probabilidades desplazada\n",
        "  \"\"\"\n",
        "  q = p.copy()\n",
        "  return q[-U:] + q[0:-U]\n",
        "\n",
        "# Prueba de funcionamiento\n",
        "p=[0, 1, 0, 0, 0]     #Modificado para notar el cambio\n",
        "\n",
        "print(f'{move(p, 0) = }')\n",
        "print(f'{move(p, 1) = }')\n",
        "print(f'{move(p, 2) = }')\n",
        "print(f'{move(p, 4) = }')\n",
        "print(f'{move(p, -1) = }')"
      ],
      "metadata": {
        "colab": {
          "base_uri": "https://localhost:8080/"
        },
        "id": "Ra7CL5LNh_QA",
        "outputId": "e438c411-c1b2-46b4-cd11-dba95e11376c"
      },
      "execution_count": 80,
      "outputs": [
        {
          "output_type": "stream",
          "name": "stdout",
          "text": [
            "move(p, 0) = [0, 1, 0, 0, 0]\n",
            "move(p, 1) = [0, 0, 1, 0, 0]\n",
            "move(p, 2) = [0, 0, 0, 1, 0]\n",
            "move(p, 4) = [1, 0, 0, 0, 0]\n",
            "move(p, -1) = [1, 0, 0, 0, 0]\n"
          ]
        }
      ]
    },
    {
      "cell_type": "markdown",
      "source": [
        "### Ejercicio 10: Movimiento inexacto"
      ],
      "metadata": {
        "id": "ruti-iH2DCQG"
      }
    },
    {
      "cell_type": "markdown",
      "source": [
        "Modificar la función de movimiento para acomodar las probabilidades adicionales de sobrepasar o subestimar el destino previsto.\n",
        "\n",
        "pExact = 0.8\n",
        "\n",
        "pOvershoot = 0.1\n",
        "\n",
        "pUndershoot = 0.1"
      ],
      "metadata": {
        "id": "oOtjuH5Hh_uY"
      }
    },
    {
      "cell_type": "code",
      "source": [
        "# =============================================================================\n",
        "# Solución: Se emplea la técnica de list slicing\n",
        "# =============================================================================\n",
        "def move(p: list[float], U: int, pExact: float, pOvershoot: float, pUndershoot: float) -> list[float]:\n",
        "  \"\"\"\n",
        "  Retorna una lista de probabilidades desplazada U unidades hacia adelante\n",
        "\n",
        "  Parametros:\n",
        "    p: Lista de probabilidades inicial\n",
        "    U: Numero de unidades a desplazar\n",
        "    pExact: Probabilidad de desplazamiento exacto\n",
        "    pOvershoot: Probabilidad de desplazamiento sobrepasado\n",
        "    pUndershoot: Probabilidad de desplazamiento subestimado\n",
        "\n",
        "  Retorna:\n",
        "    q: Lista de probabilidades desplazada U unidades hacia adelante\n",
        "  \"\"\"\n",
        "  q = p.copy()\n",
        "  q_exact = p[-U:] + p[0:-U]      #Desplazamiento a la casilla evaluada\n",
        "  q_over = p[-U-1:] + p[0:-U-1]   #Desplazamiento a la casilla siguiente\n",
        "  q_under = p[-U+1:] + p[0:-U+1]  #Desplazamiento a la casilla anterior\n",
        "  # print(f'{q_exact = }')\n",
        "  # print(f'{q_over = }')\n",
        "  # print(f'{q_under = }')\n",
        "  for i, _ in enumerate(p):\n",
        "    s = (pExact * q_exact[i]) + (pOvershoot * q_over[i]) + (pUndershoot * q_under[i])\n",
        "    q[i] = round(s, 3)\n",
        "  return q\n",
        "\n",
        "# Prueba de funcionamiento\n",
        "p=[0, 1, 0, 0, 0]\n",
        "# Se definen las probabilidades de movimiento exacto, sobrepasar o subestimar el destino\n",
        "pExact = 0.8\n",
        "pOvershoot = 0.1\n",
        "pUndershoot = 0.1\n",
        "\n",
        "print(f'{move(p, 0, pExact, pOvershoot, pUndershoot) = }')\n",
        "print(f'{move(p, 1, pExact, pOvershoot, pUndershoot) = }')\n",
        "print(f'{move(p, 2, pExact, pOvershoot, pUndershoot) = }')\n",
        "print(f'{move(p, 4, pExact, pOvershoot, pUndershoot) = }')\n",
        "print(f'{move(p, -1, pExact, pOvershoot, pUndershoot) = }')"
      ],
      "metadata": {
        "colab": {
          "base_uri": "https://localhost:8080/"
        },
        "id": "C09LWspRiKvf",
        "outputId": "6b2f813a-a347-4efe-a59b-aa1bf65d2e74"
      },
      "execution_count": 81,
      "outputs": [
        {
          "output_type": "stream",
          "name": "stdout",
          "text": [
            "move(p, 0, pExact, pOvershoot, pUndershoot) = [0.1, 0.8, 0.1, 0.0, 0.0]\n",
            "move(p, 1, pExact, pOvershoot, pUndershoot) = [0.0, 0.1, 0.8, 0.1, 0.0]\n",
            "move(p, 2, pExact, pOvershoot, pUndershoot) = [0.0, 0.0, 0.1, 0.8, 0.1]\n",
            "move(p, 4, pExact, pOvershoot, pUndershoot) = [0.8, 0.1, 0.0, 0.0, 0.1]\n",
            "move(p, -1, pExact, pOvershoot, pUndershoot) = [0.8, 0.1, 0.0, 0.0, 0.1]\n"
          ]
        }
      ]
    },
    {
      "cell_type": "markdown",
      "source": [
        "### Ejercicio 11: 2 movimeintos seguidos"
      ],
      "metadata": {
        "id": "IAKTXyh9L1DF"
      }
    },
    {
      "cell_type": "markdown",
      "source": [
        "Escribir un código que haga que el vehícuo se mueva dos veces y luego imprima la distribución resultante, comenzando con la distribución inicial p = [0, 1, 0, 0, 0]"
      ],
      "metadata": {
        "id": "VYcLD9CCiLP1"
      }
    },
    {
      "cell_type": "code",
      "source": [
        "p=[0, 1, 0, 0, 0]\n",
        "# Se definen las probabilidades de movimiento exacto, sobrepasar o subestimar el destino\n",
        "pExact = 0.8\n",
        "pOvershoot = 0.1\n",
        "pUndershoot = 0.1\n",
        "\n",
        "p = move(p, 1, pExact, pOvershoot, pUndershoot)\n",
        "p = move(p, 1, pExact, pOvershoot, pUndershoot)\n",
        "print(f'{p = }')"
      ],
      "metadata": {
        "colab": {
          "base_uri": "https://localhost:8080/"
        },
        "id": "hSw14eJliRNN",
        "outputId": "8cc689ee-d8ca-474b-bdcc-e98aab33ff36"
      },
      "execution_count": 82,
      "outputs": [
        {
          "output_type": "stream",
          "name": "stdout",
          "text": [
            "p = [0.01, 0.01, 0.16, 0.66, 0.16]\n"
          ]
        }
      ]
    },
    {
      "cell_type": "markdown",
      "source": [
        "### Ejercicio 12: Múltiples movimientos\n",
        "\n",
        "Escribir un código que haga que el vehículo se mueva 1000 veces y luego imprima la distribución resultante."
      ],
      "metadata": {
        "id": "rLOG11i9iRw3"
      }
    },
    {
      "cell_type": "code",
      "source": [
        "p=[0, 1, 0, 0, 0]\n",
        "# Se definen las probabilidades de movimiento exacto, sobrepasar o subestimar el destino\n",
        "pExact = 0.8\n",
        "pOvershoot = 0.1\n",
        "pUndershoot = 0.1\n",
        "\n",
        "for i in range(1000):\n",
        "  p = move(p, 1, pExact, pOvershoot, pUndershoot)\n",
        "\n",
        "print(f'{i+1}: {p = }')"
      ],
      "metadata": {
        "colab": {
          "base_uri": "https://localhost:8080/"
        },
        "id": "5bNtKPTIiUrp",
        "outputId": "09db86fd-6207-418f-cd04-9bc4ae450db5"
      },
      "execution_count": 83,
      "outputs": [
        {
          "output_type": "stream",
          "name": "stdout",
          "text": [
            "1000: p = [0.204, 0.206, 0.204, 0.2, 0.2]\n"
          ]
        }
      ]
    },
    {
      "cell_type": "markdown",
      "source": [
        "Se puede observar que mientras más movimientos realice el vehículo, la incertidumbre se acumula hasta llegar a un punto donde no se sabe donde se encuentra el vehículo y se retorna nuevamente a la distribucion uniforme.\n",
        "\n",
        "¿Cuantas iteraciones son necesarias para perder conocimiento de la ubicación actual?\n",
        "\n",
        "Para evitar este efecto se debe de realizar mediciones mientras el vehículo se desplaza"
      ],
      "metadata": {
        "id": "w2yzmOC_MZLG"
      }
    },
    {
      "cell_type": "markdown",
      "source": [
        "#Sensado y Movimiento"
      ],
      "metadata": {
        "id": "rPU1BeGBOmvJ"
      }
    },
    {
      "cell_type": "markdown",
      "source": [
        "### Ejercicio 13"
      ],
      "metadata": {
        "id": "fHdXHqLmOxSr"
      }
    },
    {
      "cell_type": "markdown",
      "source": [
        "Calcular la distribución de probabilidades resultantes considerando las siguientes acciones:\n",
        "\n",
        "1.   Resultado de medición: Árbol\n",
        "2.   Movimiento del vehículo: Avanzar\n",
        "3.   Resultado de medición: No Árbol\n",
        "4.   Movimiento del vehículo: Avanzar\n",
        "\n",
        "Iniciar con una distribución uniforme y considerar la lista de movimientos = `[1 1]` que implica que el vehículo se desplaza hacia adelante dos veces\n",
        "\n",
        "Considerar un mundo de 5 posiciones descrito por\n",
        "\n",
        "<img src=\"https://drive.google.com/uc?export=view&id=1FJUwDHqm03WrTa0G8wFkGBKhfwgz4t82\" alt=\"localizacion_1D_mundo\" width=\"350\"/>"
      ],
      "metadata": {
        "id": "1YRp7cSUiU_8"
      }
    },
    {
      "cell_type": "code",
      "source": [
        "# Se genera el vector p inicial de distribución uniforme\n",
        "p = uniform_distribution(5)\n",
        "# Se define el mundo\n",
        "world=['no_tree', 'tree', 'tree', 'no_tree', 'no_tree']\n",
        "# Se definen las probabilidades de detección y no detección\n",
        "pHit = 0.6\n",
        "pMiss = 0.2\n",
        "# Se definen las probabilidades de movimiento exacto, sobrepasar o subestimar el destino\n",
        "pExact = 0.8\n",
        "pOvershoot = 0.1\n",
        "pUndershoot = 0.1\n",
        "#===============================================================================\n",
        "measurements = ['tree','no_tree']  #Sensado\n",
        "motions = [1,1]     #Se agrega la función de movimiento\n",
        "\n",
        "for measure, motion in zip(measurements, motions): #Se realizan las operación de acuerdo al número de movimientos\n",
        "    p = sense(p, measure)    #Se realiza el sensado\n",
        "    p = move(p, motion, pExact, pOvershoot, pUndershoot)          #Se realiza el movimiento\n",
        "print(f'Caso 1: {p = }')"
      ],
      "metadata": {
        "colab": {
          "base_uri": "https://localhost:8080/"
        },
        "id": "U2IArfQpianv",
        "outputId": "6a5d8132-7be0-409d-b0f2-03ba04f9c675"
      },
      "execution_count": 86,
      "outputs": [
        {
          "output_type": "stream",
          "name": "stdout",
          "text": [
            "Caso 1: p = [0.211, 0.152, 0.081, 0.169, 0.388]\n"
          ]
        }
      ]
    },
    {
      "cell_type": "markdown",
      "source": [
        "### Ejercicio 14"
      ],
      "metadata": {
        "id": "kvvFvHXdRHbC"
      }
    },
    {
      "cell_type": "markdown",
      "source": [
        "Modificar el código para que el auto sense dos veces la presencia de un arbol"
      ],
      "metadata": {
        "id": "fQpYm1Kfia-l"
      }
    },
    {
      "cell_type": "code",
      "source": [
        "# Se genera el vector p inicial de distribución uniforme\n",
        "p = uniform_distribution(5)\n",
        "# Se define el mundo\n",
        "world=['no_tree', 'tree', 'tree', 'no_tree', 'no_tree']\n",
        "# Se definen las probabilidades de detección y no detección\n",
        "pHit = 0.6\n",
        "pMiss = 0.2\n",
        "# Se definen las probabilidades de movimiento exacto, sobrepasar o subestimar el destino\n",
        "pExact = 0.8\n",
        "pOvershoot = 0.1\n",
        "pUndershoot = 0.1\n",
        "#===============================================================================\n",
        "measurements = ['tree','no_tree','no_tree','tree','tree','tree','no_tree', 'no_tree']  #Sensado\n",
        "motions = [1,1,1,1,1,1,1,1]     #Se agrega la función de movimiento\n",
        "\n",
        "for measure, motion in zip(measurements, motions): #Se realizan las operación de acuerdo al número de movimientos\n",
        "    p = sense(p, measure)    #Se realiza el sensado\n",
        "    p = move(p, motion, pExact, pOvershoot, pUndershoot)          #Se realiza el movimiento\n",
        "print(f'Caso 1: {p = }')"
      ],
      "metadata": {
        "colab": {
          "base_uri": "https://localhost:8080/"
        },
        "id": "JtbG7ChfidcC",
        "outputId": "bdf50fbd-71c1-40e8-eb1b-5c79be3a1ef5"
      },
      "execution_count": 87,
      "outputs": [
        {
          "output_type": "stream",
          "name": "stdout",
          "text": [
            "Caso 1: p = [0.452, 0.319, 0.063, 0.022, 0.143]\n"
          ]
        }
      ]
    }
  ]
}