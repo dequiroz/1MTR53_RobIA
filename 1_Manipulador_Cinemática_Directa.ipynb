{
  "nbformat": 4,
  "nbformat_minor": 0,
  "metadata": {
    "colab": {
      "provenance": [],
      "toc_visible": true,
      "authorship_tag": "ABX9TyNS+C1hFO3xIUtzIo4bJ83c",
      "include_colab_link": true
    },
    "kernelspec": {
      "name": "python3",
      "display_name": "Python 3"
    },
    "language_info": {
      "name": "python"
    },
    "widgets": {
      "application/vnd.jupyter.widget-state+json": {
        "17bbf4d3c42745139c958a8120737eae": {
          "model_module": "@jupyter-widgets/controls",
          "model_name": "VBoxModel",
          "model_module_version": "1.5.0",
          "state": {
            "_dom_classes": [
              "widget-interact"
            ],
            "_model_module": "@jupyter-widgets/controls",
            "_model_module_version": "1.5.0",
            "_model_name": "VBoxModel",
            "_view_count": null,
            "_view_module": "@jupyter-widgets/controls",
            "_view_module_version": "1.5.0",
            "_view_name": "VBoxView",
            "box_style": "",
            "children": [
              "IPY_MODEL_c0a7d70810e74845a399e22e5625c021",
              "IPY_MODEL_f25d8961dd23416c9f37eb3632f849ae",
              "IPY_MODEL_ddeb7cad880e426c90f90297efb2878a",
              "IPY_MODEL_f630b75028a04de69ca657554b088b48",
              "IPY_MODEL_d09cf55154894fde99e55435c8ca699a"
            ],
            "layout": "IPY_MODEL_749d3b9f23aa480090752a2d98a1755a"
          }
        },
        "c0a7d70810e74845a399e22e5625c021": {
          "model_module": "@jupyter-widgets/controls",
          "model_name": "IntSliderModel",
          "model_module_version": "1.5.0",
          "state": {
            "_dom_classes": [],
            "_model_module": "@jupyter-widgets/controls",
            "_model_module_version": "1.5.0",
            "_model_name": "IntSliderModel",
            "_view_count": null,
            "_view_module": "@jupyter-widgets/controls",
            "_view_module_version": "1.5.0",
            "_view_name": "IntSliderView",
            "continuous_update": true,
            "description": "q1",
            "description_tooltip": null,
            "disabled": false,
            "layout": "IPY_MODEL_4c70fd8dcd1144038667e87c032fe51d",
            "max": 180,
            "min": -180,
            "orientation": "horizontal",
            "readout": true,
            "readout_format": "d",
            "step": 1,
            "style": "IPY_MODEL_bcbeecaf82a1466993bdc8b983473b0a",
            "value": 0
          }
        },
        "f25d8961dd23416c9f37eb3632f849ae": {
          "model_module": "@jupyter-widgets/controls",
          "model_name": "IntSliderModel",
          "model_module_version": "1.5.0",
          "state": {
            "_dom_classes": [],
            "_model_module": "@jupyter-widgets/controls",
            "_model_module_version": "1.5.0",
            "_model_name": "IntSliderModel",
            "_view_count": null,
            "_view_module": "@jupyter-widgets/controls",
            "_view_module_version": "1.5.0",
            "_view_name": "IntSliderView",
            "continuous_update": true,
            "description": "q2",
            "description_tooltip": null,
            "disabled": false,
            "layout": "IPY_MODEL_bde3af51f10c4378b7a2861ebbcb3e20",
            "max": 180,
            "min": -180,
            "orientation": "horizontal",
            "readout": true,
            "readout_format": "d",
            "step": 1,
            "style": "IPY_MODEL_28482fda400340ec9504ea4e6ca81c3f",
            "value": 0
          }
        },
        "ddeb7cad880e426c90f90297efb2878a": {
          "model_module": "@jupyter-widgets/controls",
          "model_name": "IntSliderModel",
          "model_module_version": "1.5.0",
          "state": {
            "_dom_classes": [],
            "_model_module": "@jupyter-widgets/controls",
            "_model_module_version": "1.5.0",
            "_model_name": "IntSliderModel",
            "_view_count": null,
            "_view_module": "@jupyter-widgets/controls",
            "_view_module_version": "1.5.0",
            "_view_name": "IntSliderView",
            "continuous_update": true,
            "description": "l1",
            "description_tooltip": null,
            "disabled": false,
            "layout": "IPY_MODEL_3b009c3dc6384cbfb7e643fc51fe98d6",
            "max": 10,
            "min": 0,
            "orientation": "horizontal",
            "readout": true,
            "readout_format": "d",
            "step": 1,
            "style": "IPY_MODEL_86949c3812eb43ff9012c0c09113a1fd",
            "value": 5
          }
        },
        "f630b75028a04de69ca657554b088b48": {
          "model_module": "@jupyter-widgets/controls",
          "model_name": "IntSliderModel",
          "model_module_version": "1.5.0",
          "state": {
            "_dom_classes": [],
            "_model_module": "@jupyter-widgets/controls",
            "_model_module_version": "1.5.0",
            "_model_name": "IntSliderModel",
            "_view_count": null,
            "_view_module": "@jupyter-widgets/controls",
            "_view_module_version": "1.5.0",
            "_view_name": "IntSliderView",
            "continuous_update": true,
            "description": "l2",
            "description_tooltip": null,
            "disabled": false,
            "layout": "IPY_MODEL_97f9cc89e1dc435cab0b7bc34716060b",
            "max": 10,
            "min": 0,
            "orientation": "horizontal",
            "readout": true,
            "readout_format": "d",
            "step": 1,
            "style": "IPY_MODEL_4eb9ced22730472db4a4e54a5ce76e9f",
            "value": 5
          }
        },
        "d09cf55154894fde99e55435c8ca699a": {
          "model_module": "@jupyter-widgets/output",
          "model_name": "OutputModel",
          "model_module_version": "1.0.0",
          "state": {
            "_dom_classes": [],
            "_model_module": "@jupyter-widgets/output",
            "_model_module_version": "1.0.0",
            "_model_name": "OutputModel",
            "_view_count": null,
            "_view_module": "@jupyter-widgets/output",
            "_view_module_version": "1.0.0",
            "_view_name": "OutputView",
            "layout": "IPY_MODEL_5f0566efcbd442c79bec5526f9639fa4",
            "msg_id": "",
            "outputs": [
              {
                "output_type": "stream",
                "name": "stdout",
                "text": [
                  "[[ 1.  0.  0. 10.]\n",
                  " [ 0.  1.  0.  0.]\n",
                  " [ 0.  0.  1.  0.]\n",
                  " [ 0.  0.  0.  1.]]\n"
                ]
              }
            ]
          }
        },
        "749d3b9f23aa480090752a2d98a1755a": {
          "model_module": "@jupyter-widgets/base",
          "model_name": "LayoutModel",
          "model_module_version": "1.2.0",
          "state": {
            "_model_module": "@jupyter-widgets/base",
            "_model_module_version": "1.2.0",
            "_model_name": "LayoutModel",
            "_view_count": null,
            "_view_module": "@jupyter-widgets/base",
            "_view_module_version": "1.2.0",
            "_view_name": "LayoutView",
            "align_content": null,
            "align_items": null,
            "align_self": null,
            "border": null,
            "bottom": null,
            "display": null,
            "flex": null,
            "flex_flow": null,
            "grid_area": null,
            "grid_auto_columns": null,
            "grid_auto_flow": null,
            "grid_auto_rows": null,
            "grid_column": null,
            "grid_gap": null,
            "grid_row": null,
            "grid_template_areas": null,
            "grid_template_columns": null,
            "grid_template_rows": null,
            "height": null,
            "justify_content": null,
            "justify_items": null,
            "left": null,
            "margin": null,
            "max_height": null,
            "max_width": null,
            "min_height": null,
            "min_width": null,
            "object_fit": null,
            "object_position": null,
            "order": null,
            "overflow": null,
            "overflow_x": null,
            "overflow_y": null,
            "padding": null,
            "right": null,
            "top": null,
            "visibility": null,
            "width": null
          }
        },
        "4c70fd8dcd1144038667e87c032fe51d": {
          "model_module": "@jupyter-widgets/base",
          "model_name": "LayoutModel",
          "model_module_version": "1.2.0",
          "state": {
            "_model_module": "@jupyter-widgets/base",
            "_model_module_version": "1.2.0",
            "_model_name": "LayoutModel",
            "_view_count": null,
            "_view_module": "@jupyter-widgets/base",
            "_view_module_version": "1.2.0",
            "_view_name": "LayoutView",
            "align_content": null,
            "align_items": null,
            "align_self": null,
            "border": null,
            "bottom": null,
            "display": null,
            "flex": null,
            "flex_flow": null,
            "grid_area": null,
            "grid_auto_columns": null,
            "grid_auto_flow": null,
            "grid_auto_rows": null,
            "grid_column": null,
            "grid_gap": null,
            "grid_row": null,
            "grid_template_areas": null,
            "grid_template_columns": null,
            "grid_template_rows": null,
            "height": null,
            "justify_content": null,
            "justify_items": null,
            "left": null,
            "margin": null,
            "max_height": null,
            "max_width": null,
            "min_height": null,
            "min_width": null,
            "object_fit": null,
            "object_position": null,
            "order": null,
            "overflow": null,
            "overflow_x": null,
            "overflow_y": null,
            "padding": null,
            "right": null,
            "top": null,
            "visibility": null,
            "width": null
          }
        },
        "bcbeecaf82a1466993bdc8b983473b0a": {
          "model_module": "@jupyter-widgets/controls",
          "model_name": "SliderStyleModel",
          "model_module_version": "1.5.0",
          "state": {
            "_model_module": "@jupyter-widgets/controls",
            "_model_module_version": "1.5.0",
            "_model_name": "SliderStyleModel",
            "_view_count": null,
            "_view_module": "@jupyter-widgets/base",
            "_view_module_version": "1.2.0",
            "_view_name": "StyleView",
            "description_width": "",
            "handle_color": null
          }
        },
        "bde3af51f10c4378b7a2861ebbcb3e20": {
          "model_module": "@jupyter-widgets/base",
          "model_name": "LayoutModel",
          "model_module_version": "1.2.0",
          "state": {
            "_model_module": "@jupyter-widgets/base",
            "_model_module_version": "1.2.0",
            "_model_name": "LayoutModel",
            "_view_count": null,
            "_view_module": "@jupyter-widgets/base",
            "_view_module_version": "1.2.0",
            "_view_name": "LayoutView",
            "align_content": null,
            "align_items": null,
            "align_self": null,
            "border": null,
            "bottom": null,
            "display": null,
            "flex": null,
            "flex_flow": null,
            "grid_area": null,
            "grid_auto_columns": null,
            "grid_auto_flow": null,
            "grid_auto_rows": null,
            "grid_column": null,
            "grid_gap": null,
            "grid_row": null,
            "grid_template_areas": null,
            "grid_template_columns": null,
            "grid_template_rows": null,
            "height": null,
            "justify_content": null,
            "justify_items": null,
            "left": null,
            "margin": null,
            "max_height": null,
            "max_width": null,
            "min_height": null,
            "min_width": null,
            "object_fit": null,
            "object_position": null,
            "order": null,
            "overflow": null,
            "overflow_x": null,
            "overflow_y": null,
            "padding": null,
            "right": null,
            "top": null,
            "visibility": null,
            "width": null
          }
        },
        "28482fda400340ec9504ea4e6ca81c3f": {
          "model_module": "@jupyter-widgets/controls",
          "model_name": "SliderStyleModel",
          "model_module_version": "1.5.0",
          "state": {
            "_model_module": "@jupyter-widgets/controls",
            "_model_module_version": "1.5.0",
            "_model_name": "SliderStyleModel",
            "_view_count": null,
            "_view_module": "@jupyter-widgets/base",
            "_view_module_version": "1.2.0",
            "_view_name": "StyleView",
            "description_width": "",
            "handle_color": null
          }
        },
        "3b009c3dc6384cbfb7e643fc51fe98d6": {
          "model_module": "@jupyter-widgets/base",
          "model_name": "LayoutModel",
          "model_module_version": "1.2.0",
          "state": {
            "_model_module": "@jupyter-widgets/base",
            "_model_module_version": "1.2.0",
            "_model_name": "LayoutModel",
            "_view_count": null,
            "_view_module": "@jupyter-widgets/base",
            "_view_module_version": "1.2.0",
            "_view_name": "LayoutView",
            "align_content": null,
            "align_items": null,
            "align_self": null,
            "border": null,
            "bottom": null,
            "display": null,
            "flex": null,
            "flex_flow": null,
            "grid_area": null,
            "grid_auto_columns": null,
            "grid_auto_flow": null,
            "grid_auto_rows": null,
            "grid_column": null,
            "grid_gap": null,
            "grid_row": null,
            "grid_template_areas": null,
            "grid_template_columns": null,
            "grid_template_rows": null,
            "height": null,
            "justify_content": null,
            "justify_items": null,
            "left": null,
            "margin": null,
            "max_height": null,
            "max_width": null,
            "min_height": null,
            "min_width": null,
            "object_fit": null,
            "object_position": null,
            "order": null,
            "overflow": null,
            "overflow_x": null,
            "overflow_y": null,
            "padding": null,
            "right": null,
            "top": null,
            "visibility": null,
            "width": null
          }
        },
        "86949c3812eb43ff9012c0c09113a1fd": {
          "model_module": "@jupyter-widgets/controls",
          "model_name": "SliderStyleModel",
          "model_module_version": "1.5.0",
          "state": {
            "_model_module": "@jupyter-widgets/controls",
            "_model_module_version": "1.5.0",
            "_model_name": "SliderStyleModel",
            "_view_count": null,
            "_view_module": "@jupyter-widgets/base",
            "_view_module_version": "1.2.0",
            "_view_name": "StyleView",
            "description_width": "",
            "handle_color": null
          }
        },
        "97f9cc89e1dc435cab0b7bc34716060b": {
          "model_module": "@jupyter-widgets/base",
          "model_name": "LayoutModel",
          "model_module_version": "1.2.0",
          "state": {
            "_model_module": "@jupyter-widgets/base",
            "_model_module_version": "1.2.0",
            "_model_name": "LayoutModel",
            "_view_count": null,
            "_view_module": "@jupyter-widgets/base",
            "_view_module_version": "1.2.0",
            "_view_name": "LayoutView",
            "align_content": null,
            "align_items": null,
            "align_self": null,
            "border": null,
            "bottom": null,
            "display": null,
            "flex": null,
            "flex_flow": null,
            "grid_area": null,
            "grid_auto_columns": null,
            "grid_auto_flow": null,
            "grid_auto_rows": null,
            "grid_column": null,
            "grid_gap": null,
            "grid_row": null,
            "grid_template_areas": null,
            "grid_template_columns": null,
            "grid_template_rows": null,
            "height": null,
            "justify_content": null,
            "justify_items": null,
            "left": null,
            "margin": null,
            "max_height": null,
            "max_width": null,
            "min_height": null,
            "min_width": null,
            "object_fit": null,
            "object_position": null,
            "order": null,
            "overflow": null,
            "overflow_x": null,
            "overflow_y": null,
            "padding": null,
            "right": null,
            "top": null,
            "visibility": null,
            "width": null
          }
        },
        "4eb9ced22730472db4a4e54a5ce76e9f": {
          "model_module": "@jupyter-widgets/controls",
          "model_name": "SliderStyleModel",
          "model_module_version": "1.5.0",
          "state": {
            "_model_module": "@jupyter-widgets/controls",
            "_model_module_version": "1.5.0",
            "_model_name": "SliderStyleModel",
            "_view_count": null,
            "_view_module": "@jupyter-widgets/base",
            "_view_module_version": "1.2.0",
            "_view_name": "StyleView",
            "description_width": "",
            "handle_color": null
          }
        },
        "5f0566efcbd442c79bec5526f9639fa4": {
          "model_module": "@jupyter-widgets/base",
          "model_name": "LayoutModel",
          "model_module_version": "1.2.0",
          "state": {
            "_model_module": "@jupyter-widgets/base",
            "_model_module_version": "1.2.0",
            "_model_name": "LayoutModel",
            "_view_count": null,
            "_view_module": "@jupyter-widgets/base",
            "_view_module_version": "1.2.0",
            "_view_name": "LayoutView",
            "align_content": null,
            "align_items": null,
            "align_self": null,
            "border": null,
            "bottom": null,
            "display": null,
            "flex": null,
            "flex_flow": null,
            "grid_area": null,
            "grid_auto_columns": null,
            "grid_auto_flow": null,
            "grid_auto_rows": null,
            "grid_column": null,
            "grid_gap": null,
            "grid_row": null,
            "grid_template_areas": null,
            "grid_template_columns": null,
            "grid_template_rows": null,
            "height": null,
            "justify_content": null,
            "justify_items": null,
            "left": null,
            "margin": null,
            "max_height": null,
            "max_width": null,
            "min_height": null,
            "min_width": null,
            "object_fit": null,
            "object_position": null,
            "order": null,
            "overflow": null,
            "overflow_x": null,
            "overflow_y": null,
            "padding": null,
            "right": null,
            "top": null,
            "visibility": null,
            "width": null
          }
        },
        "01bf710fc1de45b790c217e18030e512": {
          "model_module": "@jupyter-widgets/controls",
          "model_name": "VBoxModel",
          "model_module_version": "1.5.0",
          "state": {
            "_dom_classes": [
              "widget-interact"
            ],
            "_model_module": "@jupyter-widgets/controls",
            "_model_module_version": "1.5.0",
            "_model_name": "VBoxModel",
            "_view_count": null,
            "_view_module": "@jupyter-widgets/controls",
            "_view_module_version": "1.5.0",
            "_view_name": "VBoxView",
            "box_style": "",
            "children": [
              "IPY_MODEL_3c455e250b9c408ab1c5a664a73f876d",
              "IPY_MODEL_cf90effb52754e36a73e5e9a798800ea",
              "IPY_MODEL_ad0de3b9d6b945ebaa7c40d16caad612",
              "IPY_MODEL_82c4ab0fd8c7485893ac0c95fa57b5b9",
              "IPY_MODEL_2a9c746d6fa44fbe9fdc7057ca462088"
            ],
            "layout": "IPY_MODEL_146d5172d1d74c079e001eccfaa13c7f"
          }
        },
        "3c455e250b9c408ab1c5a664a73f876d": {
          "model_module": "@jupyter-widgets/controls",
          "model_name": "IntSliderModel",
          "model_module_version": "1.5.0",
          "state": {
            "_dom_classes": [],
            "_model_module": "@jupyter-widgets/controls",
            "_model_module_version": "1.5.0",
            "_model_name": "IntSliderModel",
            "_view_count": null,
            "_view_module": "@jupyter-widgets/controls",
            "_view_module_version": "1.5.0",
            "_view_name": "IntSliderView",
            "continuous_update": true,
            "description": "q1",
            "description_tooltip": null,
            "disabled": false,
            "layout": "IPY_MODEL_6a344405602b4d5d98b3ca12ff68ff39",
            "max": 180,
            "min": -180,
            "orientation": "horizontal",
            "readout": true,
            "readout_format": "d",
            "step": 1,
            "style": "IPY_MODEL_86ba432fade04bd9a46bec57fbb91502",
            "value": 0
          }
        },
        "cf90effb52754e36a73e5e9a798800ea": {
          "model_module": "@jupyter-widgets/controls",
          "model_name": "IntSliderModel",
          "model_module_version": "1.5.0",
          "state": {
            "_dom_classes": [],
            "_model_module": "@jupyter-widgets/controls",
            "_model_module_version": "1.5.0",
            "_model_name": "IntSliderModel",
            "_view_count": null,
            "_view_module": "@jupyter-widgets/controls",
            "_view_module_version": "1.5.0",
            "_view_name": "IntSliderView",
            "continuous_update": true,
            "description": "q2",
            "description_tooltip": null,
            "disabled": false,
            "layout": "IPY_MODEL_24bd5a18817849cab6f5251f98159bef",
            "max": 180,
            "min": -180,
            "orientation": "horizontal",
            "readout": true,
            "readout_format": "d",
            "step": 1,
            "style": "IPY_MODEL_f5926a4aa2f34bddbeb97c6248816d19",
            "value": 0
          }
        },
        "ad0de3b9d6b945ebaa7c40d16caad612": {
          "model_module": "@jupyter-widgets/controls",
          "model_name": "IntSliderModel",
          "model_module_version": "1.5.0",
          "state": {
            "_dom_classes": [],
            "_model_module": "@jupyter-widgets/controls",
            "_model_module_version": "1.5.0",
            "_model_name": "IntSliderModel",
            "_view_count": null,
            "_view_module": "@jupyter-widgets/controls",
            "_view_module_version": "1.5.0",
            "_view_name": "IntSliderView",
            "continuous_update": true,
            "description": "l1",
            "description_tooltip": null,
            "disabled": false,
            "layout": "IPY_MODEL_f1ddfc3a3e524343915cdd490265b6d1",
            "max": 10,
            "min": 0,
            "orientation": "horizontal",
            "readout": true,
            "readout_format": "d",
            "step": 1,
            "style": "IPY_MODEL_4690894221294744b8eb6430bf10adb5",
            "value": 5
          }
        },
        "82c4ab0fd8c7485893ac0c95fa57b5b9": {
          "model_module": "@jupyter-widgets/controls",
          "model_name": "IntSliderModel",
          "model_module_version": "1.5.0",
          "state": {
            "_dom_classes": [],
            "_model_module": "@jupyter-widgets/controls",
            "_model_module_version": "1.5.0",
            "_model_name": "IntSliderModel",
            "_view_count": null,
            "_view_module": "@jupyter-widgets/controls",
            "_view_module_version": "1.5.0",
            "_view_name": "IntSliderView",
            "continuous_update": true,
            "description": "l2",
            "description_tooltip": null,
            "disabled": false,
            "layout": "IPY_MODEL_d35e5509059c4fe7930e972e7c9a624c",
            "max": 10,
            "min": 0,
            "orientation": "horizontal",
            "readout": true,
            "readout_format": "d",
            "step": 1,
            "style": "IPY_MODEL_5b79a7fb2d7d41cf9bbe49bade046fa9",
            "value": 5
          }
        },
        "2a9c746d6fa44fbe9fdc7057ca462088": {
          "model_module": "@jupyter-widgets/output",
          "model_name": "OutputModel",
          "model_module_version": "1.0.0",
          "state": {
            "_dom_classes": [],
            "_model_module": "@jupyter-widgets/output",
            "_model_module_version": "1.0.0",
            "_model_name": "OutputModel",
            "_view_count": null,
            "_view_module": "@jupyter-widgets/output",
            "_view_module_version": "1.0.0",
            "_view_name": "OutputView",
            "layout": "IPY_MODEL_d2b31103aec9499eb167b3837d07de8b",
            "msg_id": "",
            "outputs": [
              {
                "output_type": "display_data",
                "data": {
                  "text/plain": "<Figure size 400x400 with 1 Axes>",
                  "image/png": "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\n"
                },
                "metadata": {}
              }
            ]
          }
        },
        "146d5172d1d74c079e001eccfaa13c7f": {
          "model_module": "@jupyter-widgets/base",
          "model_name": "LayoutModel",
          "model_module_version": "1.2.0",
          "state": {
            "_model_module": "@jupyter-widgets/base",
            "_model_module_version": "1.2.0",
            "_model_name": "LayoutModel",
            "_view_count": null,
            "_view_module": "@jupyter-widgets/base",
            "_view_module_version": "1.2.0",
            "_view_name": "LayoutView",
            "align_content": null,
            "align_items": null,
            "align_self": null,
            "border": null,
            "bottom": null,
            "display": null,
            "flex": null,
            "flex_flow": null,
            "grid_area": null,
            "grid_auto_columns": null,
            "grid_auto_flow": null,
            "grid_auto_rows": null,
            "grid_column": null,
            "grid_gap": null,
            "grid_row": null,
            "grid_template_areas": null,
            "grid_template_columns": null,
            "grid_template_rows": null,
            "height": null,
            "justify_content": null,
            "justify_items": null,
            "left": null,
            "margin": null,
            "max_height": null,
            "max_width": null,
            "min_height": null,
            "min_width": null,
            "object_fit": null,
            "object_position": null,
            "order": null,
            "overflow": null,
            "overflow_x": null,
            "overflow_y": null,
            "padding": null,
            "right": null,
            "top": null,
            "visibility": null,
            "width": null
          }
        },
        "6a344405602b4d5d98b3ca12ff68ff39": {
          "model_module": "@jupyter-widgets/base",
          "model_name": "LayoutModel",
          "model_module_version": "1.2.0",
          "state": {
            "_model_module": "@jupyter-widgets/base",
            "_model_module_version": "1.2.0",
            "_model_name": "LayoutModel",
            "_view_count": null,
            "_view_module": "@jupyter-widgets/base",
            "_view_module_version": "1.2.0",
            "_view_name": "LayoutView",
            "align_content": null,
            "align_items": null,
            "align_self": null,
            "border": null,
            "bottom": null,
            "display": null,
            "flex": null,
            "flex_flow": null,
            "grid_area": null,
            "grid_auto_columns": null,
            "grid_auto_flow": null,
            "grid_auto_rows": null,
            "grid_column": null,
            "grid_gap": null,
            "grid_row": null,
            "grid_template_areas": null,
            "grid_template_columns": null,
            "grid_template_rows": null,
            "height": null,
            "justify_content": null,
            "justify_items": null,
            "left": null,
            "margin": null,
            "max_height": null,
            "max_width": null,
            "min_height": null,
            "min_width": null,
            "object_fit": null,
            "object_position": null,
            "order": null,
            "overflow": null,
            "overflow_x": null,
            "overflow_y": null,
            "padding": null,
            "right": null,
            "top": null,
            "visibility": null,
            "width": null
          }
        },
        "86ba432fade04bd9a46bec57fbb91502": {
          "model_module": "@jupyter-widgets/controls",
          "model_name": "SliderStyleModel",
          "model_module_version": "1.5.0",
          "state": {
            "_model_module": "@jupyter-widgets/controls",
            "_model_module_version": "1.5.0",
            "_model_name": "SliderStyleModel",
            "_view_count": null,
            "_view_module": "@jupyter-widgets/base",
            "_view_module_version": "1.2.0",
            "_view_name": "StyleView",
            "description_width": "",
            "handle_color": null
          }
        },
        "24bd5a18817849cab6f5251f98159bef": {
          "model_module": "@jupyter-widgets/base",
          "model_name": "LayoutModel",
          "model_module_version": "1.2.0",
          "state": {
            "_model_module": "@jupyter-widgets/base",
            "_model_module_version": "1.2.0",
            "_model_name": "LayoutModel",
            "_view_count": null,
            "_view_module": "@jupyter-widgets/base",
            "_view_module_version": "1.2.0",
            "_view_name": "LayoutView",
            "align_content": null,
            "align_items": null,
            "align_self": null,
            "border": null,
            "bottom": null,
            "display": null,
            "flex": null,
            "flex_flow": null,
            "grid_area": null,
            "grid_auto_columns": null,
            "grid_auto_flow": null,
            "grid_auto_rows": null,
            "grid_column": null,
            "grid_gap": null,
            "grid_row": null,
            "grid_template_areas": null,
            "grid_template_columns": null,
            "grid_template_rows": null,
            "height": null,
            "justify_content": null,
            "justify_items": null,
            "left": null,
            "margin": null,
            "max_height": null,
            "max_width": null,
            "min_height": null,
            "min_width": null,
            "object_fit": null,
            "object_position": null,
            "order": null,
            "overflow": null,
            "overflow_x": null,
            "overflow_y": null,
            "padding": null,
            "right": null,
            "top": null,
            "visibility": null,
            "width": null
          }
        },
        "f5926a4aa2f34bddbeb97c6248816d19": {
          "model_module": "@jupyter-widgets/controls",
          "model_name": "SliderStyleModel",
          "model_module_version": "1.5.0",
          "state": {
            "_model_module": "@jupyter-widgets/controls",
            "_model_module_version": "1.5.0",
            "_model_name": "SliderStyleModel",
            "_view_count": null,
            "_view_module": "@jupyter-widgets/base",
            "_view_module_version": "1.2.0",
            "_view_name": "StyleView",
            "description_width": "",
            "handle_color": null
          }
        },
        "f1ddfc3a3e524343915cdd490265b6d1": {
          "model_module": "@jupyter-widgets/base",
          "model_name": "LayoutModel",
          "model_module_version": "1.2.0",
          "state": {
            "_model_module": "@jupyter-widgets/base",
            "_model_module_version": "1.2.0",
            "_model_name": "LayoutModel",
            "_view_count": null,
            "_view_module": "@jupyter-widgets/base",
            "_view_module_version": "1.2.0",
            "_view_name": "LayoutView",
            "align_content": null,
            "align_items": null,
            "align_self": null,
            "border": null,
            "bottom": null,
            "display": null,
            "flex": null,
            "flex_flow": null,
            "grid_area": null,
            "grid_auto_columns": null,
            "grid_auto_flow": null,
            "grid_auto_rows": null,
            "grid_column": null,
            "grid_gap": null,
            "grid_row": null,
            "grid_template_areas": null,
            "grid_template_columns": null,
            "grid_template_rows": null,
            "height": null,
            "justify_content": null,
            "justify_items": null,
            "left": null,
            "margin": null,
            "max_height": null,
            "max_width": null,
            "min_height": null,
            "min_width": null,
            "object_fit": null,
            "object_position": null,
            "order": null,
            "overflow": null,
            "overflow_x": null,
            "overflow_y": null,
            "padding": null,
            "right": null,
            "top": null,
            "visibility": null,
            "width": null
          }
        },
        "4690894221294744b8eb6430bf10adb5": {
          "model_module": "@jupyter-widgets/controls",
          "model_name": "SliderStyleModel",
          "model_module_version": "1.5.0",
          "state": {
            "_model_module": "@jupyter-widgets/controls",
            "_model_module_version": "1.5.0",
            "_model_name": "SliderStyleModel",
            "_view_count": null,
            "_view_module": "@jupyter-widgets/base",
            "_view_module_version": "1.2.0",
            "_view_name": "StyleView",
            "description_width": "",
            "handle_color": null
          }
        },
        "d35e5509059c4fe7930e972e7c9a624c": {
          "model_module": "@jupyter-widgets/base",
          "model_name": "LayoutModel",
          "model_module_version": "1.2.0",
          "state": {
            "_model_module": "@jupyter-widgets/base",
            "_model_module_version": "1.2.0",
            "_model_name": "LayoutModel",
            "_view_count": null,
            "_view_module": "@jupyter-widgets/base",
            "_view_module_version": "1.2.0",
            "_view_name": "LayoutView",
            "align_content": null,
            "align_items": null,
            "align_self": null,
            "border": null,
            "bottom": null,
            "display": null,
            "flex": null,
            "flex_flow": null,
            "grid_area": null,
            "grid_auto_columns": null,
            "grid_auto_flow": null,
            "grid_auto_rows": null,
            "grid_column": null,
            "grid_gap": null,
            "grid_row": null,
            "grid_template_areas": null,
            "grid_template_columns": null,
            "grid_template_rows": null,
            "height": null,
            "justify_content": null,
            "justify_items": null,
            "left": null,
            "margin": null,
            "max_height": null,
            "max_width": null,
            "min_height": null,
            "min_width": null,
            "object_fit": null,
            "object_position": null,
            "order": null,
            "overflow": null,
            "overflow_x": null,
            "overflow_y": null,
            "padding": null,
            "right": null,
            "top": null,
            "visibility": null,
            "width": null
          }
        },
        "5b79a7fb2d7d41cf9bbe49bade046fa9": {
          "model_module": "@jupyter-widgets/controls",
          "model_name": "SliderStyleModel",
          "model_module_version": "1.5.0",
          "state": {
            "_model_module": "@jupyter-widgets/controls",
            "_model_module_version": "1.5.0",
            "_model_name": "SliderStyleModel",
            "_view_count": null,
            "_view_module": "@jupyter-widgets/base",
            "_view_module_version": "1.2.0",
            "_view_name": "StyleView",
            "description_width": "",
            "handle_color": null
          }
        },
        "d2b31103aec9499eb167b3837d07de8b": {
          "model_module": "@jupyter-widgets/base",
          "model_name": "LayoutModel",
          "model_module_version": "1.2.0",
          "state": {
            "_model_module": "@jupyter-widgets/base",
            "_model_module_version": "1.2.0",
            "_model_name": "LayoutModel",
            "_view_count": null,
            "_view_module": "@jupyter-widgets/base",
            "_view_module_version": "1.2.0",
            "_view_name": "LayoutView",
            "align_content": null,
            "align_items": null,
            "align_self": null,
            "border": null,
            "bottom": null,
            "display": null,
            "flex": null,
            "flex_flow": null,
            "grid_area": null,
            "grid_auto_columns": null,
            "grid_auto_flow": null,
            "grid_auto_rows": null,
            "grid_column": null,
            "grid_gap": null,
            "grid_row": null,
            "grid_template_areas": null,
            "grid_template_columns": null,
            "grid_template_rows": null,
            "height": null,
            "justify_content": null,
            "justify_items": null,
            "left": null,
            "margin": null,
            "max_height": null,
            "max_width": null,
            "min_height": null,
            "min_width": null,
            "object_fit": null,
            "object_position": null,
            "order": null,
            "overflow": null,
            "overflow_x": null,
            "overflow_y": null,
            "padding": null,
            "right": null,
            "top": null,
            "visibility": null,
            "width": null
          }
        }
      }
    }
  },
  "cells": [
    {
      "cell_type": "markdown",
      "metadata": {
        "id": "view-in-github",
        "colab_type": "text"
      },
      "source": [
        "<a href=\"https://colab.research.google.com/github/dequiroz/1MTR53_RobIA/blob/main/1_Manipulador_Cinem%C3%A1tica_Directa.ipynb\" target=\"_parent\"><img src=\"https://colab.research.google.com/assets/colab-badge.svg\" alt=\"Open In Colab\"/></a>"
      ]
    },
    {
      "cell_type": "markdown",
      "source": [
        "<img src=\"https://drive.google.com/uc?export=view&id=1FsTa2YzWwxY-HBkd2EOXAlkPJ1zpikWv\" alt=\"drawing\" width=\"150\"/>\n",
        "\n",
        "\n",
        "<p align=\"center\">\n",
        "<img src=\"https://drive.google.com/uc?export=view&id=1VBn7nKlruxCPLHH_UuD8B2pkvKP7JLRd\" alt=\"drawing\" width=\"800\"/>\n",
        "\n",
        "</br>\n",
        "\n",
        "<img src=\"https://drive.google.com/uc?export=view&id=1uF_4x1YqLuS3M0mlh3NrMrEUHvjBMBFw\" alt=\"drawing\" width=\"800\"/>\n",
        "</p>\n",
        "\n",
        "#Cinematica Directa para Manipulador de 2 grados de libertad (RR) - Análisis Geométrico\n",
        "* Diego Quiroz Velasquez\n",
        "* Sección Ingeniería Mecatrónica\n",
        "* Pontificia Universidad Católica del Perú\n",
        "\n",
        "---\n",
        "Este archivo describe el método geométrico de cinemática directa y su aplicación para el análisis de un manipulador de 2 grados de libertad rotacionales. Se realiza un análisis simbólico para visualizar las ecuaciones matemáticas resultandos seguido por una aplicación numérica. Finalmente se realiza una simulación interactiva para comprender como la cinemática directa ayuda a determinar la posición del efector final del manipulador.\n",
        "\n",
        "\n",
        "\n",
        "<img src=\"https://drive.google.com/uc?export=view&id=1vgFoFHEKMN0WcAFlKS2hPMg2KuBm3sp9\" alt=\"drawing\"/>"
      ],
      "metadata": {
        "id": "9KGhPKYe2wZM"
      }
    },
    {
      "cell_type": "markdown",
      "source": [
        "#Manipulador de 2 grados rotacionales RR"
      ],
      "metadata": {
        "id": "bgMaCnV-_Iwv"
      }
    },
    {
      "cell_type": "markdown",
      "source": [
        "## 1. Introducción\n",
        "\n"
      ],
      "metadata": {
        "id": "vFygNcV7_So7"
      }
    },
    {
      "cell_type": "markdown",
      "source": [
        "Recordar el manipulador descrito\n",
        "\n",
        "<p align=\"center\">\n",
        "<img src=\"https://drive.google.com/uc?export=view&id=1Gt7FztKupxVbmHPmauYFbJkDMeNEU9VO\" alt=\"drawing\" width=\"300\"/></p>"
      ],
      "metadata": {
        "id": "1CwxUQfCKqbe"
      }
    },
    {
      "cell_type": "markdown",
      "source": [
        "La coordenadas del efector final se pueden determinar empleando geometría y están descrita por las ecuaciones\n",
        "\n",
        "$\\left [  \\begin{matrix}\n",
        " x_2 \\\\ y_2\n",
        "\\end{matrix} \\right ]=\n",
        "\\left [ \\begin{matrix}\n",
        "l_1 cos(\\theta_1)+l_2 cos(\\theta_1+\\theta_2) \\\\ l_1 sin(\\theta_1) + l_2 sin(\\theta_1 + \\theta_2)\n",
        "\\end{matrix}\n",
        "\\right ]$\n",
        "\n",
        "Observar que estas ecuaciones describen un proceso de traslación en los ejes $X$ y $Y$ respectivamente. De forma adicional, el sistema de referencia del efector final presenta una rotación en el eje $Z$ con valor de $\\theta_1 + \\theta_2$\n",
        "\n",
        "El proceso completo de cinemática directa se puede realizar empleando ecuaciones de transformación homogenea como se muestra a continuación"
      ],
      "metadata": {
        "id": "HYSng5CYK-Dw"
      }
    },
    {
      "cell_type": "markdown",
      "source": [
        "##2. Análisis simbólico"
      ],
      "metadata": {
        "id": "Sr473Zps_hDh"
      }
    },
    {
      "cell_type": "markdown",
      "source": [
        "Para esté análisis se emplea la librería [sympy](https://www.sympy.org/en/index.html), la cual nos permitirá determinar las matrices de transformación homogeneas para cada eslabón así como su producto."
      ],
      "metadata": {
        "id": "711dvvl3vzoB"
      }
    },
    {
      "cell_type": "code",
      "execution_count": null,
      "metadata": {
        "id": "8Rdld6tNGWDB"
      },
      "outputs": [],
      "source": [
        "import sympy as sp     # Se importa la biblioteca para el cálculo simbólico"
      ]
    },
    {
      "cell_type": "code",
      "source": [
        "# =============================================================================\n",
        "# Se definen funciones para representar transformaciones de traslación pura y\n",
        "# rotación pura alrededor del eje Z\n",
        "# =============================================================================\n",
        "def transformacion_traslacion(x: sp.symbols, y: sp.symbols, z: sp.symbols) -> sp.Matrix:\n",
        "    \"\"\"\n",
        "    Retorna una representación simbólica de la transformación homogénea\n",
        "    de traslación pura\n",
        "\n",
        "    Parametros (sp.symbols):\n",
        "      x: translación en la dirección x\n",
        "      y: translación en la dirección y\n",
        "      z: translación en la dirección z\n",
        "    \"\"\"\n",
        "    T = sp.Matrix([[1,0,0,x],\n",
        "                   [0,1,0,y],\n",
        "                   [0,0,1,z],\n",
        "                   [0,0,0,1]])\n",
        "    return T\n",
        "\n",
        "def transformacion_rotacion_z(ang: sp.symbols) -> sp.Matrix:\n",
        "    \"\"\"\n",
        "    Retorna una representación simbólica de la transformación homogénea\n",
        "    de rotación pura alrededor de z\n",
        "\n",
        "    Parametros (sp.symbols):\n",
        "      ang: ángulo de rotación alrededor del eje z\n",
        "    \"\"\"\n",
        "    T = sp.Matrix([[sp.cos(ang),-sp.sin(ang),0,0],\n",
        "                   [sp.sin(ang), sp.cos(ang),0,0],\n",
        "                   [0,0,1,0],\n",
        "                   [0,0,0,1]])\n",
        "    return T\n"
      ],
      "metadata": {
        "id": "6TDn0UuzGxJq"
      },
      "execution_count": null,
      "outputs": []
    },
    {
      "cell_type": "code",
      "source": [
        "# Definición de variables representativas de la geometría del manipulador\n",
        "q1, q2, l1, l2 = sp.symbols(\"q1 q2 l1 l2\")\n",
        "\n",
        "# Se definen las matrices de transformacion homogenea correspondientes empleando\n",
        "# la notación:\n",
        "#    Tab: Transformación del sistema 'b' con respecto al sistema 'a'\n",
        "\n",
        "# Se definen la transformación del sistema 1 (codo) respecto al sistema 0 (base del robot)\n",
        "T01 = transformacion_rotacion_z(q1)*transformacion_traslacion(l1,0,0)\n",
        "# Se definen la transformación del sistema 2 (efector final) respecto al sistema 1 (codo)\n",
        "T12 = transformacion_rotacion_z(q2)*transformacion_traslacion(l2,0,0)\n",
        "# Se definen la transformación del sistema 2 (efector final) respecto al sistema 0 (base del robot)\n",
        "T02 = sp.simplify(T01*T12)\n",
        "\n",
        "# Mostrar las transformaciones homogéneas (display funciona con IPython)\n",
        "print(\"T01:\"); display(T01)\n",
        "print(\"T12:\"); display(T12)\n",
        "print(\"T02:\"); display(T02)"
      ],
      "metadata": {
        "id": "jdeMy5pWHE5G",
        "colab": {
          "base_uri": "https://localhost:8080/",
          "height": 315
        },
        "outputId": "e8ffbfa4-59f4-4c19-ce5e-7056eaf7db28"
      },
      "execution_count": null,
      "outputs": [
        {
          "output_type": "stream",
          "name": "stdout",
          "text": [
            "T01:\n"
          ]
        },
        {
          "output_type": "display_data",
          "data": {
            "text/plain": [
              "Matrix([\n",
              "[cos(q1), -sin(q1), 0, l1*cos(q1)],\n",
              "[sin(q1),  cos(q1), 0, l1*sin(q1)],\n",
              "[      0,        0, 1,          0],\n",
              "[      0,        0, 0,          1]])"
            ],
            "text/latex": "$\\displaystyle \\left[\\begin{matrix}\\cos{\\left(q_{1} \\right)} & - \\sin{\\left(q_{1} \\right)} & 0 & l_{1} \\cos{\\left(q_{1} \\right)}\\\\\\sin{\\left(q_{1} \\right)} & \\cos{\\left(q_{1} \\right)} & 0 & l_{1} \\sin{\\left(q_{1} \\right)}\\\\0 & 0 & 1 & 0\\\\0 & 0 & 0 & 1\\end{matrix}\\right]$"
          },
          "metadata": {}
        },
        {
          "output_type": "stream",
          "name": "stdout",
          "text": [
            "T12:\n"
          ]
        },
        {
          "output_type": "display_data",
          "data": {
            "text/plain": [
              "Matrix([\n",
              "[cos(q2), -sin(q2), 0, l2*cos(q2)],\n",
              "[sin(q2),  cos(q2), 0, l2*sin(q2)],\n",
              "[      0,        0, 1,          0],\n",
              "[      0,        0, 0,          1]])"
            ],
            "text/latex": "$\\displaystyle \\left[\\begin{matrix}\\cos{\\left(q_{2} \\right)} & - \\sin{\\left(q_{2} \\right)} & 0 & l_{2} \\cos{\\left(q_{2} \\right)}\\\\\\sin{\\left(q_{2} \\right)} & \\cos{\\left(q_{2} \\right)} & 0 & l_{2} \\sin{\\left(q_{2} \\right)}\\\\0 & 0 & 1 & 0\\\\0 & 0 & 0 & 1\\end{matrix}\\right]$"
          },
          "metadata": {}
        },
        {
          "output_type": "stream",
          "name": "stdout",
          "text": [
            "T02:\n"
          ]
        },
        {
          "output_type": "display_data",
          "data": {
            "text/plain": [
              "Matrix([\n",
              "[cos(q1 + q2), -sin(q1 + q2), 0, l1*cos(q1) + l2*cos(q1 + q2)],\n",
              "[sin(q1 + q2),  cos(q1 + q2), 0, l1*sin(q1) + l2*sin(q1 + q2)],\n",
              "[           0,             0, 1,                            0],\n",
              "[           0,             0, 0,                            1]])"
            ],
            "text/latex": "$\\displaystyle \\left[\\begin{matrix}\\cos{\\left(q_{1} + q_{2} \\right)} & - \\sin{\\left(q_{1} + q_{2} \\right)} & 0 & l_{1} \\cos{\\left(q_{1} \\right)} + l_{2} \\cos{\\left(q_{1} + q_{2} \\right)}\\\\\\sin{\\left(q_{1} + q_{2} \\right)} & \\cos{\\left(q_{1} + q_{2} \\right)} & 0 & l_{1} \\sin{\\left(q_{1} \\right)} + l_{2} \\sin{\\left(q_{1} + q_{2} \\right)}\\\\0 & 0 & 1 & 0\\\\0 & 0 & 0 & 1\\end{matrix}\\right]$"
          },
          "metadata": {}
        }
      ]
    },
    {
      "cell_type": "markdown",
      "source": [
        "Analizando la forma de la matriz $^0T_ 2$ se puede claramente observar:\n",
        "* Traslación en los ejes $X$ y $Y$\n",
        "* Rotación en el eje $Z$ con valor de $\\theta_1 + \\theta_2$"
      ],
      "metadata": {
        "id": "qwFG0y3I0h69"
      }
    },
    {
      "cell_type": "markdown",
      "source": [
        "## 3. Cálculo numérico"
      ],
      "metadata": {
        "id": "ogIZcqp__k9n"
      }
    },
    {
      "cell_type": "markdown",
      "source": [
        "El mismo procedimiento se puede realizar de forma numérica empleando numpy para el manejo de matrices y vectores en python"
      ],
      "metadata": {
        "id": "wNAFR6Re1VeF"
      }
    },
    {
      "cell_type": "code",
      "source": [
        "import numpy as np"
      ],
      "metadata": {
        "id": "geVv68gN19pg"
      },
      "execution_count": null,
      "outputs": []
    },
    {
      "cell_type": "code",
      "source": [
        "# =============================================================================\n",
        "# Se definen funciones para calcular las matrices de transformacio de traslación\n",
        "# pura y rotación pura alrededor del eje Z\n",
        "# =============================================================================\n",
        "def transformacion_traslacion_num(x: float, y: float, z: float) -> np.ndarray:\n",
        "  \"\"\"\n",
        "  Retorna una representación numérica de la transformación homogénea\n",
        "  de traslación pura\n",
        "\n",
        "  Parametros (float):\n",
        "    x: translación en la dirección x\n",
        "    y: translación en la dirección y\n",
        "    z: translación en la dirección z\n",
        "  \"\"\"\n",
        "  T = np.array([[1, 0, 0, x],\n",
        "                [0, 1, 0, y],\n",
        "                [0, 0, 1, z],\n",
        "                [0, 0, 0, 1]])\n",
        "  return T\n",
        "\n",
        "def transformacion_rotacion_z_num(ang: float) -> np.ndarray:\n",
        "  \"\"\"\n",
        "  Retorna una representación numérica de la transformación homogénea\n",
        "  de rotación pura alrededor de z\n",
        "\n",
        "  Parametros (float):\n",
        "    ang: ángulo de rotación alrededor del eje z\n",
        "  \"\"\"\n",
        "  T = np.array([[np.cos(ang), -np.sin(ang), 0, 0],\n",
        "                [np.sin(ang), np.cos(ang), 0, 0],\n",
        "                [0, 0, 1, 0],\n",
        "                [0, 0, 0, 1]])\n",
        "  return T\n"
      ],
      "metadata": {
        "id": "PBTNuEBN2BBl"
      },
      "execution_count": null,
      "outputs": []
    },
    {
      "cell_type": "code",
      "source": [
        "# =============================================================================\n",
        "# Se define la función para calcular la cinemática directa del manipulador de\n",
        "# 2 grados de libertad RR\n",
        "# =============================================================================\n",
        "def cinematica_directa_robot2D(q1: float, q2: float, l1: float, l2: float):\n",
        "  \"\"\"\n",
        "  Calcula la cinemática directa del robot 2D\n",
        "\n",
        "  Parámetros (float):\n",
        "      q1: Ángulo de la articulación 1 en radianes.\n",
        "      q2: Ángulo de la articulación 2 en radianes.\n",
        "      l1: Longitud del eslabón 1.\n",
        "      l2: Longitud del eslabón 2.\n",
        "\n",
        "  Retorna:\n",
        "      Una tupla de matriz 4x4 que representan las transformaciones homogénea de\n",
        "      cada eslabón con respecto a la base del robot.\n",
        "  \"\"\"\n",
        "  T01 = transformacion_rotacion_z_num(q1) @ transformacion_traslacion_num(l1, 0, 0)\n",
        "  T12 = transformacion_rotacion_z_num(q2) @ transformacion_traslacion_num(l2, 0, 0)\n",
        "  T02 = T01 @ T12\n",
        "  return T01, T02\n"
      ],
      "metadata": {
        "id": "QctClpGm2ooM"
      },
      "execution_count": null,
      "outputs": []
    },
    {
      "cell_type": "code",
      "source": [
        "from ipywidgets import interact\n",
        "\n",
        "# =============================================================================\n",
        "# Se emplea la función interact (funciona en Jupiter o Colab) para generar un\n",
        "# sistema interactivo.\n",
        "# =============================================================================\n",
        "@interact(q1=(-180, 180, 1), q2=(-180, 180, 1), l1=(0, 10, 1), l2=(0, 10, 1))\n",
        "def cinematica_directa_interactivo(q1, q2, l1, l2):\n",
        "  # Aplicación de cinemática directa numérica\n",
        "  q1 = np.deg2rad(q1)\n",
        "  q2 = np.deg2rad(q2)\n",
        "  T01, T02 = cinematica_directa_robot2D(q1, q2, l1, l2)\n",
        "\n",
        "  # Mostrar el resultado\n",
        "  print(np.round(T02,3))"
      ],
      "metadata": {
        "colab": {
          "base_uri": "https://localhost:8080/",
          "height": 217,
          "referenced_widgets": [
            "17bbf4d3c42745139c958a8120737eae",
            "c0a7d70810e74845a399e22e5625c021",
            "f25d8961dd23416c9f37eb3632f849ae",
            "ddeb7cad880e426c90f90297efb2878a",
            "f630b75028a04de69ca657554b088b48",
            "d09cf55154894fde99e55435c8ca699a",
            "749d3b9f23aa480090752a2d98a1755a",
            "4c70fd8dcd1144038667e87c032fe51d",
            "bcbeecaf82a1466993bdc8b983473b0a",
            "bde3af51f10c4378b7a2861ebbcb3e20",
            "28482fda400340ec9504ea4e6ca81c3f",
            "3b009c3dc6384cbfb7e643fc51fe98d6",
            "86949c3812eb43ff9012c0c09113a1fd",
            "97f9cc89e1dc435cab0b7bc34716060b",
            "4eb9ced22730472db4a4e54a5ce76e9f",
            "5f0566efcbd442c79bec5526f9639fa4"
          ]
        },
        "id": "EIUJWUEC3oCD",
        "outputId": "cdc2d92d-e1ba-4a71-d0b4-24c0c2eb0a39"
      },
      "execution_count": null,
      "outputs": [
        {
          "output_type": "display_data",
          "data": {
            "text/plain": [
              "interactive(children=(IntSlider(value=0, description='q1', max=180, min=-180), IntSlider(value=0, description=…"
            ],
            "application/vnd.jupyter.widget-view+json": {
              "version_major": 2,
              "version_minor": 0,
              "model_id": "17bbf4d3c42745139c958a8120737eae"
            }
          },
          "metadata": {}
        }
      ]
    },
    {
      "cell_type": "markdown",
      "source": [
        "## 3. Simulación gráfica"
      ],
      "metadata": {
        "id": "LEPI9xgVAAGA"
      }
    },
    {
      "cell_type": "markdown",
      "source": [
        "En esta sección se emplea la librería [matplotlib](https://matplotlib.org/) para graficar un esquema del manipulador"
      ],
      "metadata": {
        "id": "CPeReI5NAFMM"
      }
    },
    {
      "cell_type": "code",
      "source": [
        "from ipywidgets import interact\n",
        "import matplotlib.pyplot as plt\n",
        "\n",
        "# =============================================================================\n",
        "# Se emplea la función interact (funciona en Jupiter o Colab) para generar un\n",
        "# sistema interactivo.\n",
        "# =============================================================================\n",
        "@interact(q1=(-180, 180, 1), q2=(-180, 180, 1), l1=(0, 10, 1), l2=(0, 10, 1))\n",
        "def plot_robot(q1, q2, l1, l2):\n",
        "  # Aplicación de cinemática directa numérica\n",
        "  q1 = np.deg2rad(q1)\n",
        "  q2 = np.deg2rad(q2)\n",
        "  T01, T02 = cinematica_directa_robot2D(q1, q2, l1, l2)\n",
        "\n",
        "  # Obtener las coordenadas del efector final\n",
        "  x2 = T02[0, 3]\n",
        "  y2 = T02[1, 3]\n",
        "\n",
        "  # Obtener las coordenadas del codo\n",
        "  x1 = T01[0, 3]\n",
        "  y1 = T01[1, 3]\n",
        "\n",
        "  # Graficar el robot\n",
        "  plt.figure(figsize=(4, 4))\n",
        "  plt.plot([0, x1, x2], [0, y1, y2], 'o-', color='purple', linewidth=2)\n",
        "  plt.plot(0,0, x1, y1, marker='o', color='y', markersize=5)\n",
        "  plt.xlabel('X')\n",
        "  plt.ylabel('Y')\n",
        "  plt.title('Robot de 2 grados de libertad RR')\n",
        "  plt.xlim([-15, 15])\n",
        "  plt.ylim([-15, 15])\n",
        "  plt.grid(True)\n",
        "  plt.show()"
      ],
      "metadata": {
        "colab": {
          "base_uri": "https://localhost:8080/",
          "height": 538,
          "referenced_widgets": [
            "01bf710fc1de45b790c217e18030e512",
            "3c455e250b9c408ab1c5a664a73f876d",
            "cf90effb52754e36a73e5e9a798800ea",
            "ad0de3b9d6b945ebaa7c40d16caad612",
            "82c4ab0fd8c7485893ac0c95fa57b5b9",
            "2a9c746d6fa44fbe9fdc7057ca462088",
            "146d5172d1d74c079e001eccfaa13c7f",
            "6a344405602b4d5d98b3ca12ff68ff39",
            "86ba432fade04bd9a46bec57fbb91502",
            "24bd5a18817849cab6f5251f98159bef",
            "f5926a4aa2f34bddbeb97c6248816d19",
            "f1ddfc3a3e524343915cdd490265b6d1",
            "4690894221294744b8eb6430bf10adb5",
            "d35e5509059c4fe7930e972e7c9a624c",
            "5b79a7fb2d7d41cf9bbe49bade046fa9",
            "d2b31103aec9499eb167b3837d07de8b"
          ]
        },
        "id": "uHYhaOl0Aa7p",
        "outputId": "79c9507b-5023-4215-92cf-471f89bfce31"
      },
      "execution_count": null,
      "outputs": [
        {
          "output_type": "display_data",
          "data": {
            "text/plain": [
              "interactive(children=(IntSlider(value=0, description='q1', max=180, min=-180), IntSlider(value=0, description=…"
            ],
            "application/vnd.jupyter.widget-view+json": {
              "version_major": 2,
              "version_minor": 0,
              "model_id": "01bf710fc1de45b790c217e18030e512"
            }
          },
          "metadata": {}
        }
      ]
    }
  ]
}