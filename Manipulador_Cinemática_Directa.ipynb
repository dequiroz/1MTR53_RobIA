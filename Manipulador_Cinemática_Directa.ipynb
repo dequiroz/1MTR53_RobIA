{
  "nbformat": 4,
  "nbformat_minor": 0,
  "metadata": {
    "colab": {
      "provenance": []
    },
    "kernelspec": {
      "name": "python3",
      "display_name": "Python 3"
    },
    "language_info": {
      "name": "python"
    },
    "widgets": {
      "application/vnd.jupyter.widget-state+json": {
        "4305420cdaf144348215a50041f7da10": {
          "model_module": "@jupyter-widgets/controls",
          "model_name": "VBoxModel",
          "model_module_version": "1.5.0",
          "state": {
            "_dom_classes": [
              "widget-interact"
            ],
            "_model_module": "@jupyter-widgets/controls",
            "_model_module_version": "1.5.0",
            "_model_name": "VBoxModel",
            "_view_count": null,
            "_view_module": "@jupyter-widgets/controls",
            "_view_module_version": "1.5.0",
            "_view_name": "VBoxView",
            "box_style": "",
            "children": [
              "IPY_MODEL_b7bbee56dc2043ff9768edde14a5460d",
              "IPY_MODEL_af64101f44c64853b2bffbe0719bf2bb",
              "IPY_MODEL_321adfffac5e49dc97b4409cbd509909",
              "IPY_MODEL_fd2dddacd05a4acdbade513e235d5035",
              "IPY_MODEL_f5136dded66b44f7b8388f228dc7479e"
            ],
            "layout": "IPY_MODEL_601967776cac4a9686f4dcbe7d6dd940"
          }
        },
        "b7bbee56dc2043ff9768edde14a5460d": {
          "model_module": "@jupyter-widgets/controls",
          "model_name": "IntSliderModel",
          "model_module_version": "1.5.0",
          "state": {
            "_dom_classes": [],
            "_model_module": "@jupyter-widgets/controls",
            "_model_module_version": "1.5.0",
            "_model_name": "IntSliderModel",
            "_view_count": null,
            "_view_module": "@jupyter-widgets/controls",
            "_view_module_version": "1.5.0",
            "_view_name": "IntSliderView",
            "continuous_update": true,
            "description": "q1",
            "description_tooltip": null,
            "disabled": false,
            "layout": "IPY_MODEL_24b3e0c1d7de402e8450ead0f8aa9924",
            "max": 360,
            "min": 0,
            "orientation": "horizontal",
            "readout": true,
            "readout_format": "d",
            "step": 1,
            "style": "IPY_MODEL_1204b2fbdd3c428b8d86b49e44e9e1b9",
            "value": 0
          }
        },
        "af64101f44c64853b2bffbe0719bf2bb": {
          "model_module": "@jupyter-widgets/controls",
          "model_name": "IntSliderModel",
          "model_module_version": "1.5.0",
          "state": {
            "_dom_classes": [],
            "_model_module": "@jupyter-widgets/controls",
            "_model_module_version": "1.5.0",
            "_model_name": "IntSliderModel",
            "_view_count": null,
            "_view_module": "@jupyter-widgets/controls",
            "_view_module_version": "1.5.0",
            "_view_name": "IntSliderView",
            "continuous_update": true,
            "description": "q2",
            "description_tooltip": null,
            "disabled": false,
            "layout": "IPY_MODEL_b1011b13837e4f18bfeb048df627516b",
            "max": 360,
            "min": 0,
            "orientation": "horizontal",
            "readout": true,
            "readout_format": "d",
            "step": 1,
            "style": "IPY_MODEL_39a7da29c73d47728f2b04f704a292db",
            "value": 0
          }
        },
        "321adfffac5e49dc97b4409cbd509909": {
          "model_module": "@jupyter-widgets/controls",
          "model_name": "IntSliderModel",
          "model_module_version": "1.5.0",
          "state": {
            "_dom_classes": [],
            "_model_module": "@jupyter-widgets/controls",
            "_model_module_version": "1.5.0",
            "_model_name": "IntSliderModel",
            "_view_count": null,
            "_view_module": "@jupyter-widgets/controls",
            "_view_module_version": "1.5.0",
            "_view_name": "IntSliderView",
            "continuous_update": true,
            "description": "l1",
            "description_tooltip": null,
            "disabled": false,
            "layout": "IPY_MODEL_0015c8adb9804f3a907c1682891ff2ef",
            "max": 10,
            "min": 0,
            "orientation": "horizontal",
            "readout": true,
            "readout_format": "d",
            "step": 1,
            "style": "IPY_MODEL_a744fd7edf3d466f9956045b95bd415b",
            "value": 3
          }
        },
        "fd2dddacd05a4acdbade513e235d5035": {
          "model_module": "@jupyter-widgets/controls",
          "model_name": "IntSliderModel",
          "model_module_version": "1.5.0",
          "state": {
            "_dom_classes": [],
            "_model_module": "@jupyter-widgets/controls",
            "_model_module_version": "1.5.0",
            "_model_name": "IntSliderModel",
            "_view_count": null,
            "_view_module": "@jupyter-widgets/controls",
            "_view_module_version": "1.5.0",
            "_view_name": "IntSliderView",
            "continuous_update": true,
            "description": "l2",
            "description_tooltip": null,
            "disabled": false,
            "layout": "IPY_MODEL_0f7c6548e6c74063a3b79c9fa098cb07",
            "max": 10,
            "min": 0,
            "orientation": "horizontal",
            "readout": true,
            "readout_format": "d",
            "step": 1,
            "style": "IPY_MODEL_dc4a5990b7fd48dc994cc9eea1e1911d",
            "value": 3
          }
        },
        "f5136dded66b44f7b8388f228dc7479e": {
          "model_module": "@jupyter-widgets/output",
          "model_name": "OutputModel",
          "model_module_version": "1.0.0",
          "state": {
            "_dom_classes": [],
            "_model_module": "@jupyter-widgets/output",
            "_model_module_version": "1.0.0",
            "_model_name": "OutputModel",
            "_view_count": null,
            "_view_module": "@jupyter-widgets/output",
            "_view_module_version": "1.0.0",
            "_view_name": "OutputView",
            "layout": "IPY_MODEL_fe7e4ef67a574bedb41fab682c501767",
            "msg_id": "",
            "outputs": [
              {
                "output_type": "stream",
                "name": "stdout",
                "text": [
                  "[[1. 0. 0. 6.]\n",
                  " [0. 1. 0. 0.]\n",
                  " [0. 0. 1. 0.]\n",
                  " [0. 0. 0. 1.]]\n"
                ]
              }
            ]
          }
        },
        "601967776cac4a9686f4dcbe7d6dd940": {
          "model_module": "@jupyter-widgets/base",
          "model_name": "LayoutModel",
          "model_module_version": "1.2.0",
          "state": {
            "_model_module": "@jupyter-widgets/base",
            "_model_module_version": "1.2.0",
            "_model_name": "LayoutModel",
            "_view_count": null,
            "_view_module": "@jupyter-widgets/base",
            "_view_module_version": "1.2.0",
            "_view_name": "LayoutView",
            "align_content": null,
            "align_items": null,
            "align_self": null,
            "border": null,
            "bottom": null,
            "display": null,
            "flex": null,
            "flex_flow": null,
            "grid_area": null,
            "grid_auto_columns": null,
            "grid_auto_flow": null,
            "grid_auto_rows": null,
            "grid_column": null,
            "grid_gap": null,
            "grid_row": null,
            "grid_template_areas": null,
            "grid_template_columns": null,
            "grid_template_rows": null,
            "height": null,
            "justify_content": null,
            "justify_items": null,
            "left": null,
            "margin": null,
            "max_height": null,
            "max_width": null,
            "min_height": null,
            "min_width": null,
            "object_fit": null,
            "object_position": null,
            "order": null,
            "overflow": null,
            "overflow_x": null,
            "overflow_y": null,
            "padding": null,
            "right": null,
            "top": null,
            "visibility": null,
            "width": null
          }
        },
        "24b3e0c1d7de402e8450ead0f8aa9924": {
          "model_module": "@jupyter-widgets/base",
          "model_name": "LayoutModel",
          "model_module_version": "1.2.0",
          "state": {
            "_model_module": "@jupyter-widgets/base",
            "_model_module_version": "1.2.0",
            "_model_name": "LayoutModel",
            "_view_count": null,
            "_view_module": "@jupyter-widgets/base",
            "_view_module_version": "1.2.0",
            "_view_name": "LayoutView",
            "align_content": null,
            "align_items": null,
            "align_self": null,
            "border": null,
            "bottom": null,
            "display": null,
            "flex": null,
            "flex_flow": null,
            "grid_area": null,
            "grid_auto_columns": null,
            "grid_auto_flow": null,
            "grid_auto_rows": null,
            "grid_column": null,
            "grid_gap": null,
            "grid_row": null,
            "grid_template_areas": null,
            "grid_template_columns": null,
            "grid_template_rows": null,
            "height": null,
            "justify_content": null,
            "justify_items": null,
            "left": null,
            "margin": null,
            "max_height": null,
            "max_width": null,
            "min_height": null,
            "min_width": null,
            "object_fit": null,
            "object_position": null,
            "order": null,
            "overflow": null,
            "overflow_x": null,
            "overflow_y": null,
            "padding": null,
            "right": null,
            "top": null,
            "visibility": null,
            "width": null
          }
        },
        "1204b2fbdd3c428b8d86b49e44e9e1b9": {
          "model_module": "@jupyter-widgets/controls",
          "model_name": "SliderStyleModel",
          "model_module_version": "1.5.0",
          "state": {
            "_model_module": "@jupyter-widgets/controls",
            "_model_module_version": "1.5.0",
            "_model_name": "SliderStyleModel",
            "_view_count": null,
            "_view_module": "@jupyter-widgets/base",
            "_view_module_version": "1.2.0",
            "_view_name": "StyleView",
            "description_width": "",
            "handle_color": null
          }
        },
        "b1011b13837e4f18bfeb048df627516b": {
          "model_module": "@jupyter-widgets/base",
          "model_name": "LayoutModel",
          "model_module_version": "1.2.0",
          "state": {
            "_model_module": "@jupyter-widgets/base",
            "_model_module_version": "1.2.0",
            "_model_name": "LayoutModel",
            "_view_count": null,
            "_view_module": "@jupyter-widgets/base",
            "_view_module_version": "1.2.0",
            "_view_name": "LayoutView",
            "align_content": null,
            "align_items": null,
            "align_self": null,
            "border": null,
            "bottom": null,
            "display": null,
            "flex": null,
            "flex_flow": null,
            "grid_area": null,
            "grid_auto_columns": null,
            "grid_auto_flow": null,
            "grid_auto_rows": null,
            "grid_column": null,
            "grid_gap": null,
            "grid_row": null,
            "grid_template_areas": null,
            "grid_template_columns": null,
            "grid_template_rows": null,
            "height": null,
            "justify_content": null,
            "justify_items": null,
            "left": null,
            "margin": null,
            "max_height": null,
            "max_width": null,
            "min_height": null,
            "min_width": null,
            "object_fit": null,
            "object_position": null,
            "order": null,
            "overflow": null,
            "overflow_x": null,
            "overflow_y": null,
            "padding": null,
            "right": null,
            "top": null,
            "visibility": null,
            "width": null
          }
        },
        "39a7da29c73d47728f2b04f704a292db": {
          "model_module": "@jupyter-widgets/controls",
          "model_name": "SliderStyleModel",
          "model_module_version": "1.5.0",
          "state": {
            "_model_module": "@jupyter-widgets/controls",
            "_model_module_version": "1.5.0",
            "_model_name": "SliderStyleModel",
            "_view_count": null,
            "_view_module": "@jupyter-widgets/base",
            "_view_module_version": "1.2.0",
            "_view_name": "StyleView",
            "description_width": "",
            "handle_color": null
          }
        },
        "0015c8adb9804f3a907c1682891ff2ef": {
          "model_module": "@jupyter-widgets/base",
          "model_name": "LayoutModel",
          "model_module_version": "1.2.0",
          "state": {
            "_model_module": "@jupyter-widgets/base",
            "_model_module_version": "1.2.0",
            "_model_name": "LayoutModel",
            "_view_count": null,
            "_view_module": "@jupyter-widgets/base",
            "_view_module_version": "1.2.0",
            "_view_name": "LayoutView",
            "align_content": null,
            "align_items": null,
            "align_self": null,
            "border": null,
            "bottom": null,
            "display": null,
            "flex": null,
            "flex_flow": null,
            "grid_area": null,
            "grid_auto_columns": null,
            "grid_auto_flow": null,
            "grid_auto_rows": null,
            "grid_column": null,
            "grid_gap": null,
            "grid_row": null,
            "grid_template_areas": null,
            "grid_template_columns": null,
            "grid_template_rows": null,
            "height": null,
            "justify_content": null,
            "justify_items": null,
            "left": null,
            "margin": null,
            "max_height": null,
            "max_width": null,
            "min_height": null,
            "min_width": null,
            "object_fit": null,
            "object_position": null,
            "order": null,
            "overflow": null,
            "overflow_x": null,
            "overflow_y": null,
            "padding": null,
            "right": null,
            "top": null,
            "visibility": null,
            "width": null
          }
        },
        "a744fd7edf3d466f9956045b95bd415b": {
          "model_module": "@jupyter-widgets/controls",
          "model_name": "SliderStyleModel",
          "model_module_version": "1.5.0",
          "state": {
            "_model_module": "@jupyter-widgets/controls",
            "_model_module_version": "1.5.0",
            "_model_name": "SliderStyleModel",
            "_view_count": null,
            "_view_module": "@jupyter-widgets/base",
            "_view_module_version": "1.2.0",
            "_view_name": "StyleView",
            "description_width": "",
            "handle_color": null
          }
        },
        "0f7c6548e6c74063a3b79c9fa098cb07": {
          "model_module": "@jupyter-widgets/base",
          "model_name": "LayoutModel",
          "model_module_version": "1.2.0",
          "state": {
            "_model_module": "@jupyter-widgets/base",
            "_model_module_version": "1.2.0",
            "_model_name": "LayoutModel",
            "_view_count": null,
            "_view_module": "@jupyter-widgets/base",
            "_view_module_version": "1.2.0",
            "_view_name": "LayoutView",
            "align_content": null,
            "align_items": null,
            "align_self": null,
            "border": null,
            "bottom": null,
            "display": null,
            "flex": null,
            "flex_flow": null,
            "grid_area": null,
            "grid_auto_columns": null,
            "grid_auto_flow": null,
            "grid_auto_rows": null,
            "grid_column": null,
            "grid_gap": null,
            "grid_row": null,
            "grid_template_areas": null,
            "grid_template_columns": null,
            "grid_template_rows": null,
            "height": null,
            "justify_content": null,
            "justify_items": null,
            "left": null,
            "margin": null,
            "max_height": null,
            "max_width": null,
            "min_height": null,
            "min_width": null,
            "object_fit": null,
            "object_position": null,
            "order": null,
            "overflow": null,
            "overflow_x": null,
            "overflow_y": null,
            "padding": null,
            "right": null,
            "top": null,
            "visibility": null,
            "width": null
          }
        },
        "dc4a5990b7fd48dc994cc9eea1e1911d": {
          "model_module": "@jupyter-widgets/controls",
          "model_name": "SliderStyleModel",
          "model_module_version": "1.5.0",
          "state": {
            "_model_module": "@jupyter-widgets/controls",
            "_model_module_version": "1.5.0",
            "_model_name": "SliderStyleModel",
            "_view_count": null,
            "_view_module": "@jupyter-widgets/base",
            "_view_module_version": "1.2.0",
            "_view_name": "StyleView",
            "description_width": "",
            "handle_color": null
          }
        },
        "fe7e4ef67a574bedb41fab682c501767": {
          "model_module": "@jupyter-widgets/base",
          "model_name": "LayoutModel",
          "model_module_version": "1.2.0",
          "state": {
            "_model_module": "@jupyter-widgets/base",
            "_model_module_version": "1.2.0",
            "_model_name": "LayoutModel",
            "_view_count": null,
            "_view_module": "@jupyter-widgets/base",
            "_view_module_version": "1.2.0",
            "_view_name": "LayoutView",
            "align_content": null,
            "align_items": null,
            "align_self": null,
            "border": null,
            "bottom": null,
            "display": null,
            "flex": null,
            "flex_flow": null,
            "grid_area": null,
            "grid_auto_columns": null,
            "grid_auto_flow": null,
            "grid_auto_rows": null,
            "grid_column": null,
            "grid_gap": null,
            "grid_row": null,
            "grid_template_areas": null,
            "grid_template_columns": null,
            "grid_template_rows": null,
            "height": null,
            "justify_content": null,
            "justify_items": null,
            "left": null,
            "margin": null,
            "max_height": null,
            "max_width": null,
            "min_height": null,
            "min_width": null,
            "object_fit": null,
            "object_position": null,
            "order": null,
            "overflow": null,
            "overflow_x": null,
            "overflow_y": null,
            "padding": null,
            "right": null,
            "top": null,
            "visibility": null,
            "width": null
          }
        }
      }
    }
  },
  "cells": [
    {
      "cell_type": "markdown",
      "source": [
        "#Manipulador de 2 grados rotacionales RR\n",
        "\n",
        "Recordar el manipulador descrito\n",
        "\n",
        "![image.png](data:image/png;base64,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)"
      ],
      "metadata": {
        "id": "1CwxUQfCKqbe"
      }
    },
    {
      "cell_type": "markdown",
      "source": [
        "La coordenadas del efector final se pueden determinar empleando geometría y están descrita por las ecuaciones\n",
        "\n",
        "$\\left [  \\begin{matrix}\n",
        " x_2 \\\\ y_2\n",
        "\\end{matrix} \\right ]=\n",
        "\\left [ \\begin{matrix}\n",
        "l_1 cos(\\theta_1)+l_2 cos(\\theta_1+\\theta_2) \\\\ l_1 sin(\\theta_1) + l_2 sin(\\theta_1 + \\theta_2)\n",
        "\\end{matrix}\n",
        "\\right ]$\n",
        "\n",
        "Observar que estas ecuaciones describen un proceso de traslación en los ejes $X$ y $Y$ respectivamente. De forma adicional, el sistema de referencia del efector final presenta una rotación en el eje $Z$ con valor de $\\theta_1 + \\theta_2$\n",
        "\n",
        "El proceso completo de cinemática directa se puede realizar empleando ecuaciones de transformación homogenea como se muestra a continuación"
      ],
      "metadata": {
        "id": "HYSng5CYK-Dw"
      }
    },
    {
      "cell_type": "markdown",
      "source": [
        "##1. Análisis simbólico\n",
        "\n",
        "Para esté análisis se emplea la librería [sympy](https://www.sympy.org/en/index.html), la cual nos permitirá determinar las matrices de transformación homogeneas para cada eslabon así como su producto."
      ],
      "metadata": {
        "id": "711dvvl3vzoB"
      }
    },
    {
      "cell_type": "code",
      "execution_count": 1,
      "metadata": {
        "id": "8Rdld6tNGWDB"
      },
      "outputs": [],
      "source": [
        "import sympy as sp     # Se importa la biblioteca para el cálculo simbólico"
      ]
    },
    {
      "cell_type": "code",
      "source": [
        "# =============================================================================\n",
        "# Se definen funciones para representar transformaciones de traslación pura y\n",
        "# rotación pura al rededor del eje Z\n",
        "# =============================================================================\n",
        "def transformacion_traslacion(x: sp.symbols, y: sp.symbols, z: sp.symbols) -> sp.Matrix:\n",
        "    \"\"\"\n",
        "    Retorna una representación simbólica de la transformación homogénea\n",
        "    de traslación pura\n",
        "\n",
        "    Parametros (sp.symbols):\n",
        "      x: translación en la dirección x\n",
        "      y: translación en la dirección y\n",
        "      z: translación en la dirección z\n",
        "    \"\"\"\n",
        "    T = sp.Matrix([[1,0,0,x],\n",
        "                   [0,1,0,y],\n",
        "                   [0,0,1,z],\n",
        "                   [0,0,0,1]])\n",
        "    return T\n",
        "\n",
        "def transformacion_rotacion_z(ang: sp.symbols) -> sp.Matrix:\n",
        "    \"\"\"\n",
        "    Retorna una representación simbólica de la transformación homogénea\n",
        "    de rotación pura alrededor de z\n",
        "\n",
        "    Parametros (sp.symbols):\n",
        "      ang: ángulo de rotación alrededor del eje z\n",
        "    \"\"\"\n",
        "    T = sp.Matrix([[sp.cos(ang),-sp.sin(ang),0,0],\n",
        "                   [sp.sin(ang), sp.cos(ang),0,0],\n",
        "                   [0,0,1,0],\n",
        "                   [0,0,0,1]])\n",
        "    return T\n"
      ],
      "metadata": {
        "id": "6TDn0UuzGxJq"
      },
      "execution_count": 8,
      "outputs": []
    },
    {
      "cell_type": "code",
      "source": [
        "# Definición de variables representativas de la geometría del manipulador\n",
        "q1, q2, l1, l2 = sp.symbols(\"q1 q2 l1 l2\")\n",
        "\n",
        "# Se definen las matrices de transformacion homogenea correspondientes empleando\n",
        "# la notación:\n",
        "#    Tab: Transformación del sistema 'b' con respecto al sistema 'a'\n",
        "\n",
        "# Se definen la transformación del sistema 1 (codo) respecto al sistema 0 (base del robot)\n",
        "T01 = transformacion_rotacion_z(q1)*transformacion_traslacion(l1,0,0)\n",
        "# Se definen la transformación del sistema 2 (efector final) respecto al sistema 1 (codo)\n",
        "T12 = transformacion_rotacion_z(q2)*transformacion_traslacion(l2,0,0)\n",
        "# Se definen la transformación del sistema 2 (efector final) respecto al sistema 0 (base del robot)\n",
        "T02 = sp.simplify(T01*T12)\n",
        "\n",
        "# Mostrar las transformaciones homogéneas (display funciona con IPython)\n",
        "print(\"T01:\"); display(T01)\n",
        "print(\"T12:\"); display(T12)\n",
        "print(\"T02:\"); display(T02)"
      ],
      "metadata": {
        "id": "jdeMy5pWHE5G",
        "colab": {
          "base_uri": "https://localhost:8080/",
          "height": 313
        },
        "outputId": "b36b930f-a227-4020-f454-6baddc915d8c"
      },
      "execution_count": 14,
      "outputs": [
        {
          "output_type": "stream",
          "name": "stdout",
          "text": [
            "T01:\n"
          ]
        },
        {
          "output_type": "display_data",
          "data": {
            "text/plain": [
              "Matrix([\n",
              "[cos(q1), -sin(q1), 0, l1*cos(q1)],\n",
              "[sin(q1),  cos(q1), 0, l1*sin(q1)],\n",
              "[      0,        0, 1,          0],\n",
              "[      0,        0, 0,          1]])"
            ],
            "text/latex": "$\\displaystyle \\left[\\begin{matrix}\\cos{\\left(q_{1} \\right)} & - \\sin{\\left(q_{1} \\right)} & 0 & l_{1} \\cos{\\left(q_{1} \\right)}\\\\\\sin{\\left(q_{1} \\right)} & \\cos{\\left(q_{1} \\right)} & 0 & l_{1} \\sin{\\left(q_{1} \\right)}\\\\0 & 0 & 1 & 0\\\\0 & 0 & 0 & 1\\end{matrix}\\right]$"
          },
          "metadata": {}
        },
        {
          "output_type": "stream",
          "name": "stdout",
          "text": [
            "T12:\n"
          ]
        },
        {
          "output_type": "display_data",
          "data": {
            "text/plain": [
              "Matrix([\n",
              "[cos(q2), -sin(q2), 0, l2*cos(q2)],\n",
              "[sin(q2),  cos(q2), 0, l2*sin(q2)],\n",
              "[      0,        0, 1,          0],\n",
              "[      0,        0, 0,          1]])"
            ],
            "text/latex": "$\\displaystyle \\left[\\begin{matrix}\\cos{\\left(q_{2} \\right)} & - \\sin{\\left(q_{2} \\right)} & 0 & l_{2} \\cos{\\left(q_{2} \\right)}\\\\\\sin{\\left(q_{2} \\right)} & \\cos{\\left(q_{2} \\right)} & 0 & l_{2} \\sin{\\left(q_{2} \\right)}\\\\0 & 0 & 1 & 0\\\\0 & 0 & 0 & 1\\end{matrix}\\right]$"
          },
          "metadata": {}
        },
        {
          "output_type": "stream",
          "name": "stdout",
          "text": [
            "T02:\n"
          ]
        },
        {
          "output_type": "display_data",
          "data": {
            "text/plain": [
              "Matrix([\n",
              "[cos(q1 + q2), -sin(q1 + q2), 0, l1*cos(q1) + l2*cos(q1 + q2)],\n",
              "[sin(q1 + q2),  cos(q1 + q2), 0, l1*sin(q1) + l2*sin(q1 + q2)],\n",
              "[           0,             0, 1,                            0],\n",
              "[           0,             0, 0,                            1]])"
            ],
            "text/latex": "$\\displaystyle \\left[\\begin{matrix}\\cos{\\left(q_{1} + q_{2} \\right)} & - \\sin{\\left(q_{1} + q_{2} \\right)} & 0 & l_{1} \\cos{\\left(q_{1} \\right)} + l_{2} \\cos{\\left(q_{1} + q_{2} \\right)}\\\\\\sin{\\left(q_{1} + q_{2} \\right)} & \\cos{\\left(q_{1} + q_{2} \\right)} & 0 & l_{1} \\sin{\\left(q_{1} \\right)} + l_{2} \\sin{\\left(q_{1} + q_{2} \\right)}\\\\0 & 0 & 1 & 0\\\\0 & 0 & 0 & 1\\end{matrix}\\right]$"
          },
          "metadata": {}
        }
      ]
    },
    {
      "cell_type": "markdown",
      "source": [
        "Analizando la forma de la matriz $^0T_ 2$ se puede claramente observar:\n",
        "* Traslación en los ejes $X$ y $Y$\n",
        "* Rotación en el eje $Z$ con valor de $\\theta_1 + \\theta_2$"
      ],
      "metadata": {
        "id": "qwFG0y3I0h69"
      }
    },
    {
      "cell_type": "markdown",
      "source": [
        "## Cálculo numérico\n",
        "\n",
        "El mismo procedimiento se puede realizar de forma numérica empleando numpy para el manejo de matrices y vectores en python"
      ],
      "metadata": {
        "id": "wNAFR6Re1VeF"
      }
    },
    {
      "cell_type": "code",
      "source": [
        "import numpy as np"
      ],
      "metadata": {
        "id": "geVv68gN19pg"
      },
      "execution_count": 15,
      "outputs": []
    },
    {
      "cell_type": "code",
      "source": [
        "# =============================================================================\n",
        "# Se definen funciones para calcular las matrices de transformacio de traslación\n",
        "# pura y rotación pura al rededor del eje Z\n",
        "# =============================================================================\n",
        "def transformacion_traslacion_num(x: float, y: float, z: float) -> np.ndarray:\n",
        "    \"\"\"\n",
        "    Retorna una representación numérica de la transformación homogénea\n",
        "    de traslación pura\n",
        "\n",
        "    Parametros (float):\n",
        "      x: translación en la dirección x\n",
        "      y: translación en la dirección y\n",
        "      z: translación en la dirección z\n",
        "    \"\"\"\n",
        "    T = np.array([[1, 0, 0, x],\n",
        "                  [0, 1, 0, y],\n",
        "                  [0, 0, 1, z],\n",
        "                  [0, 0, 0, 1]])\n",
        "    return T\n",
        "\n",
        "def transformacion_rotacion_z_num(ang: float) -> np.ndarray:\n",
        "    \"\"\"\n",
        "    Retorna una representación numérica de la transformación homogénea\n",
        "    de rotación pura alrededor de z\n",
        "\n",
        "    Parametros (float):\n",
        "      ang: ángulo de rotación alrededor del eje z\n",
        "    \"\"\"\n",
        "    T = np.array([[np.cos(ang), -np.sin(ang), 0, 0],\n",
        "                  [np.sin(ang), np.cos(ang), 0, 0],\n",
        "                  [0, 0, 1, 0],\n",
        "                  [0, 0, 0, 1]])\n",
        "    return T\n"
      ],
      "metadata": {
        "id": "PBTNuEBN2BBl"
      },
      "execution_count": 29,
      "outputs": []
    },
    {
      "cell_type": "code",
      "source": [
        "# =============================================================================\n",
        "# Se define la función para calcular la cinemática directa del manipulador de\n",
        "# 2 grados de libertad RR\n",
        "# =============================================================================\n",
        "def cinematica_directa_robot2D(q1: float, q2: float, l1: float, l2: float):\n",
        "  \"\"\"\n",
        "  Calcula la cinemática directa del robot 2D\n",
        "\n",
        "  Parámetros (float):\n",
        "      q1: Ángulo de la articulación 1 en radianes.\n",
        "      q2: Ángulo de la articulación 2 en radianes.\n",
        "      l1: Longitud del eslabón 1.\n",
        "      l2: Longitud del eslabón 2.\n",
        "\n",
        "  Retorna:\n",
        "      Una tupla de matriz 4x4 que representan las transformaciones homogénea de\n",
        "      cada eslabon con respecto a la base del robot.\n",
        "  \"\"\"\n",
        "  T01 = transformacion_rotacion_z_num(q1) @ transformacion_traslacion_num(l1, 0, 0)\n",
        "  T12 = transformacion_rotacion_z_num(q2) @ transformacion_traslacion_num(l2, 0, 0)\n",
        "  T02 = T01 @ T12\n",
        "  return T01, T02\n"
      ],
      "metadata": {
        "id": "QctClpGm2ooM"
      },
      "execution_count": 30,
      "outputs": []
    },
    {
      "cell_type": "code",
      "source": [
        "from ipywidgets import interact\n",
        "\n",
        "# Ejemplo de cálculo de la cinemática directa\n",
        "@interact(q1=(0, 360, 1), q2=(0, 360, 1), l1=(0, 10, 1), l2=(0, 10, 1))\n",
        "def cinematica_directa_interactivo(q1, q2, l1, l2):\n",
        "  # Aplicación de cinemática directa numérica\n",
        "  T01, T02 = cinematica_directa_robot2D(np.deg2rad(q1), np.deg2rad(q2), l1, l2)\n",
        "\n",
        "  # Mostrar el resultado\n",
        "  print(np.round(T02,3))"
      ],
      "metadata": {
        "colab": {
          "base_uri": "https://localhost:8080/",
          "height": 214,
          "referenced_widgets": [
            "4305420cdaf144348215a50041f7da10",
            "b7bbee56dc2043ff9768edde14a5460d",
            "af64101f44c64853b2bffbe0719bf2bb",
            "321adfffac5e49dc97b4409cbd509909",
            "fd2dddacd05a4acdbade513e235d5035",
            "f5136dded66b44f7b8388f228dc7479e",
            "601967776cac4a9686f4dcbe7d6dd940",
            "24b3e0c1d7de402e8450ead0f8aa9924",
            "1204b2fbdd3c428b8d86b49e44e9e1b9",
            "b1011b13837e4f18bfeb048df627516b",
            "39a7da29c73d47728f2b04f704a292db",
            "0015c8adb9804f3a907c1682891ff2ef",
            "a744fd7edf3d466f9956045b95bd415b",
            "0f7c6548e6c74063a3b79c9fa098cb07",
            "dc4a5990b7fd48dc994cc9eea1e1911d",
            "fe7e4ef67a574bedb41fab682c501767"
          ]
        },
        "id": "EIUJWUEC3oCD",
        "outputId": "f2e58671-9a2c-46ce-861c-da96ca42a34e"
      },
      "execution_count": 39,
      "outputs": [
        {
          "output_type": "display_data",
          "data": {
            "text/plain": [
              "interactive(children=(IntSlider(value=180, description='q1', max=360), IntSlider(value=180, description='q2', …"
            ],
            "application/vnd.jupyter.widget-view+json": {
              "version_major": 2,
              "version_minor": 0,
              "model_id": "4305420cdaf144348215a50041f7da10"
            }
          },
          "metadata": {}
        }
      ]
    },
    {
      "cell_type": "code",
      "source": [
        "!pip install visual_kinematics"
      ],
      "metadata": {
        "colab": {
          "base_uri": "https://localhost:8080/"
        },
        "id": "A-TRTI3CHSLy",
        "outputId": "eb35ff70-8c08-4695-ed89-5c473f865f6f"
      },
      "execution_count": null,
      "outputs": [
        {
          "output_type": "stream",
          "name": "stdout",
          "text": [
            "Collecting visual_kinematics\n",
            "  Downloading visual_kinematics-0.2.1-py3-none-any.whl.metadata (9.4 kB)\n",
            "Requirement already satisfied: numpy in /usr/local/lib/python3.10/dist-packages (from visual_kinematics) (1.26.4)\n",
            "Requirement already satisfied: scipy in /usr/local/lib/python3.10/dist-packages (from visual_kinematics) (1.13.1)\n",
            "Requirement already satisfied: matplotlib in /usr/local/lib/python3.10/dist-packages (from visual_kinematics) (3.7.1)\n",
            "Requirement already satisfied: contourpy>=1.0.1 in /usr/local/lib/python3.10/dist-packages (from matplotlib->visual_kinematics) (1.3.0)\n",
            "Requirement already satisfied: cycler>=0.10 in /usr/local/lib/python3.10/dist-packages (from matplotlib->visual_kinematics) (0.12.1)\n",
            "Requirement already satisfied: fonttools>=4.22.0 in /usr/local/lib/python3.10/dist-packages (from matplotlib->visual_kinematics) (4.54.1)\n",
            "Requirement already satisfied: kiwisolver>=1.0.1 in /usr/local/lib/python3.10/dist-packages (from matplotlib->visual_kinematics) (1.4.7)\n",
            "Requirement already satisfied: packaging>=20.0 in /usr/local/lib/python3.10/dist-packages (from matplotlib->visual_kinematics) (24.1)\n",
            "Requirement already satisfied: pillow>=6.2.0 in /usr/local/lib/python3.10/dist-packages (from matplotlib->visual_kinematics) (10.4.0)\n",
            "Requirement already satisfied: pyparsing>=2.3.1 in /usr/local/lib/python3.10/dist-packages (from matplotlib->visual_kinematics) (3.1.4)\n",
            "Requirement already satisfied: python-dateutil>=2.7 in /usr/local/lib/python3.10/dist-packages (from matplotlib->visual_kinematics) (2.8.2)\n",
            "Requirement already satisfied: six>=1.5 in /usr/local/lib/python3.10/dist-packages (from python-dateutil>=2.7->matplotlib->visual_kinematics) (1.16.0)\n",
            "Downloading visual_kinematics-0.2.1-py3-none-any.whl (13 kB)\n",
            "Installing collected packages: visual_kinematics\n",
            "Successfully installed visual_kinematics-0.2.1\n"
          ]
        }
      ]
    }
  ]
}