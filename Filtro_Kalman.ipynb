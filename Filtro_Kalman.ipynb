{
  "nbformat": 4,
  "nbformat_minor": 0,
  "metadata": {
    "colab": {
      "provenance": [],
      "toc_visible": true,
      "include_colab_link": true
    },
    "kernelspec": {
      "name": "python3",
      "display_name": "Python 3"
    },
    "language_info": {
      "name": "python"
    }
  },
  "cells": [
    {
      "cell_type": "markdown",
      "metadata": {
        "id": "view-in-github",
        "colab_type": "text"
      },
      "source": [
        "<a href=\"https://colab.research.google.com/github/dequiroz/1MTR53_RobIA/blob/main/Filtro_Kalman.ipynb\" target=\"_parent\"><img src=\"https://colab.research.google.com/assets/colab-badge.svg\" alt=\"Open In Colab\"/></a>"
      ]
    },
    {
      "cell_type": "markdown",
      "source": [
        "<img src=\"https://drive.google.com/uc?export=view&id=1FsTa2YzWwxY-HBkd2EOXAlkPJ1zpikWv\" alt=\"PUCP\" width=\"150\"/>\n",
        "\n",
        "\n",
        "<p align=\"center\">\n",
        "<img src=\"https://drive.google.com/uc?export=view&id=1VBn7nKlruxCPLHH_UuD8B2pkvKP7JLRd\" alt=\"Robótica e Inteligencia Artificial\" width=\"800\"/>\n",
        "\n",
        "</br>\n",
        "\n",
        "<img src=\"https://drive.google.com/uc?export=view&id=14u1cJklUZk2NKxCf2t7R-NO7E8BJaMXH\" alt=\"Unidad 3 - Navegación Autónoma\" width=\"800\"/>\n",
        "</p>\n",
        "\n",
        "#Filtro de Kalman\n",
        "* Diego Quiroz Velasquez\n",
        "* Pontificia Universidad Católica del Perú\n",
        "* Sección Ingeniería Mecatrónica\n",
        "\n",
        "---\n",
        "Este archivo describe el filtro de Kalman empleado para localización en robótica movil.\n",
        "\n",
        "<img src=\"https://drive.google.com/uc?export=view&id=1vgFoFHEKMN0WcAFlKS2hPMg2KuBm3sp9\" alt=\"drawing\"/>\n",
        "\n"
      ],
      "metadata": {
        "id": "c4kmmNlPTS2Y"
      }
    },
    {
      "cell_type": "markdown",
      "source": [
        "# Introducción a Gaussianas"
      ],
      "metadata": {
        "id": "JqPSUMULUhC8"
      }
    },
    {
      "cell_type": "code",
      "source": [
        "import numpy as np\n",
        "from math import pi\n",
        "import matplotlib.pyplot as plt\n",
        "\n",
        "def data_gaussian(x, mean, var):\n",
        "  return  ((2*pi*var)**-.5) * np.exp((-0.5*(np.asarray(x)-mean)**2.) / var)\n",
        "\n",
        "def plot_gaussian(mean, var, xs=None, show=True, ls='-'):\n",
        "  if show:\n",
        "    plt.figure(figsize=(9,4))\n",
        "  if xs is None:\n",
        "    xs = np.arange(5, 15, 0.1)\n",
        "\n",
        "  ys = [data_gaussian(x, mean, var) for x in xs]\n",
        "  plt.plot(xs, ys, ls=ls, label='$\\mathcal{N}$' + f'$({np.round(mean,2)},{np.round(var,2)})$')\n",
        "\n",
        "  if show:\n",
        "    plt.legend();\n",
        "    plt.show()\n",
        "\n",
        "plot_gaussian(10,1)"
      ],
      "metadata": {
        "id": "CHnJbxeO-h4J"
      },
      "execution_count": null,
      "outputs": []
    },
    {
      "cell_type": "markdown",
      "source": [
        "Para representar gaussianas en python de forma simple podemos usar la clase `namedtuple`, la cual nos permite crear tuplas y definir el nombre de sus elementos"
      ],
      "metadata": {
        "id": "UQLP7taq330Y"
      }
    },
    {
      "cell_type": "code",
      "source": [
        "from collections import namedtuple\n",
        "gaussian = namedtuple('Gaussian', ['promedio', 'varianza'])\n",
        "gaussian.__repr__ = lambda s: f'𝒩(μ={s[0]:.3f}, 𝜎²={s[1]:.3f})'"
      ],
      "metadata": {
        "id": "4PUfctEi37eI"
      },
      "execution_count": null,
      "outputs": []
    },
    {
      "cell_type": "markdown",
      "source": [
        "Ahora podemos crear e imprimir gaussianas empleando:"
      ],
      "metadata": {
        "id": "YtR3MP-24Ef4"
      }
    },
    {
      "cell_type": "code",
      "source": [
        "g1 = gaussian(1.5, 2.3)\n",
        "g2 = gaussian(promedio=32, varianza=0.5**2)\n",
        "print(g1)\n",
        "print(g2)"
      ],
      "metadata": {
        "id": "vQpio0yr4Izt"
      },
      "execution_count": null,
      "outputs": []
    },
    {
      "cell_type": "markdown",
      "source": [
        "Y podemos acceder al promedio y varianza con los indices o nombres respectivos"
      ],
      "metadata": {
        "id": "kmSJpoRq4Ywz"
      }
    },
    {
      "cell_type": "code",
      "source": [
        "g1.promedio, g1[0], g1[1], g1.varianza"
      ],
      "metadata": {
        "id": "4bj8mLL-4dtn"
      },
      "execution_count": null,
      "outputs": []
    },
    {
      "cell_type": "markdown",
      "source": [
        "## Predicción (movimiento) mediante el uso de gaussianas"
      ],
      "metadata": {
        "id": "UejuLcd5UoXk"
      }
    },
    {
      "cell_type": "markdown",
      "source": [
        "Sabemos que la suma de dos gaussianas está dada por\n",
        "\n",
        "$$\\begin{gathered}\n",
        "\\mu = \\mu_1 + \\mu_2 \\\\\n",
        "\\sigma^2 = \\sigma^2_1 + \\sigma^2_2\n",
        "\\end{gathered}$$\n",
        "\n",
        "para comprender este hecho podemos considerar un caso de un robot móvil con posición conocida $x$ que realiza un proceso se desplazamiento a velocidad constante $f_x$.\n",
        "\n",
        "Tanto la posición como la velocidad del robot presentan incertidumbres, por lo que podemos modelar su comportamiento empleando gaussianas. Si consideramos que el robot movil se encuenta a 5 m del origen con una incertidumbre de desviación standard 0.2 podemos expresar la  obtener posición como $x=\\mathcal N(5, 0.2^2)$\n",
        "\n",
        "Adicionalmente, podemos expresar una velocidad de desplazamiento de 0.5 m/s con una incertidumbre de 0.1 m/s como $f_x = \\mathcal N (0.5, 0.1^2) $\n",
        "\n",
        "Si sumamos estas representaciones gauseanas del movimiento del robot para representar la nueva posición del robot el siguiente valor $\\bar x$ con una nueva incertidumbre $\\bar\\sigma^2$:\n",
        "\n",
        "$$\\begin{aligned}\\bar x &= \\mu_x + \\mu_{f_x} = 5 + 0.5 &&= 5.5 \\\\\n",
        "\\bar\\sigma^2 &= \\sigma_x^2 + \\sigma_{f_x}^2 = 0.2^2 + 0.1^2 &&= 0.05 = 0.22^2\\end{aligned}$$\n",
        "\n",
        "Analizando este resultado, podemos observar que la variación en la posición tiene sentido - esta se expresa como la posición anterior más el movimiento realizado.\n",
        "Sin embargo, la varianza es más dificil de entender de forma intuitiva. Para ello debemos recordar que cuando hacemos una predicción luego a un movimiento perdemos información, lo cual se traduce a una disminución en nuestra confianza (aumento en la varianza). $\\sigma_{f_x}^2$ es la cantidad de incertidumbre agregada al sistema debido a la predicción imperfecta sobre el movimiento, por lo que agregaríamos eso a la incertidumbre existente.\n"
      ],
      "metadata": {
        "id": "BhmGbF5PVwDl"
      }
    },
    {
      "cell_type": "markdown",
      "source": [
        "Empleando nuestra definición de suma de varianzas podemos implementar una función de predicción que reciba una `posición` y `movimiento` en la forma ($\\mu$, $\\sigma^2$)"
      ],
      "metadata": {
        "id": "uvDJo2mT4j1g"
      }
    },
    {
      "cell_type": "code",
      "source": [
        "def predict(pos, movimiento):\n",
        "    return gaussian(pos.promedio + movimiento.promedio, pos.varianza + movimiento.varianza)"
      ],
      "metadata": {
        "id": "j1SAAQIS44g9"
      },
      "execution_count": null,
      "outputs": []
    },
    {
      "cell_type": "markdown",
      "source": [
        "Probamos la función con el ejemplo proporcionado"
      ],
      "metadata": {
        "id": "MgRSnH6L4-xC"
      }
    },
    {
      "cell_type": "code",
      "source": [
        "pos = gaussian(5,0.2**2)\n",
        "movimiento = gaussian(0.5,0.1**2)\n",
        "\n",
        "predict(pos, movimiento)"
      ],
      "metadata": {
        "id": "Schur-yC5CXv"
      },
      "execution_count": null,
      "outputs": []
    },
    {
      "cell_type": "markdown",
      "source": [
        "##Actualización (medición) mediante el uso de gaussianas"
      ],
      "metadata": {
        "id": "rrB541d-0llK"
      }
    },
    {
      "cell_type": "markdown",
      "source": [
        "Sabemos que la actualización de los estados la realizamos multiplicando la distribución de posición actual con la certeza que tenemos en la medición. Esta operación podemos realizarza mediante una multiplicación de gaussianas, la cual está dada por\n",
        "\n",
        "$$\\begin{aligned}\n",
        "\\mu &= \\frac{\\sigma_1^2 \\mu_2 + \\sigma_2^2 \\mu_1} {\\sigma_1^2 + \\sigma_2^2}, \\\\\n",
        "\\sigma^2 &= \\frac{\\sigma_1^2\\sigma_2^2}{\\sigma_1^2+\\sigma_2^2}\n",
        "\\end{aligned}$$\n",
        "\n",
        "Podemos observar que la media de dos productos de gaussianas es una suma podendara de las medias previas (conocimiento previo de la posición y la medición), donde las varianzas nos permiten determinar si confiamoz más en la medición (sensor preciso) o nuestra predicción (modelo preciso).\n",
        "Además podemos observar que la nueva varianza es independiente de las medias."
      ],
      "metadata": {
        "id": "BzPtJaz90xSo"
      }
    },
    {
      "cell_type": "markdown",
      "source": [
        "Esta operación la podemos expresar en una función que realiza la actualización"
      ],
      "metadata": {
        "id": "BScjpnxm2-N0"
      }
    },
    {
      "cell_type": "code",
      "execution_count": null,
      "metadata": {
        "id": "N0GEvIFnTODx"
      },
      "outputs": [],
      "source": [
        "def producto_gaussiana(g1, g2):\n",
        "    promedio = (g1.varianza * g2.promedio + g2.varianza * g1.promedio) / (g1.varianza + g2.varianza)\n",
        "    varianza = (g1.varianza * g2.varianza) / (g1.varianza + g2.varianza)\n",
        "    return gaussian(promedio, varianza)\n",
        "\n",
        "def update(prior, medicion):\n",
        "    posterior = producto_gaussiana(medicion, prior)\n",
        "    return posterior\n",
        "\n",
        "posicion_predecida = gaussian(10., .2**2)\n",
        "posicion_medida = gaussian(11., .1**2)\n",
        "posicion_estimada = update(posicion_predecida, posicion_medida)\n",
        "print(posicion_estimada)"
      ]
    },
    {
      "cell_type": "markdown",
      "source": [
        "## Ejemplos interactivo"
      ],
      "metadata": {
        "id": "N1MyJ9i0AK95"
      }
    },
    {
      "cell_type": "code",
      "source": [
        "# @title funciones auxiliares para graficar\n",
        "import matplotlib.pyplot as plt\n",
        "\n",
        "def plot_three_gaussians(g1, g2, result, xs=None):\n",
        "    plt.figure()\n",
        "    if xs is None:\n",
        "        xs = np.arange(5, 15, 0.1)\n",
        "\n",
        "    # el caracters * antes de una tupla o lista realiza un \"desenpaquetado\" (unpack)\n",
        "    # En otras palabras envía el contenido dato por dato. En este caso escribit\n",
        "    # *g1 equivale a g1.promedio, g1.varianza\n",
        "    plot_gaussian(*g1, xs=xs, show=False)\n",
        "    plot_gaussian(*g2, xs=xs, show=False)\n",
        "    plot_gaussian(*result, xs=xs, show=False, ls='--')\n",
        "\n",
        "    plt.legend();\n",
        "    plt.show()\n",
        "\n",
        "\n",
        "def plot_products(g1, g2):\n",
        "    producto = producto_gaussiana(g1, g2)\n",
        "    xs = np.arange(5, 15, 0.1)\n",
        "    plot_three_gaussians(g1, g2, producto, xs)\n",
        "\n",
        "def plot_sum(g1, g2):\n",
        "    suma = predict(g1, g2)\n",
        "    xs = np.arange(0, 10, 0.1)\n",
        "    plot_three_gaussians(g1, g2, suma, xs)"
      ],
      "metadata": {
        "cellView": "form",
        "id": "23NkhAxS60ty"
      },
      "execution_count": null,
      "outputs": []
    },
    {
      "cell_type": "code",
      "source": [
        "# @title Función interactiva de suma\n",
        "from ipywidgets import interact\n",
        "\n",
        "def suma_gaussiana_interactiva(m1, m2, v1, v2):\n",
        "    g1 = gaussian(m1, v1)\n",
        "    g2 = gaussian(m2, v2)\n",
        "    plot_sum(g1, g2)\n",
        "\n",
        "interact(suma_gaussiana_interactiva,\n",
        "         m1=(1., 4.5, .5), m2=(1., 5, .5),\n",
        "         v1=(.1, 2, .1), v2=(.1, 2, .1));"
      ],
      "metadata": {
        "id": "ogdib6fYAkH9"
      },
      "execution_count": null,
      "outputs": []
    },
    {
      "cell_type": "code",
      "source": [
        "# @title Función interactiva de producto\n",
        "from ipywidgets import interact\n",
        "\n",
        "def producto_gaussiana_interactiva(m1, m2, v1, v2):\n",
        "    g1 = gaussian(m1, v1)\n",
        "    g2 = gaussian(m2, v2)\n",
        "    plot_products(g1, g2)\n",
        "\n",
        "interact(producto_gaussiana_interactiva,\n",
        "         m1=(5, 10., .5), m2=(10, 15, .5),\n",
        "         v1=(.1, 2, .1), v2=(.1, 2, .1));"
      ],
      "metadata": {
        "id": "NPMYZw0o96os"
      },
      "execution_count": null,
      "outputs": []
    },
    {
      "cell_type": "markdown",
      "source": [
        "#Aplicación del Filtro de Kalman unidimensional"
      ],
      "metadata": {
        "id": "LDFWg25R92-q"
      }
    },
    {
      "cell_type": "markdown",
      "source": [
        "Previamente hemos definido las funciones de `predict()` y `update()` que nos va a permitir realizar el filtro de kalman empleando distribuciones gaussianas para la posición y movimiento de un robot movil.\n",
        "\n",
        "Para poder probar y demostrar su funcionamiento, vamos a definir una clase `Robot_Simulacion` que nos va a permitir representar un robot con desplazamiento y mediciones imprecisas"
      ],
      "metadata": {
        "id": "mLYiGXLfCgDt"
      }
    },
    {
      "cell_type": "code",
      "source": [
        "# @title class Robot_simulacion()\n",
        "from numpy.random import randn\n",
        "from math import sqrt\n",
        "\n",
        "class Robot_simulacion():\n",
        "  def __init__(self, x0=0., desplazamiento=1, varianza_medicion=0.0, varianza_proceso=0.0):\n",
        "    self.x = x0\n",
        "    self.desplazamiento = desplazamiento\n",
        "    self.medicion_std = sqrt(varianza_medicion)\n",
        "    self.proceso_std = sqrt(varianza_proceso)\n",
        "  def mover(self):\n",
        "    \"\"\"Retorna nueva posicion del robot en metros\"\"\"\n",
        "    dx = self.desplazamiento + randn()*self.proceso_std #se agrega ruido de proceso (desplazamiento)\n",
        "    self.x += dx\n",
        "  def medir_posicion(self):\n",
        "    \"\"\"Retorna medicion de la posicion actual del robot\"\"\"\n",
        "    medicion = self.x + randn()*self.medicion_std #Se agrega ruido de medicion\n",
        "    return medicion\n",
        "  def mover_y_sensar(self):\n",
        "    \"\"\"Mueve el robot y retorna una nueva medicion\"\"\"\n",
        "    self.mover()\n",
        "    return self.medir_posicion()\n",
        "\n",
        "robot = Robot_simulacion(varianza_medicion=0.3, varianza_proceso=0.1)\n",
        "robot.mover_y_sensar()"
      ],
      "metadata": {
        "id": "uQvI31wZGrb6"
      },
      "execution_count": null,
      "outputs": []
    },
    {
      "cell_type": "markdown",
      "source": [
        "Empleando esta clase podemos realizar una simulación en la cual el robot se desplaza 10 veces y se generan las mediciones que se realizan luego de cada iteración"
      ],
      "metadata": {
        "id": "B9knEoqTQtPj"
      }
    },
    {
      "cell_type": "code",
      "source": [
        "varianza_proceso = 1. # Varianza (incertidumbre) del movmiento del robot\n",
        "varianza_sensor = 2. # Varianza (incertidumbre) de la medición del sensor\n",
        "\n",
        "# Posición del robot. Sin conocimiento inicial N(0, 50**2)\n",
        "x = gaussian(0., 50.**2)\n",
        "velocidad = 1\n",
        "dt = 1 # cada cuanto tiempo se realiza una acción en segundos\n",
        "\n",
        "modelo_proceso = gaussian(velocidad*dt, varianza_proceso) # desplazamiento para agregar a x\n",
        "\n",
        "# Ejecutar simulacion de movimiento de robot y tomar mediciones\n",
        "robot = Robot_simulacion(\n",
        "    x0 = x.promedio,\n",
        "    desplazamiento = modelo_proceso.promedio,\n",
        "    varianza_medicion = varianza_sensor,\n",
        "    varianza_proceso = modelo_proceso.varianza)\n",
        "\n",
        "# create list of measurements\n",
        "zs = [robot.mover_y_sensar() for _ in range(10)]\n",
        "print(zs)"
      ],
      "metadata": {
        "id": "H84xB-4UD5YU"
      },
      "execution_count": null,
      "outputs": []
    },
    {
      "cell_type": "markdown",
      "source": [
        "Y con esto podemos programar un filtro de Kalman empleando las funciones de prección y actualización"
      ],
      "metadata": {
        "id": "SKpiVVw2R6Qh"
      }
    },
    {
      "cell_type": "code",
      "source": [
        "x = gaussian(0., 400)\n",
        "\n",
        "print(f\"{'Iteración':^10}, {'Prediccion':^18}, {'Medición':^10}, {'Actualizacion':^17}\")\n",
        "print(f\"{'':_^60}\")\n",
        "\n",
        "\n",
        "# Aplicacion del filtro de Kalman\n",
        "for i, z in enumerate(zs):\n",
        "  prior = predict(x, modelo_proceso)         #Se realiza la etapa de predicción (movimiento)\n",
        "  likelihood = gaussian(z, varianza_sensor)  #Se obtiene una medición del sensor\n",
        "  x = update(prior, likelihood)              #Se actualiza la estimación con el dato del sensor\n",
        "\n",
        "  print(f'{i:^10}', end=',')\n",
        "  print(f'{prior[0]:^7.3f}, {prior[1]:^9.3f}', end=',')\n",
        "  print(f'{z:^11.3f}', end=',')\n",
        "  print(f'{x[0]:^7.3f}, {x[1]:^8.3f}')\n",
        "\n",
        "print()\n",
        "print(f'Posición final estimada: {x.promedio}')\n",
        "print(f'Posición final real: {robot.x}')"
      ],
      "metadata": {
        "id": "_y52d46oIlyc"
      },
      "execution_count": null,
      "outputs": []
    },
    {
      "cell_type": "code",
      "source": [
        "# @title def plot_kalman()\n",
        "\n",
        "def plot_kalman(zs, xs, predicciones=None, var=None, actual=None):\n",
        "\n",
        "  xs = np.array(xs)[:,0].flatten()\n",
        "  x_axis = range(len(zs))\n",
        "\n",
        "  plt.cla()\n",
        "  plt.scatter(x_axis, zs, edgecolor='k', facecolor='none', lw=2, label='Mediciones')\n",
        "  plt.plot(x_axis, xs, color='b', label='Filtro')\n",
        "\n",
        "  if actual is not None:\n",
        "    plt.plot(actual, linestyle=':', color='green', label='Actual')\n",
        "\n",
        "  if predicciones is not None:\n",
        "    #predicciones = np.array(predicciones)\n",
        "    plt.scatter(x_axis, predicciones, marker='v', s=40, edgecolor='r', facecolor='None', lw=2, label='Prediciones')\n",
        "  if var is not None:\n",
        "    #var = np.asarray(var)\n",
        "    std = np.sqrt(var)\n",
        "    std_top = xs+std\n",
        "    std_btm = xs-std\n",
        "    plt.plot(x_axis, std_top, linestyle=':', color='purple', lw=1)\n",
        "    plt.plot(x_axis, std_btm, linestyle=':', color='purple', lw=1)\n",
        "    plt.fill_between(x_axis, std_btm, std_top, facecolor='purple', alpha=0.1)\n",
        "\n",
        "  plt.plot()\n",
        "  plt.legend()\n",
        "  np.set_printoptions(precision=4)\n",
        "\n",
        "def imprimir_varianzas(xs):\n",
        "  print(np.array(xs)[:,1])"
      ],
      "metadata": {
        "id": "RUmv9T97d753",
        "cellView": "form"
      },
      "execution_count": null,
      "outputs": []
    },
    {
      "cell_type": "code",
      "source": [
        "varianza_proceso = 2\n",
        "varianza_sensor = 4.5\n",
        "x = gaussian(0., 400)\n",
        "modelo_proceso = gaussian(1., varianza_proceso)\n",
        "N = 25\n",
        "\n",
        "robot = Robot_simulacion(x.promedio, modelo_proceso.promedio, varianza_sensor, varianza_proceso)\n",
        "zs, x_real = [], []\n",
        "for _ in range(N):\n",
        "  zs.append(robot.mover_y_sensar())\n",
        "  x_real.append(robot.x)\n",
        "\n",
        "#zs = [robot.mover_y_sensar() for _ in range(N)]\n",
        "# Variables para almacenar datos\n",
        "xs, predicciones = [], []\n",
        "\n",
        "# Aplicacion del filtro de Kalman\n",
        "for i, z in enumerate(zs):\n",
        "  prior = predict(x, modelo_proceso)\n",
        "  likelihood = gaussian(z, varianza_sensor)\n",
        "  x = update(prior, likelihood)\n",
        "\n",
        "  predicciones.append(prior)\n",
        "  xs.append(x)\n",
        "\n",
        "predicciones = np.array(predicciones)\n",
        "plot_kalman(zs, xs, predicciones[:,0], var=predicciones[:,1], actual=x_real)\n",
        "imprimir_varianzas(xs)"
      ],
      "metadata": {
        "id": "Hik07n-nQrD0"
      },
      "execution_count": null,
      "outputs": []
    },
    {
      "cell_type": "markdown",
      "source": [
        "Se puede observar que la varianza converge a 2.1623 luego de 8 iteraciones. Esto implica que podemos decir con confianza cual es la posición del robot.\n",
        "\n",
        "Esta varianza implica una desviación estandar de $\\sigma=1.47$ metros, la cual podemos comparar con la del sensor ($\\sigma=2.12$). Esto implica que nuestro filtro de Kalman a logrado obtener una presición **mayor** que si solo se leyera la data del sensor sin procesarla. Al inicio la varianza obtenida por el filtro es mayor, pero rápidamente se logra estabilizar y obtener una mejor estimación.\n",
        "\n"
      ],
      "metadata": {
        "id": "b_FxgZdygsf7"
      }
    },
    {
      "cell_type": "markdown",
      "source": [
        "## Ejercicio: Modificar varianzas\n",
        "\n",
        "Modificar los valores de `varianza_proceso` y `varianza_sensor` y observar el efecto que tienen sobre el filtro y la varianza final obtenida. ¿Cual tiene un efecto mayor sobre la convergencia de la varianza? Por ejemplo, cual de los dos siguientes resulta en una menor varianza:\n",
        "\n",
        "\n",
        "```python\n",
        "varianza_proceso = 40\n",
        "varianza_sensor = 2\n",
        "```\n",
        "    \n",
        "o:\n",
        "\n",
        "```python\n",
        "varianza_proceso = 2\n",
        "varianza_sensor = 40\n",
        "```"
      ],
      "metadata": {
        "id": "p3m3gdEFjjmz"
      }
    },
    {
      "cell_type": "markdown",
      "source": [
        "#Filtro de Kalman"
      ],
      "metadata": {
        "id": "axzkcl1Yk_6G"
      }
    },
    {
      "cell_type": "markdown",
      "source": [
        "Se ha podido observar que el filtro de Kalman funciona. Ahora analicemos la matemática detras del filtro"
      ],
      "metadata": {
        "id": "Nw_UhDIAlRhX"
      }
    },
    {
      "cell_type": "markdown",
      "source": [
        "##Ganancia de Kalman"
      ],
      "metadata": {
        "id": "jewJFAJlkB6u"
      }
    },
    {
      "cell_type": "markdown",
      "source": [
        "Sabemos que el filtro de Kalman realiza una actualización (**update**) sobre un estado previo (**prior**), el cual se realiza mediante un producto de gaussianas. Por lo tanto, el promedio del resultado luego de aplicar la medición (**posterior**) está dado por\n",
        "\n",
        "$$\n",
        "\\mu=\\frac{\\bar\\sigma^2\\, \\mu_z + \\sigma_z^2 \\, \\bar\\mu} {\\bar\\sigma^2 + \\sigma_z^2}\n",
        "$$\n",
        "\n",
        "Donde empleamos el indice $z$ para denominar una medición. Esta ecuación se puede reescribir de la siguiente manera\n",
        "\n",
        "$$\n",
        "\\mu = \\left( \\frac{\\bar\\sigma^2}{\\bar\\sigma^2 + \\sigma_z^2}\\right) \\mu_z + \\left(\\frac{\\sigma_z^2}{\\bar\\sigma^2 + \\sigma_z^2}\\right)\\bar\\mu\n",
        "$$\n",
        "\n",
        "En esta estructura es facil ver que el filtro de Kalman realiza un promedio ponderado, o \"escalamiento\" entre la medición y el estado previo (prior) por lo pesos dados\n",
        "\n",
        "$$\\mu = W_1 \\mu_z + W_2 \\bar\\mu$$\n",
        "\n",
        "Estos pesos deben de sumar 1 debido a que el denominador es un término de normalización. Lo cual nos permite introducir un nuevo término $K=W_1$ resultando en la siguiente ecuación:\n",
        "\n",
        "$$\\begin{aligned}\n",
        "\\mu &= K \\mu_z + (1-K) \\bar\\mu\\\\\n",
        "&= \\bar\\mu + K(\\mu_z - \\bar\\mu)\n",
        "\\end{aligned}$$\n",
        "\n",
        "donde\n",
        "\n",
        "$$K = \\frac {\\bar\\sigma^2}{\\bar\\sigma^2 + \\sigma_z^2}$$\n",
        "\n",
        "se define como la ganancia de Kalman (***Kalman gain***). Está variable es la esencia del filtro de Kalman. Es un término que nos permite escoger un valor entre $\\mu_z$ and $\\bar\\mu$. En otras palabras, en que confiamos más ... la medición del sensor, o la predicción realizada mediante un modelo matemático."
      ],
      "metadata": {
        "id": "VDmhK-6wkILy"
      }
    },
    {
      "cell_type": "markdown",
      "source": [
        "Esto se puede comprender mediante el siguiente esquema.\n",
        "La ganancia de Kalman $K$ es el factor de escala que elije un valor en el residual.\n",
        "\n",
        "<img src=\"https://drive.google.com/uc?export=view&id=1xIz4xXvWAkJPXZecvctvbP4uvnTp1Uab\" alt=\"Esquema de Filtro de Kalman\"/>\n",
        "\n",
        "Con estas definiciones se puede realizar otras implementaciones equivalentes de las funciones `update()` y  `predict()`:"
      ],
      "metadata": {
        "id": "Abmcu0HTqZPA"
      }
    },
    {
      "cell_type": "code",
      "source": [
        "def update(prior, measurement):\n",
        "    x, P = prior        # promedio and varianza del prior\n",
        "    z, R = measurement  # promedio and varianza de la medicion\n",
        "\n",
        "    y = z - x        # residual\n",
        "    K = P / (P + R)  # Kalman gain\n",
        "\n",
        "    x = x + K*y      # posterior\n",
        "    P = (1 - K) * P  # Varianza de posterior\n",
        "    return gaussian(x, P)\n",
        "\n",
        "def predict(posterior, movement):\n",
        "    x, P = posterior # promedio y varianza del posterior\n",
        "    dx, Q = movement # promedio y varianza del movimiento\n",
        "    x = x + dx\n",
        "    P = P + Q\n",
        "    return gaussian(x, P)"
      ],
      "metadata": {
        "id": "ACHgZIzSrpwT"
      },
      "execution_count": null,
      "outputs": []
    },
    {
      "cell_type": "markdown",
      "source": [
        "Estas definiciones pueden verse más complicadas (y lo son). Sin embargo, se presentan así debido a que el nombre de las variables presentadas es el estandar para el filtro de Kalman.\n",
        "\n",
        "`z`, `P`, `Q`, y `R`provienen de la historia de la teoría de control (el filtro fue propuesto en el año 1960) y debido a que todo artículo y libro que menciona el filtro usa estas variables, deben de acostumbrarse a ellas. $R$ representa el ruido de medición, $Q$ el ruido del proceso y $P$ la varianza del estado mientas que $z$ es la medición realizada."
      ],
      "metadata": {
        "id": "rMp1bPJDqgst"
      }
    },
    {
      "cell_type": "markdown",
      "source": [
        "## Ejemplo: Cantidad de ruido extremo"
      ],
      "metadata": {
        "id": "hkchWEpTvZvp"
      }
    },
    {
      "cell_type": "markdown",
      "source": [
        "Hasta ahora hemos considerado casos sin mucho ruido y considerabamos como posición inicial del robot cero. Pero, como funciona el fltro ante casos reales?\n",
        "\n",
        "Analizaremos el desempeño del filtro agregando ruido extremo al sensor de posicionamiento (ultrasonido, laser, infrarojo, etc).\n",
        "\n",
        "¿Que podemos inferir si el sensor tiene una desviación estandar de 300 metros? En otras palabras, si la posición real es de 5 metros el sensor podría reportar un valor de 245.7 o -421.3."
      ],
      "metadata": {
        "id": "gdqmhPPzvh_a"
      }
    },
    {
      "cell_type": "code",
      "source": [
        "varianza_proceso = 2\n",
        "varianza_sensor = 300**2 #VARIANZA EXTREMADAMENTE ALTA\n",
        "x = gaussian(0., 400)\n",
        "modelo_proceso = gaussian(1., varianza_proceso)\n",
        "N = 1000\n",
        "\n",
        "# Simulacion de movimiento del robot\n",
        "robot = Robot_simulacion(x.promedio, modelo_proceso.promedio, varianza_sensor, varianza_proceso)\n",
        "zs = [robot.mover_y_sensar() for _ in range(N)]\n",
        "# Variables para almacenar datos\n",
        "xs, predicciones = [], []\n",
        "\n",
        "# Aplicacion del filtro de Kalman\n",
        "for i, z in enumerate(zs):\n",
        "  prior = predict(x, modelo_proceso)\n",
        "  likelihood = gaussian(z, varianza_sensor)\n",
        "  x = update(prior, likelihood)\n",
        "\n",
        "  predicciones.append(prior)\n",
        "  xs.append(x)\n",
        "\n",
        "plot_kalman(zs, xs)"
      ],
      "metadata": {
        "id": "ltpPegp7wVX5"
      },
      "execution_count": null,
      "outputs": []
    },
    {
      "cell_type": "markdown",
      "source": [
        "En este ejemplo, el ruido es extremo y aun así el filtro genera una línea casi recta. ¿Cuál crees que podría ser la causa de este efecto?\n",
        "\n",
        "Obtenemos una línea casi recta porque nuestro error de proceso es pequeño. Un pequeño error de proceso le dice al filtro que la predicción es muy confiable y como en este caso le hemos inindicado que la predicción es una línea recta, el filtro genera una línea casi recta."
      ],
      "metadata": {
        "id": "ACj-psEExQZi"
      }
    },
    {
      "cell_type": "markdown",
      "source": [
        "## Ejemplo: Varianza de proceso incorrecto"
      ],
      "metadata": {
        "id": "O6dWZo-Jxbyh"
      }
    },
    {
      "cell_type": "markdown",
      "source": [
        "Del ejemplo anterior podemos concluir que una varianza del proceso pequeña en comparación con la del sensor funciona muy buen. ¿Podemos entonces usar una varianza del proceso bien pequeña siempre?\n",
        "\n",
        "La variación del proceso le dice al filtro como cambia el sistema en el tiempo. Si se le da un valor incorrecto al filtro y se proporciona un valor artificialmente bajo, el filtro no podrá reaccionar antes los cambios que sucedan.\n",
        "\n",
        "Hagamos que el robot aumente su velocidad en una pequeña cantidad en cada intervalo de tiempo y veamos cómo funciona el filtro con una variación del proceso de 0,001 m$^2$."
      ],
      "metadata": {
        "id": "GNV813mkxe7S"
      }
    },
    {
      "cell_type": "code",
      "source": [
        "varianza_proceso = 0.001\n",
        "varianza_sensor = 4.5\n",
        "x = gaussian(0., 400)\n",
        "modelo_proceso = gaussian(1., varianza_proceso)\n",
        "N = 100\n",
        "\n",
        "# Simulacion de movimiento del robot\n",
        "robot = Robot_simulacion(x.promedio, modelo_proceso.promedio, varianza_sensor, varianza_proceso)\n",
        "#zs = [robot.mover_y_sensar() for _ in range(N)]\n",
        "# Variables para almacenar datos\n",
        "zs, xs, predicciones = [], [], []\n",
        "for _ in range(N):\n",
        "  robot.desplazamiento += 0.04\n",
        "  zs.append(robot.mover_y_sensar())\n",
        "\n",
        "# Aplicacion del filtro de Kalman\n",
        "for i, z in enumerate(zs):\n",
        "  prior = predict(x, modelo_proceso)\n",
        "  likelihood = gaussian(z, varianza_sensor)\n",
        "  x = update(prior, likelihood)\n",
        "\n",
        "  predicciones.append(prior)\n",
        "  xs.append(x)\n",
        "\n",
        "plot_kalman(zs, xs)"
      ],
      "metadata": {
        "id": "3oXzC9qAyOl4"
      },
      "execution_count": null,
      "outputs": []
    },
    {
      "cell_type": "markdown",
      "source": [
        "Se puede apreciar que el filtro no responde correctamente y no considera a las mediciones que claramente indican que el robot está cambiando su velocidad, pero al filtro se le ha indicado que sus predicciones son casi perfectas, por lo que ignora las mediciones.\n",
        "\n",
        "El filtro de Kalman no es mágico, hay que diseñarlo con valores de varianza adecuados para que pueda responder de forma correcta.\n",
        "\n",
        "**Probar como responder el filtro ante una varianza del proceso más alta. ¿Por que sucede este efecto?**\n",
        "\n"
      ],
      "metadata": {
        "id": "e2zmP-Zzy3g6"
      }
    },
    {
      "cell_type": "markdown",
      "source": [
        "## Ejemplo: Mal estimación inicial"
      ],
      "metadata": {
        "id": "VAFbgwu2zk3c"
      }
    },
    {
      "cell_type": "markdown",
      "source": [
        "Ahora veamos los resultados cuando hacemos una mala estimación inicial de la posición. Para apreciar un poco mejor, se aumenta la varianza del sensor a 25 pero se establece la posición inicial en 1000 metros. ¿Puede el filtro recuperarse de un error de 1000 metros?"
      ],
      "metadata": {
        "id": "-mvMrXJxznmH"
      }
    },
    {
      "cell_type": "code",
      "source": [
        "varianza_proceso = 2\n",
        "varianza_sensor = 25\n",
        "x = gaussian(1000., 400)\n",
        "modelo_proceso = gaussian(1., varianza_proceso)\n",
        "N = 100\n",
        "\n",
        "# Simulacion de movimiento del robot\n",
        "robot = Robot_simulacion(0, modelo_proceso.promedio, varianza_sensor, varianza_proceso)\n",
        "zs = [robot.mover_y_sensar() for _ in range(N)]\n",
        "# Variables para almacenar datos\n",
        "xs, predicciones = [], []\n",
        "\n",
        "# Aplicacion del filtro de Kalman\n",
        "for i, z in enumerate(zs):\n",
        "  prior = predict(x, modelo_proceso)\n",
        "  likelihood = gaussian(z, varianza_sensor)\n",
        "  x = update(prior, likelihood)\n",
        "\n",
        "  predicciones.append(prior)\n",
        "  xs.append(x)\n",
        "\n",
        "plot_kalman(zs, xs)"
      ],
      "metadata": {
        "id": "cFTfDiRJzuFo"
      },
      "execution_count": null,
      "outputs": []
    },
    {
      "cell_type": "markdown",
      "source": [
        "Debido a que estamos relativamente seguros en el sensor ($\\sigma^2=5^2$), después de la primeta iteración, hemos cambiado nuestra estimación de posición de 1000 m a aproximadamente 50 m. Después de otras 5-10 mediciones hemos convergido al valor correcto. Se puede apreciar que errores iniciales no afectar mucho el desempeño, el filtro de Kalman converge siempre que las varianzas del filtro se seleccionen para coincidir con el proceso real y las varianzas de medición.\n",
        "\n",
        "**En la práctica este problema se soluciona seleccionando la primera medición del sensor como valor inicial.**\n"
      ],
      "metadata": {
        "id": "OJzkp4ec1ixS"
      }
    },
    {
      "cell_type": "markdown",
      "source": [
        "## Ejemplo: Error inicial y ruido extremo"
      ],
      "metadata": {
        "id": "rKkF9kWH2QvF"
      }
    },
    {
      "cell_type": "markdown",
      "source": [
        "¿Podra el filtro funcionar bien bajo las peores condiciones?"
      ],
      "metadata": {
        "id": "viQGUcdK2ULF"
      }
    },
    {
      "cell_type": "code",
      "source": [
        "varianza_proceso = 2\n",
        "varianza_sensor = 300**2\n",
        "x = gaussian(1000., 400)\n",
        "modelo_proceso = gaussian(1., varianza_proceso)\n",
        "N = 1000\n",
        "\n",
        "# Simulacion de movimiento del robot\n",
        "robot = Robot_simulacion(0, modelo_proceso.promedio, varianza_sensor, varianza_proceso)\n",
        "zs = [robot.mover_y_sensar() for _ in range(N)]\n",
        "# Variables para almacenar datos\n",
        "xs, predicciones = [], []\n",
        "\n",
        "# Aplicacion del filtro de Kalman\n",
        "for i, z in enumerate(zs):\n",
        "  prior = predict(x, modelo_proceso)\n",
        "  likelihood = gaussian(z, varianza_sensor)\n",
        "  x = update(prior, likelihood)\n",
        "\n",
        "  predicciones.append(prior)\n",
        "  xs.append(x)\n",
        "\n",
        "plot_kalman(zs, xs)"
      ],
      "metadata": {
        "id": "1uioSqaz2Woi"
      },
      "execution_count": null,
      "outputs": []
    },
    {
      "cell_type": "markdown",
      "source": [
        "Esta vez el filtro tiene dificultades y requiere más de 600 o 700 iteraciones para converger en un valor. Los filtro de kalman no son mágicos por lo que no pueden solucionar todos los problemas.\n",
        "\n",
        "Problemos empleando la primera medición como valor inicial"
      ],
      "metadata": {
        "id": "v_M9zzE62qKL"
      }
    },
    {
      "cell_type": "code",
      "source": [
        "varianza_proceso = 2\n",
        "varianza_sensor = 300**2\n",
        "\n",
        "modelo_proceso = gaussian(1., varianza_proceso)\n",
        "N = 1000\n",
        "\n",
        "# Simulacion de movimiento del robot\n",
        "robot = Robot_simulacion(0, modelo_proceso.promedio, varianza_sensor, varianza_proceso)\n",
        "zs = [robot.mover_y_sensar() for _ in range(N)]\n",
        "x = gaussian(zs[0], 400)\n",
        "\n",
        "# Variables para almacenar datos\n",
        "xs, predicciones = [], []\n",
        "\n",
        "# Aplicacion del filtro de Kalman\n",
        "for i, z in enumerate(zs):\n",
        "  prior = predict(x, modelo_proceso)\n",
        "  likelihood = gaussian(z, varianza_sensor)\n",
        "  x = update(prior, likelihood)\n",
        "\n",
        "  predicciones.append(prior)\n",
        "  xs.append(x)\n",
        "\n",
        "plot_kalman(zs, xs)"
      ],
      "metadata": {
        "id": "uPKj6ugW2_US"
      },
      "execution_count": null,
      "outputs": []
    },
    {
      "cell_type": "markdown",
      "source": [
        "Observar como este cambio logro una mejora significativa sobre el desempeño del filtro. Que tan rápido converja el filtro va a depender del ruido presente en la primera medición; sin embargo, observar que en este ejemplo el ruido considerado es extremo ... Los sensores comerciales suelen tener ruido de decimas o centesimas de unidades, en el ejemplo estamos empleando 300^2"
      ],
      "metadata": {
        "id": "mVH5ksVR3N-c"
      }
    },
    {
      "cell_type": "markdown",
      "source": [
        "## Ejemplo interactivo"
      ],
      "metadata": {
        "id": "xd7XytsQ31B1"
      }
    },
    {
      "cell_type": "markdown",
      "source": [],
      "metadata": {
        "id": "duAJUo8G34lT"
      }
    },
    {
      "cell_type": "code",
      "source": [
        "from ipywidgets import interact, FloatSlider\n",
        "\n",
        "def plot_kalman_filter(pos_ini, ruido_sensor, desplazamiento, ruido_proceso):\n",
        "  # Agregar el código aqui\n",
        "\n",
        "  # Agregar el código aqui\n",
        "  plt.figure()\n",
        "  plt.plot(zs, c='k', marker='o', linestyle='', label='measurement')\n",
        "  plt.plot(xs, c='#004080', alpha=0.7, label='filter')\n",
        "  plt.legend(loc=4);\n",
        "  plt.show()\n",
        "\n",
        "\n",
        "interact(plot_kalman_filter,\n",
        "         pos_ini=(-10, 10),\n",
        "         ruido_sensor=FloatSlider(value=5, min=0, max=100),\n",
        "         desplazamiento=FloatSlider(value=1, min=-2., max=2.),\n",
        "         ruido_proceso=FloatSlider(value=5, min=0, max=100.));"
      ],
      "metadata": {
        "id": "5Yg7zUmM34Kz"
      },
      "execution_count": null,
      "outputs": []
    },
    {
      "cell_type": "code",
      "source": [
        "# @title Solucion\n",
        "\n",
        "from ipywidgets import interact, FloatSlider\n",
        "\n",
        "def plot_kalman_filter(pos_ini, ruido_sensor, desplazamiento, ruido_proceso):\n",
        "    # Agregar el código aqui\n",
        "    N = 20\n",
        "    # Simulacion de movimiento del robot\n",
        "    robot = Robot_simulacion(pos_ini, desplazamiento, ruido_sensor, ruido_proceso)\n",
        "    zs = [robot.mover_y_sensar() for _ in range(N)]\n",
        "\n",
        "    x = gaussian(zs[0], 400) # promedio y varianza de estimacion inicial\n",
        "    modelo_proceso = gaussian(desplazamiento, ruido_proceso)\n",
        "\n",
        "    # Variables para almacenar datos\n",
        "    xs = []\n",
        "\n",
        "    # Aplicacion del filtro de Kalman\n",
        "    for z in zs:\n",
        "      x = predict(x, modelo_proceso)\n",
        "      x = update(x, gaussian(z, ruido_sensor))\n",
        "\n",
        "      xs.append(x.promedio)\n",
        "\n",
        "    plt.figure()\n",
        "    plt.plot(zs, c='k', marker='o', linestyle='', label='measurement')\n",
        "    plt.plot(xs, c='#004080', alpha=0.7, label='filter')\n",
        "    plt.legend(loc=4);\n",
        "    plt.show()\n",
        "\n",
        "interact(plot_kalman_filter,\n",
        "         pos_ini=(-10, 10),\n",
        "         ruido_sensor=FloatSlider(value=5, min=0, max=100),\n",
        "         desplazamiento=FloatSlider(value=1, min=-2., max=2.),\n",
        "         ruido_proceso=FloatSlider(value=5, min=0, max=100.));"
      ],
      "metadata": {
        "cellView": "form",
        "id": "7nqhJOKJ4H6i"
      },
      "execution_count": null,
      "outputs": []
    },
    {
      "cell_type": "markdown",
      "source": [
        "#Filtro de Kalman Multivariante"
      ],
      "metadata": {
        "id": "zazUsq0t6Sjj"
      }
    },
    {
      "cell_type": "markdown",
      "source": [
        "El filtro de Kalman multivariante, emplea el concepto de gaussianas para cada variable a predecir. Expresando cada una en una dimensión como se muestra a continuación\n",
        "\n",
        "<img src=\"https://drive.google.com/uc?export=view&id=1oRcthZZsMqxi1QvJvCo4YCDqoBaINEyS\" alt=\"gaussian 2 dimension\" width=500px/>"
      ],
      "metadata": {
        "id": "pWwfsCwDJLrt"
      }
    },
    {
      "cell_type": "markdown",
      "source": [
        "Esto permite representar multiples variables de forma sencilla y demuestra el verdadeo potencial del filtro de Kalman. Sin embargo, la matemática se complica ligeramente por lo que se debe emplear algebra lineal.\n",
        "\n",
        "A continuación se presentan las ecuaciones completas del filtro de Kalman"
      ],
      "metadata": {
        "id": "Txf21ErrLia0"
      }
    },
    {
      "cell_type": "markdown",
      "source": [
        "<u>**Predición**</u>\n",
        "\n",
        "$\\begin{array}{|l|l|l|}\n",
        "\\hline\n",
        "\\text{Univariante} & \\text{Univariante} & \\text{Multivariante}\\\\\n",
        "& \\text{(Forma de Kalman)} & \\\\\n",
        "\\hline\n",
        "\\bar \\mu = \\mu + \\mu_{f_x} & \\bar x = x + dx & \\bar{\\mathbf x} = \\mathbf{Fx} + \\mathbf{Bu}\\\\\n",
        "\\bar\\sigma^2 = \\sigma_x^2 + \\sigma_{f_x}^2 & \\bar P = P + Q & \\bar{\\mathbf P} = \\mathbf{FPF}^\\mathsf T + \\mathbf Q \\\\\n",
        "\\hline\n",
        "\\end{array}$\n",
        "\n",
        "sin preocuparse por los detalles del algebra lineal, se puede observar que:\n",
        "\n",
        "$\\mathbf x,\\, \\mathbf P$ representan el promedio y covarianza del estado y corresponden a $\\mu$ y $\\sigma^2$.\n",
        "\n",
        "$\\mathbf F$ se denomina función de transición de estado. Representa el proceso que se realiza (por ejemplo, movimiento). Cuando se multiplica por $\\bf x$ se optiene el estado previo (**prior**).\n",
        "\n",
        "$\\mathbf Q$ es la covarianza del proceso (por ejemplo, incertidumbre del movimiento). Corresponde a $\\sigma^2_{f_x}$.\n",
        "\n",
        "$\\mathbf B$ and $\\mathbf u$ son nuevos términos que permiten modelar las entradas de control. Por ejemplo, las señales de acción de un actuador."
      ],
      "metadata": {
        "id": "PKJJmWXgOOvW"
      }
    },
    {
      "cell_type": "markdown",
      "source": [
        "<u>**Actualización**</u>\n",
        "\n",
        "$\\begin{array}{|l|l|l|}\n",
        "\\hline\n",
        "\\text{Univariante} & \\text{Univariante} & \\text{Multivariante}\\\\\n",
        "& \\text{(Forma de Kalman)} & \\\\\n",
        "\\hline\n",
        "& y = z - \\bar x & \\mathbf y = \\mathbf z - \\mathbf{H\\bar x} \\\\\n",
        "& K = \\frac{\\bar P}{\\bar P+R}&\n",
        "\\mathbf K = \\mathbf{\\bar{P}H}^\\mathsf T (\\mathbf{H\\bar{P}H}^\\mathsf T + \\mathbf R)^{-1} \\\\\n",
        "\\mu=\\frac{\\bar\\sigma^2\\, \\mu_z + \\sigma_z^2 \\, \\bar\\mu} {\\bar\\sigma^2 + \\sigma_z^2} & x = \\bar x + Ky & \\mathbf x = \\bar{\\mathbf x} + \\mathbf{Ky} \\\\\n",
        "\\sigma^2 = \\frac{\\sigma_1^2\\sigma_2^2}{\\sigma_1^2+\\sigma_2^2} & P = (1-K)\\bar P &\n",
        "\\mathbf P = (\\mathbf I - \\mathbf{KH})\\mathbf{\\bar{P}} \\\\\n",
        "\\hline\n",
        "\\end{array}$\n",
        "\n",
        "$\\mathbf H$ representa la función de medición, este es un efecto nuevo que se explicará a detalle. Básicamente, permite relacionar el estado con la mediciones realizadas para obtener el \"error de predicción\" (**residual**). Observar que, si se ignora $\\mathbf H$ de las ecuaciones, la forma del cálculo multivariante es el mismo que el univariante.\n",
        "\n",
        "$\\mathbf z,\\, \\mathbf R$ representan el promedio y covarianza de la medición. Corresponden a $z$ y $\\sigma_z^2$\n",
        "\n",
        "$\\mathbf y$ y $\\mathbf K$ son el residual y la ganancia de Kalman.\n",
        "\n",
        "La principal diferencia es el uso de vectores y matrices para representar el estado, pero los conceptos son los mismos que en el caso univariante:\n",
        "- Representar la estimación del estado y su incertidumbre mediante una función gaussiana.\n",
        "- Representar la medición y su error (incertidumbre) mediante una gaussiana\n",
        "- Representar el modelo del proceso con una gaussiana\n",
        "- Usar el modelo del proceso para *predecir* el siguiente estado (prior)\n",
        "- Usar la ganancia de Kalman para *actualizar* el estado a un valor entre la medición y el prior.\n",
        "\n",
        "El trabajo a realizar para diseñar un filtro de Kalman es determinar el estado $\\left(\\mathbf x, \\mathbf P\\right)$, el proceso $\\left(\\mathbf F, \\mathbf Q\\right)$, la medición $\\left(\\mathbf z, \\mathbf R\\right)$ y la función de medición $\\mathbf H$. Si el sistema tiene entradas de control, como en el caso de un sistema robótico, también se debe diseñar $\\mathbf B$ y $\\mathbf u$."
      ],
      "metadata": {
        "id": "A8JOoDyxOPhA"
      }
    },
    {
      "cell_type": "markdown",
      "source": [
        "## Diseño del modelo del proceso"
      ],
      "metadata": {
        "id": "nqrLxY3Jj3yB"
      }
    },
    {
      "cell_type": "markdown",
      "source": [
        "Para modelar el proceso se debe de considerar las ecuaciones que definen al sistema a modelar.\n",
        "\n",
        "Por ejemplo, si tomamos el caso del robot movil donde deseamos saber su posición y velocidad, podemos definir el vector de estado $\\mathbf{x}$ como\n",
        "\n",
        "$$\\begin{bmatrix} x \\\\ \\dot{x}\\end{bmatrix}$$\n",
        "\n",
        "Además, sabemos que el filtro de Kalman calcula la predicción (**prior**) según la ecuación:\n",
        "\n",
        "$$\\mathbf{\\bar x} = \\mathbf{Fx}$$\n",
        "\n",
        "Por lo tanto, para definir el proceso necesitamos obtener la matris $\\mathbf F$ tal que se cumpla de forma explicita:\n",
        "\n",
        "$$\\begin{bmatrix} \\bar x \\\\ \\dot{\\bar x}\\end{bmatrix} = \\begin{bmatrix}? & ? \\\\? & ?\\end{bmatrix}\\begin{bmatrix}x\\\\\\dot x\\end{bmatrix}$$\n",
        "\n",
        "Para ello, debemos de recordar que las ecuaciones de movimiento se pueden expresar como\n",
        "\n",
        "$$\\begin{cases}\n",
        "\\begin{aligned}\n",
        "\\bar x &= x + \\dot x \\Delta t \\\\\n",
        "\\bar{\\dot x} &= \\dot x\n",
        "\\end{aligned}\n",
        "\\end{cases}$$\n",
        "\n",
        "Mediante la cual podemos determinar la función de transición $\\mathbf K$ y definir\n",
        "\n",
        "$$\\begin{aligned}\n",
        "\\begin{bmatrix}\\bar x \\\\ \\bar{\\dot x}\\end{bmatrix} &= \\begin{bmatrix}1&\\Delta t  \\\\ 0&1\\end{bmatrix}  \\begin{bmatrix}x \\\\ \\dot x\\end{bmatrix}\\\\\n",
        "\\mathbf{\\bar x} &= \\mathbf{Fx}\n",
        "\\end{aligned}$$\n",
        "\n",
        "Si deseamos realizar un movimiento en 2 dimensiones, el resultado sería\n",
        "\n",
        "$$\\begin{aligned}\n",
        "\\begin{bmatrix}\\bar x \\\\ \\bar{\\dot x} \\\\ \\bar y \\\\ \\bar{\\dot y}\\end{bmatrix} &= \\begin{bmatrix}1&\\Delta t  & 0 & 0\\\\ 0&1 &0 & 0 \\\\ 0 & 0 & 1 & \\Delta t \\\\ 0 & 0 & 0 & 1\\end{bmatrix}  \\begin{bmatrix}x \\\\ \\dot x \\\\ y \\\\ \\dot y\\end{bmatrix}\n",
        "\\end{aligned}$$\n",
        "\n",
        "</br>\n",
        "\n",
        "¿Como sería la forma de $\\mathbf{F}$ si también se desea estimar la aceleración?"
      ],
      "metadata": {
        "id": "l13EavXklKyJ"
      }
    },
    {
      "cell_type": "markdown",
      "source": [
        "## Diseño de Función de Medición"
      ],
      "metadata": {
        "id": "z7EJICVsqtlu"
      }
    },
    {
      "cell_type": "markdown",
      "source": [
        "La función de medición se emplea durante el proceso de actualización para calcular el residual.\n",
        "Recordemos que previamente el residual se ha calculado según\n",
        "\n",
        "$$y = z - \\bar x $$\n",
        "\n",
        "Sin embargo, en el caso multivariante se necesita poder determinar que variables del estado se están midiento (no siempre se tiene sensores para cada variable). Adicionalmente, puede hacer el caso de que se cuente con multiples sensores del mismo tipo, por lo que se requiere de una forma de poder separar esta información. Este es el objetivo de la función de medición - convertir y transformar estados en mediciones.\n",
        "\n",
        "$$\\mathbf y = \\mathbf z - \\mathbf{H \\bar x}$$\n",
        "\n",
        "Por lo que se requiere diseñar $\\mathbf H$ tal que $\\mathbf{H\\bar x}$ retorne una medición. Para el ejemplo de un robot movil que mide su posición, la medición $\\mathbf z$ es un vector de una dimensión:\n",
        "\n",
        "$$\\mathbf z = \\begin{bmatrix}z\\end{bmatrix}$$\n",
        "\n",
        "Por lo que el residual tiene la forma de:\n",
        "\n",
        "$$\n",
        "\\begin{aligned}\n",
        "\\textbf{y} &= \\mathbf z - \\mathbf{H\\bar x}  \\\\\n",
        "\\begin{bmatrix}y \\end{bmatrix} &= \\begin{bmatrix}z\\end{bmatrix} - \\begin{bmatrix}?&?\\end{bmatrix} \\begin{bmatrix}x \\\\ \\dot x\\end{bmatrix}\n",
        "\\end{aligned}\n",
        "$$\n",
        "\n",
        "Como la medición solo contiene información de posición y no velocidad, esto resulta en la siguiente matriz:\n",
        "\n",
        "$$\\begin{aligned}\n",
        "\\textbf{y} = \\mathbf z - \\begin{bmatrix}1&0\\end{bmatrix} \\begin{bmatrix}x \\\\ \\dot x\\end{bmatrix}\n",
        "\\end{aligned}$$\n",
        "\n",
        "Si se tuviesen dos sensores, se tendría la siguiente expresión\n",
        "\n",
        "$$\\mathbf z = \\begin{bmatrix}z_1 \\\\ z_2 \\end{bmatrix}$$\n",
        "\n",
        "$$\\begin{aligned}\n",
        "\\textbf{y} = \\mathbf z - \\begin{bmatrix}1&0\\\\1&0\\end{bmatrix} \\begin{bmatrix}x \\\\ \\dot x\\end{bmatrix}\n",
        "\\end{aligned}$$\n",
        "\n",
        "y se podría realizar una fusión de sensores considerando la covarianza de ambos para obtener un resultado mejor que el promedio de ellos"
      ],
      "metadata": {
        "id": "rkHu49wzq3mJ"
      }
    },
    {
      "cell_type": "code",
      "source": [
        "# @title Filtro de Kalman multivariante\n",
        "from scipy.linalg import inv, block_diag\n",
        "\n",
        "#np.random.seed(9)\n",
        "varianza_proceso = 0.01 # Varianza (incertidumbre) del movimiento del robot\n",
        "varianza_sensor = 4.5 # Varianza (incertidumbre) de la medición del sensor\n",
        "velocidad = 1\n",
        "dt = 1 # cada cuanto tiempo se realiza una acción en segundos\n",
        "count = 25\n",
        "\n",
        "# Ejecutar simulacion de movimiento de robot y tomar mediciones\n",
        "robot = Robot_simulacion(\n",
        "    x0 = 0,\n",
        "    desplazamiento = velocidad*dt,\n",
        "    varianza_medicion = varianza_sensor,\n",
        "    varianza_proceso = varianza_proceso)\n",
        "\n",
        "# Crea lista de mediciones\n",
        "actual, zs = [], []\n",
        "for _ in range(count):\n",
        "  zs.append(robot.mover_y_sensar())\n",
        "  actual.append(robot.x)\n",
        "\n",
        "# Matrices de Filtro de Kalman\n",
        "x = np.array([[5.0, 5]]).T\n",
        "P = np.diag([400, 400])\n",
        "F = np.array([[1, dt],\n",
        "              [0,  1]])\n",
        "H = np.array([[1., 0.]])\n",
        "R = np.array([[varianza_sensor]])\n",
        "# Q Se considera como un ruido blanco discreto\n",
        "Q = np.array([[0.25*dt**4, 0.5*dt**3],\n",
        "              [0.5*dt**3,  dt**2]])*varianza_proceso\n",
        "\n",
        "xs, cov_predic, cov = [], [], []\n",
        "\n",
        "for z in zs:\n",
        "  # Predecir\n",
        "  x = F @ x\n",
        "  P = F @ P @ F.T + Q\n",
        "\n",
        "  cov_predic.append(P)\n",
        "\n",
        "  # Actualizar\n",
        "  S = H @ P @ H.T + R\n",
        "  K = P @ H.T @ inv(S)\n",
        "  y = z - H @ x\n",
        "  x += K @ y\n",
        "  P = P - K @ H @ P\n",
        "\n",
        "  xs.append(x)\n",
        "  cov.append(P)\n",
        "\n",
        "cov_predic = np.asarray(cov_predic)\n",
        "plot_kalman(zs, xs, var=cov_predic[:,0,0], actual=actual)\n",
        "print(f'Posición final real: {actual[count-1]}')\n",
        "print(f'Posición final estimada: {xs[count-1][0]}')\n",
        "print(f'Velocidad final estimada: {xs[count-1][1]}')"
      ],
      "metadata": {
        "id": "73v2HwwIXcQo"
      },
      "execution_count": null,
      "outputs": []
    },
    {
      "cell_type": "code",
      "source": [
        "cov = np.asarray(cov)\n",
        "ax = plt.subplot(121)\n",
        "ax.set_title(r\"$\\sigma^2_x$ (pos varianza)\")\n",
        "plt.plot(cov[:,0,0])\n",
        "\n",
        "ax = plt.subplot(122)\n",
        "ax.set_title(r\"$\\sigma^2_\\dot{x}$ (vel varianza)\")\n",
        "plt.plot(cov[:,1,1])"
      ],
      "metadata": {
        "id": "YBPAV3-MfHx-"
      },
      "execution_count": null,
      "outputs": []
    },
    {
      "cell_type": "markdown",
      "source": [
        "## Efecto de variables ocultas (Velocidad)"
      ],
      "metadata": {
        "id": "sfUld9FxCLyI"
      }
    },
    {
      "cell_type": "markdown",
      "source": [
        "En el filtro aplicado se puede observar que la velocidad es una variable oculta, es decir, no existe un sensor que esté midiendo de forma directa este parámetro. Sin embargo, podemos ver como el filtro de Kalman \"observa\" de forma adecuada el valor de la velocidad.\n",
        "\n",
        "A continuación se muestra el efecto de esta estimación respecto al deseméño del filtro en comparación con el filtro de Kalman univariante al modificar la velocidad y considerar un proceso con varianza extremadamente baja."
      ],
      "metadata": {
        "id": "3Ffm6r7zCOyM"
      }
    },
    {
      "cell_type": "code",
      "source": [
        "varianza_proceso = 0.001\n",
        "varianza_sensor = 4.5\n",
        "x_uni = gaussian(0., 400)\n",
        "modelo_proceso = gaussian(1., varianza_proceso)\n",
        "velocidad = 1\n",
        "dt = 1 # cada cuanto tiempo se realiza una acción en segundos\n",
        "N = 100\n",
        "\n",
        "# Matrices de Filtro de Kalman\n",
        "x = np.array([[5.0, 5]]).T\n",
        "P = np.diag([400, 400])\n",
        "F = np.array([[1, dt],\n",
        "              [0,  1]])\n",
        "H = np.array([[1., 0.]])\n",
        "R = np.array([[varianza_sensor]])\n",
        "# Q Se considera como un ruido blanco discreto\n",
        "Q = np.array([[0.25*dt**4, 0.5*dt**3],\n",
        "              [0.5*dt**3,  dt**2]])*varianza_proceso\n",
        "\n",
        "# Simulacion de movimiento del robot\n",
        "robot = Robot_simulacion(0, velocidad*dt, varianza_sensor, varianza_proceso)\n",
        "\n",
        "# Variables para almacenar datos\n",
        "zs, xs1, actual, xs2 = [], [], [], []\n",
        "for _ in range(N):\n",
        "  robot.desplazamiento += 0.04\n",
        "  zs.append(robot.mover_y_sensar())\n",
        "  actual.append(robot.x)\n",
        "\n",
        "for z in zs:\n",
        "  # Aplicacion del filtro de Kalman Univariante\n",
        "  prior = predict(x_uni, modelo_proceso)\n",
        "  likelihood = gaussian(z, varianza_sensor)\n",
        "  x_uni = update(prior, likelihood)\n",
        "  xs1.append(x_uni.promedio)\n",
        "\n",
        "  # Aplicación de filtro de Kalman Multivariante\n",
        "  # Predecir\n",
        "  x = F @ x\n",
        "  P = F @ P @ F.T + Q\n",
        "  # Actualizar\n",
        "  S = H @ P @ H.T + R\n",
        "  K = P @ H.T @ inv(S)\n",
        "  y = z - H @ x\n",
        "  x += K @ y\n",
        "  P = P - K @ H @ P\n",
        "\n",
        "  xs2.append(x[0])\n",
        "\n",
        "#plot_kalman(zs, xs)\n",
        "plt.plot(xs1, color='red', label='Filtro 1D')\n",
        "plt.plot(xs2, color='blue', label='Filtro 2D')\n",
        "plt.plot(actual, ls='--', color='green', label='Desplazamiento Real')\n",
        "plt.legend()\n",
        "plt.show()"
      ],
      "metadata": {
        "id": "Qss52Me2-wJ1"
      },
      "execution_count": null,
      "outputs": []
    },
    {
      "cell_type": "markdown",
      "source": [
        "Previamente hemos visto este efecto sobre el filtro de Kalman univariante, en el cual el filtro confia demasiado en el proceso (debido a su baja varianza) y por lo tanto no tiene forma de estimar la velocidad y su cambio durante el proceso.\n",
        "\n",
        "Por otro lado, se puede observar claramente como el filtro de kalman multivariante no presenta este efecto al contener dentro de su estado una estimación de la velocidad y puede modelar de forma efectiva su cambio en todo momento."
      ],
      "metadata": {
        "id": "MEQBeuBBDCDw"
      }
    },
    {
      "cell_type": "markdown",
      "source": [
        "## Uso de múltiples sensores"
      ],
      "metadata": {
        "id": "_tkvxNLGe9Bn"
      }
    },
    {
      "cell_type": "markdown",
      "source": [
        "Se ha mencionado que la función de medición $\\mathbf H$, permite modelar sistemas con varios sensores y que el filtro de Kalman nos puede obtener un resultado mejor que promediar los sensores.\n",
        "\n",
        "A continuación se muestra un caso donde se cuentan 2 sensores que miden la posición del robot. Estos sensores ambos emplean la misma varianza para evitar modificar nuestra función de simulación del robot `Robot_simulacion`.\n",
        "Observar que en este caso, para generar las mediciones del segundo sensor, se está empleando la función `medir_posicion()` del objeto robot. Recordemos que esta medición genera una nueva medición agregando ruido aleatorio a la posición del robot, por lo que podemos obtener una nueva medición sin mover el robot.\n",
        "\n",
        "Observar también la forma de las variables $\\mathbf z$, $\\mathbf H$ y $\\mathbf R$, los cuales tienen la siguiente forma\n",
        "\n",
        "$$\\begin{aligned}\n",
        "\\mathbf z &= \\begin{bmatrix}z_1 \\\\ z_2 \\end{bmatrix} \\\\\n",
        "\\mathbf H &= \\begin{bmatrix}1&0\\\\1&0\\end{bmatrix} \\\\\n",
        "\\mathbf R &= \\begin{bmatrix}4.5&0\\\\0&4.5\\end{bmatrix}\n",
        "\\end{aligned}$$"
      ],
      "metadata": {
        "id": "K8Rxe7HVfB8k"
      }
    },
    {
      "cell_type": "code",
      "source": [
        "from scipy.linalg import inv, block_diag\n",
        "\n",
        "#np.random.seed(9)\n",
        "varianza_proceso = 0.01 # Varianza (incertidumbre) del movimiento del robot\n",
        "varianza_sensor = 4.5 # Varianza (incertidumbre) de la medición del sensor\n",
        "velocidad = 1\n",
        "dt = 1 # cada cuanto tiempo se realiza una acción en segundos\n",
        "count = 25\n",
        "\n",
        "# Ejecutar simulacion de movimiento de robot y tomar mediciones\n",
        "robot = Robot_simulacion(0, velocidad*dt, varianza_sensor, varianza_proceso)\n",
        "\n",
        "# Crea lista de mediciones\n",
        "actual, zs1, zs2 = [], [], []\n",
        "for _ in range(count):\n",
        "  zs1.append(robot.mover_y_sensar())\n",
        "  zs2.append(robot.medir_posicion()) #Se genera una nueva medición sin mover el robot.\n",
        "  actual.append(robot.x)\n",
        "\n",
        "# Matrices de Filtro de Kalman\n",
        "x = np.array([[5.0, 5]]).T\n",
        "P = np.diag([400, 400])\n",
        "F = np.array([[1, dt],\n",
        "              [0,  1]])\n",
        "H = np.array([[1., 0.],\n",
        "              [1., 0.]])\n",
        "R = np.array([[varianza_sensor, 0],\n",
        "              [0, varianza_sensor,]])\n",
        "# Q Se considera como un ruido blanco discreto\n",
        "Q = np.array([[0.25*dt**4, 0.5*dt**3],\n",
        "              [0.5*dt**3,  dt**2]])*varianza_proceso\n",
        "\n",
        "xs, z_avg = [], []\n",
        "\n",
        "for z1, z2 in zip(zs1, zs2):\n",
        "  # Predecir\n",
        "  x = F @ x\n",
        "  P = F @ P @ F.T + Q\n",
        "\n",
        "  # Actualizar\n",
        "  S = H @ P @ H.T + R\n",
        "  K = P @ H.T @ inv(S)\n",
        "  Z = np.array([[z1, z2]]).T\n",
        "  y = Z - H @ x\n",
        "  x += K @ y\n",
        "  P = P - K @ H @ P\n",
        "\n",
        "  z_avg.append((z1 + z2)/2)\n",
        "  xs.append(x[0])\n",
        "\n",
        "plt.plot(actual, ls='--', color='green', label='Desplazamiento Real')\n",
        "plt.plot(z_avg, color='red', alpha=0.5, label='Promedio de sensores')\n",
        "plt.plot(xs, color='blue', alpha=0.5, label='Filtro 2D')\n",
        "plt.plot(zs1, 'o', color='black', alpha=0.5, label='Sensor 1')\n",
        "plt.plot(zs2, 'o', color='orange', alpha=0.5, label='Sensor 2')\n",
        "plt.legend()\n",
        "plt.show()"
      ],
      "metadata": {
        "id": "uk0SUVd5agQY"
      },
      "execution_count": null,
      "outputs": []
    },
    {
      "cell_type": "markdown",
      "source": [
        "Observar como la predicción generada por el filtro de Kalman (linea azul) presenta una estimación más presiza que realizar un promedio simple de las mediciones de ambos sensores (linea roja)."
      ],
      "metadata": {
        "id": "CydrSWfUh7IU"
      }
    }
  ]
}